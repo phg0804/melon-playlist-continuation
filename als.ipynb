{
 "cells": [
  {
   "cell_type": "code",
   "execution_count": 1,
   "metadata": {
    "colab": {
     "base_uri": "https://localhost:8080/",
     "height": 68
    },
    "colab_type": "code",
    "executionInfo": {
     "elapsed": 4262,
     "status": "ok",
     "timestamp": 1594902285250,
     "user": {
      "displayName": "­박현규 / 학생 / 통계학과",
      "photoUrl": "",
      "userId": "03166239971225778037"
     },
     "user_tz": -540
    },
    "id": "KaJFRpINzx7F",
    "outputId": "d0ec3d1c-edf4-473c-f788-db960d8964ee"
   },
   "outputs": [
    {
     "name": "stdout",
     "output_type": "stream",
     "text": [
      "Requirement already satisfied: fire in /usr/local/lib/python3.6/dist-packages (0.3.1)\n",
      "Requirement already satisfied: six in /usr/local/lib/python3.6/dist-packages (from fire) (1.12.0)\n",
      "Requirement already satisfied: termcolor in /usr/local/lib/python3.6/dist-packages (from fire) (1.1.0)\n"
     ]
    }
   ],
   "source": [
    "%pip install fire"
   ]
  },
  {
   "cell_type": "code",
   "execution_count": 2,
   "metadata": {
    "colab": {
     "base_uri": "https://localhost:8080/",
     "height": 122
    },
    "colab_type": "code",
    "executionInfo": {
     "elapsed": 22434,
     "status": "ok",
     "timestamp": 1594902305256,
     "user": {
      "displayName": "­박현규 / 학생 / 통계학과",
      "photoUrl": "",
      "userId": "03166239971225778037"
     },
     "user_tz": -540
    },
    "id": "JrFIpghGeMzE",
    "outputId": "f0a284d9-1cc6-4598-a081-b55175512f64"
   },
   "outputs": [
    {
     "name": "stdout",
     "output_type": "stream",
     "text": [
      "Go to this URL in a browser: https://accounts.google.com/o/oauth2/auth?client_id=947318989803-6bn6qk8qdgf4n4g3pfee6491hc0brc4i.apps.googleusercontent.com&redirect_uri=urn%3aietf%3awg%3aoauth%3a2.0%3aoob&response_type=code&scope=email%20https%3a%2f%2fwww.googleapis.com%2fauth%2fdocs.test%20https%3a%2f%2fwww.googleapis.com%2fauth%2fdrive%20https%3a%2f%2fwww.googleapis.com%2fauth%2fdrive.photos.readonly%20https%3a%2f%2fwww.googleapis.com%2fauth%2fpeopleapi.readonly\n",
      "\n",
      "Enter your authorization code:\n",
      "··········\n",
      "Mounted at /content/gdrive/\n"
     ]
    }
   ],
   "source": [
    "from google.colab import drive\n",
    "drive.mount('/content/gdrive/')"
   ]
  },
  {
   "cell_type": "code",
   "execution_count": 8,
   "metadata": {
    "colab": {
     "base_uri": "https://localhost:8080/",
     "height": 68
    },
    "colab_type": "code",
    "executionInfo": {
     "elapsed": 3176,
     "status": "ok",
     "timestamp": 1594902595136,
     "user": {
      "displayName": "­박현규 / 학생 / 통계학과",
      "photoUrl": "",
      "userId": "03166239971225778037"
     },
     "user_tz": -540
    },
    "id": "BTy0PEcu0S8e",
    "outputId": "9a5cbdfc-8d70-49b8-821a-4c3d3b2a717a"
   },
   "outputs": [
    {
     "name": "stdout",
     "output_type": "stream",
     "text": [
      "[Errno 107] Transport endpoint is not connected: '/content/gdrive/My Drive/melon-playlist-continuation'\n",
      "/content/gdrive/My Drive/melon-playlist-continuation\n",
      "/content/gdrive/My Drive/melon-playlist-continuation\n"
     ]
    }
   ],
   "source": [
    "%cd /content/gdrive/My\\ Drive/melon-playlist-continuation\n",
    "!pwd"
   ]
  },
  {
   "cell_type": "markdown",
   "metadata": {
    "colab_type": "text",
    "id": "nXYjZnPqahnK"
   },
   "source": [
    "Music nDCG: 0.0168221\n",
    "Tag nDCG: 0.161482\n",
    "Score: 0.0385212"
   ]
  },
  {
   "cell_type": "code",
   "execution_count": 2,
   "metadata": {
    "colab": {},
    "colab_type": "code",
    "executionInfo": {
     "elapsed": 3002,
     "status": "ok",
     "timestamp": 1594902315070,
     "user": {
      "displayName": "­박현규 / 학생 / 통계학과",
      "photoUrl": "",
      "userId": "03166239971225778037"
     },
     "user_tz": -540
    },
    "id": "IRw9yRp-5oTu"
   },
   "outputs": [],
   "source": [
    "from arena_util import load_json\n",
    "from arena_util import write_json\n",
    "from arena_util import remove_seen\n",
    "from arena_util import most_popular\n",
    "import pickle\n",
    "with open('tag_id_map.pkl', 'rb') as f:\n",
    "    my_dict = pickle.load(f)\n",
    "my_dict_inv = {} # str : int\n",
    "for k, v in my_dict.items():\n",
    "    my_dict_inv[v] = k    \n"
   ]
  },
  {
   "cell_type": "markdown",
   "metadata": {
    "colab_type": "text",
    "id": "BQadNs14b7xW"
   },
   "source": [
    "2. N2 안 이용 "
   ]
  },
  {
   "cell_type": "code",
   "execution_count": 5,
   "metadata": {
    "colab": {
     "base_uri": "https://localhost:8080/",
     "height": 34
    },
    "colab_type": "code",
    "executionInfo": {
     "elapsed": 62980,
     "status": "ok",
     "timestamp": 1594902378061,
     "user": {
      "displayName": "­박현규 / 학생 / 통계학과",
      "photoUrl": "",
      "userId": "03166239971225778037"
     },
     "user_tz": -540
    },
    "id": "9f2APbYeb9ge",
    "outputId": "585924f1-f360-4420-d354-980fab5dbc22"
   },
   "outputs": [
    {
     "name": "stdout",
     "output_type": "stream",
     "text": [
      "loaded json\n"
     ]
    }
   ],
   "source": [
    "ALS = True\n",
    "\n",
    "import numpy as np\n",
    "import pandas as pd\n",
    "import arena_util as au\n",
    "import time\n",
    "from collections import Counter\n",
    "\n",
    "val_virtual = au.load_json(\"./arena_data/questions/val.json\")\n",
    "\n",
    "print(\"loaded json\")\n",
    "user_embedding = np.loadtxt(\"user.txt\")\n",
    "item_embedding = np.loadtxt(\"item.txt\")\n",
    "\n",
    "\n",
    "'''\n",
    "import pickle\n",
    "with open(\"./user300.pkl\", 'rb') as f:\n",
    "  user_embedding = pickle.load(f)\n",
    "f.close()\n",
    "with open(\"./item300.pkl\", 'rb') as f:\n",
    "  item_embedding = pickle.load(f)\n",
    "f.close()\n",
    "'''\n",
    "\n",
    "num_item = len(item_embedding)\n",
    "\n"
   ]
  },
  {
   "cell_type": "code",
   "execution_count": null,
   "metadata": {
    "colab": {},
    "colab_type": "code",
    "executionInfo": {
     "elapsed": 116880,
     "status": "aborted",
     "timestamp": 1594901442753,
     "user": {
      "displayName": "­박현규 / 학생 / 통계학과",
      "photoUrl": "",
      "userId": "03166239971225778037"
     },
     "user_tz": -540
    },
    "id": "OiQjntg0Z5xl"
   },
   "outputs": [],
   "source": [
    "'''\n",
    "import torch\n",
    "answers = []\n",
    "X_tensor = torch.FloatTensor(user_embedding)\n",
    "Y_tensor = torch.FloatTensor(item_embedding.T)\n",
    "bs = 20\n",
    "with open(\"./tmp.txt\", 'w') as f:\n",
    "    if torch.cuda.is_available():\n",
    "        x = X_tensor.to(\"cuda\")\n",
    "        y = Y_tensor.to(\"cuda\")\n",
    "        iter = (x.shape[0] + bs - 1) // bs\n",
    "        for i in range(iter):\n",
    "            results = torch.mm(x[i*bs:(i+1)*bs,], y)\n",
    "            _, indices = torch.sort(results, descending=True)\n",
    "            for j in range(bs):\n",
    "                try:\n",
    "                    np.savetxt(f, indices[j,:100].cpu().numpy(), newline = \" \", fmt=\"%d\")                    \n",
    "                except:\n",
    "                    break\n",
    "                f.write(\"\\n\")\n",
    "    else:\n",
    "        print(\"not GPU mode\")\n",
    "f.close()\n",
    "with open(\"./tmp.txt\", 'r') as f:\n",
    "    for i in range(X_tensor.shape[0]):\n",
    "        inp = f.readline()\n",
    "        answers.append({\n",
    "            \"id\": val_virtual[i][\"id\"],\n",
    "            \"songs\": list(map(int, inp.split())),\n",
    "            #\"songs\": [int(my_dict_inv[int(_)]) for _ in inp.split()],\n",
    "            \"tags\": [\"1\", \"2\", \"3\", \"4\", \"5\", \"6\", \"7\", \"8\", \"9\", \"10\"],\n",
    "        })\n",
    "f.close()\n",
    "'''"
   ]
  },
  {
   "cell_type": "code",
   "execution_count": null,
   "metadata": {
    "colab": {},
    "colab_type": "code",
    "executionInfo": {
     "elapsed": 116435,
     "status": "aborted",
     "timestamp": 1594901442754,
     "user": {
      "displayName": "­박현규 / 학생 / 통계학과",
      "photoUrl": "",
      "userId": "03166239971225778037"
     },
     "user_tz": -540
    },
    "id": "olRQN9_dejqn"
   },
   "outputs": [],
   "source": [
    "'''\n",
    "import torch\n",
    "X_tensor = torch.FloatTensor(user_embedding)\n",
    "print(X_tensor.shape)\n",
    "Y1_tensor = torch.FloatTensor(item_embedding.T[:,:707989])\n",
    "print(Y1_tensor.shape)\n",
    "Y2_tensor = torch.FloatTensor(item_embedding.T[:,707989:738186])\n",
    "bs = 20\n",
    "with open(\"./tmp1.txt\", 'w') as f:\n",
    "    if torch.cuda.is_available():\n",
    "        x = X_tensor.to(\"cuda\")\n",
    "        y1 = Y1_tensor.to(\"cuda\")\n",
    "        iter = (x.shape[0] + bs - 1) // bs\n",
    "        for i in range(iter):\n",
    "            results = torch.mm(x[i*bs:(i+1)*bs,], y1)\n",
    "            _, indices = torch.sort(results, descending=True)\n",
    "            for j in range(bs):\n",
    "                try:\n",
    "                    np.savetxt(f, indices[j,:100].cpu().numpy(), newline = \" \", fmt=\"%d\")                    \n",
    "                except:\n",
    "                    break\n",
    "                f.write(\"\\n\")\n",
    "    else:\n",
    "        print(\"not GPU mode\")\n",
    "f.close()\n",
    "'''"
   ]
  },
  {
   "cell_type": "markdown",
   "metadata": {
    "colab_type": "text",
    "id": "biVjm7kJp_ag"
   },
   "source": [
    "tag 이어붙인 버전"
   ]
  },
  {
   "cell_type": "code",
   "execution_count": null,
   "metadata": {
    "colab": {},
    "colab_type": "code",
    "executionInfo": {
     "elapsed": 115233,
     "status": "aborted",
     "timestamp": 1594901442755,
     "user": {
      "displayName": "­박현규 / 학생 / 통계학과",
      "photoUrl": "",
      "userId": "03166239971225778037"
     },
     "user_tz": -540
    },
    "id": "sqCzvDiSqCnX"
   },
   "outputs": [],
   "source": [
    "'''\n",
    "import torch\n",
    "X_tensor = torch.FloatTensor(user_embedding)\n",
    "print(X_tensor.shape)\n",
    "Y1_tensor = torch.FloatTensor(item_embedding.T[:,:707989])\n",
    "print(Y1_tensor.shape)\n",
    "Y2_tensor = torch.FloatTensor(item_embedding.T[:,707989:738186])\n",
    "bs = 20\n",
    "with open(\"./tmp1.txt\", 'w') as f:\n",
    "    if torch.cuda.is_available():\n",
    "        x = X_tensor.to(\"cuda\")\n",
    "        y1 = Y1_tensor.to(\"cuda\")\n",
    "        iter = (x.shape[0] + bs - 1) // bs\n",
    "        for i in range(iter):\n",
    "            results = torch.mm(x[i*bs:(i+1)*bs,], y1)\n",
    "            _, indices = torch.sort(results, descending=True)\n",
    "            for j in range(bs):\n",
    "                try:\n",
    "                    np.savetxt(f, indices[j,:200].cpu().numpy(), newline = \" \", fmt=\"%d\")                    \n",
    "                except:\n",
    "                    break\n",
    "                f.write(\"\\n\")\n",
    "    else:\n",
    "        print(\"not GPU mode\")\n",
    "f.close()\n",
    "with open(\"./tmp2.txt\", 'w') as f:\n",
    "    if torch.cuda.is_available():\n",
    "        x = X_tensor.to(\"cuda\")\n",
    "        y2 = Y2_tensor.to(\"cuda\")\n",
    "        iter = (x.shape[0] + bs - 1) // bs\n",
    "        for i in range(iter):\n",
    "            results = torch.mm(x[i*bs:(i+1)*bs,], y2)\n",
    "            _, indices = torch.sort(results, descending=True)\n",
    "            for j in range(bs):\n",
    "                try:\n",
    "                    np.savetxt(f, indices[j,:20].cpu().numpy(), newline = \" \", fmt=\"%d\")                    \n",
    "                except:\n",
    "                    break\n",
    "                f.write(\"\\n\")\n",
    "    else:\n",
    "        print(\"not GPU mode\")\n",
    "f.close()\n",
    "\n",
    "\n",
    "\n",
    "answers = []\n",
    "with open(\"./tmp1.txt\", 'r') as f:\n",
    "    for i in range(X_tensor.shape[0]):\n",
    "        inp = f.readline()\n",
    "        answers.append({\n",
    "            \"id\": val_virtual[i][\"id\"],\n",
    "            \"songs\": list(map(int, inp.split())),\n",
    "            #\"songs\": [int(my_dict_inv[int(_)]) for _ in inp.split()],\n",
    "            \"tags\": [\"1\", \"2\", \"3\", \"4\", \"5\", \"6\", \"7\", \"8\", \"9\", \"10\"],\n",
    "        })\n",
    "f.close()\n",
    "with open(\"./tmp2.txt\", 'r') as f:\n",
    "    for i in range(X_tensor.shape[0]):\n",
    "        inp = f.readline()\n",
    "        answers[i][\"tags\"] = list(map(lambda x: my_dict_inv[int(x)], inp.split()))\n",
    "    \n",
    "f.close()\n",
    "'''"
   ]
  },
  {
   "cell_type": "code",
   "execution_count": 6,
   "metadata": {
    "colab": {
     "base_uri": "https://localhost:8080/",
     "height": 68
    },
    "colab_type": "code",
    "executionInfo": {
     "elapsed": 110077,
     "status": "ok",
     "timestamp": 1594902578279,
     "user": {
      "displayName": "­박현규 / 학생 / 통계학과",
      "photoUrl": "",
      "userId": "03166239971225778037"
     },
     "user_tz": -540
    },
    "id": "c05RjnJBxarT",
    "outputId": "bbd48467-3379-4ef9-8f59-dc0f4afa0bf8"
   },
   "outputs": [
    {
     "name": "stdout",
     "output_type": "stream",
     "text": [
      "torch.Size([23015, 100])\n",
      "torch.Size([100, 707989])\n",
      "23015\n"
     ]
    }
   ],
   "source": [
    "import torch\n",
    "song = load_json(\"./res/song_meta.json\")\n",
    "X_tensor = torch.FloatTensor(user_embedding)\n",
    "print(X_tensor.shape)\n",
    "Y1_tensor = torch.FloatTensor(item_embedding.T[:,:707989])\n",
    "print(Y1_tensor.shape)\n",
    "Y2_tensor = torch.FloatTensor(item_embedding.T[:,707989:738186])\n",
    "bs = 20\n",
    "cnt = 0\n",
    "with open(\"./tmp1.txt\", 'w') as f:\n",
    "    if torch.cuda.is_available():\n",
    "        x = X_tensor.to(\"cuda\")\n",
    "        y1 = Y1_tensor.to(\"cuda\")\n",
    "        iter = (x.shape[0] + bs - 1) // bs\n",
    "        for i in range(iter):\n",
    "            results = torch.mm(x[i*bs:(i+1)*bs,], y1)\n",
    "            _, indices = torch.sort(results, descending=True)\n",
    "            indices = indices.cpu().numpy()\n",
    "            for j in range(bs):\n",
    "                try:\n",
    "                    target = []\n",
    "                    year = int(val_virtual[cnt]['updt_date'][:4])\n",
    "                except:\n",
    "                    print(cnt)\n",
    "                    break\n",
    "                for so in indices[j,:]:\n",
    "                    y = int(song[so]['issue_date'][:4])\n",
    "                    if y <= year:\n",
    "                        target.append(so)\n",
    "                    if(len(target)==200):\n",
    "                        break\n",
    "                try:\n",
    "                    if len(target)==200:\n",
    "                        np.savetxt(f, target, newline = \" \", fmt=\"%d\")                    \n",
    "                    else:\n",
    "                        np.savetxt(f, indices[j,:200], newline = \" \", fmt=\"%d\")\n",
    "                        print(int(val_virtual[cnt]['updt_date'][:4]))\n",
    "                except:\n",
    "                    break\n",
    "                f.write(\"\\n\")\n",
    "                cnt += 1\n",
    "    else:\n",
    "        print(\"not GPU mode\")\n",
    "f.close()\n",
    "with open(\"./tmp2.txt\", 'w') as f:\n",
    "    if torch.cuda.is_available():\n",
    "        x = X_tensor.to(\"cuda\")\n",
    "        y2 = Y2_tensor.to(\"cuda\")\n",
    "        iter = (x.shape[0] + bs - 1) // bs\n",
    "        for i in range(iter):\n",
    "            results = torch.mm(x[i*bs:(i+1)*bs,], y2)\n",
    "            _, indices = torch.sort(results, descending=True)\n",
    "            for j in range(bs):\n",
    "                try:\n",
    "                    np.savetxt(f, indices[j,:20].cpu().numpy(), newline = \" \", fmt=\"%d\")                    \n",
    "                except:\n",
    "                    break\n",
    "                f.write(\"\\n\")\n",
    "    else:\n",
    "        print(\"not GPU mode\")\n",
    "f.close()\n",
    "\n",
    "\n",
    "\n",
    "answers = []\n",
    "with open(\"./tmp1.txt\", 'r') as f:\n",
    "    for i in range(X_tensor.shape[0]):\n",
    "        inp = f.readline()\n",
    "        answers.append({\n",
    "            \"id\": val_virtual[i][\"id\"],\n",
    "            \"songs\": list(map(int, inp.split())),\n",
    "            #\"songs\": [int(my_dict_inv[int(_)]) for _ in inp.split()],\n",
    "            \"tags\": [\"1\", \"2\", \"3\", \"4\", \"5\", \"6\", \"7\", \"8\", \"9\", \"10\"],\n",
    "        })\n",
    "f.close()\n",
    "with open(\"./tmp2.txt\", 'r') as f:\n",
    "    for i in range(X_tensor.shape[0]):\n",
    "        inp = f.readline()\n",
    "        answers[i][\"tags\"] = list(map(lambda x: my_dict_inv[int(x)], inp.split()))\n",
    "    \n",
    "f.close()\n"
   ]
  },
  {
   "cell_type": "code",
   "execution_count": 7,
   "metadata": {
    "colab": {
     "base_uri": "https://localhost:8080/",
     "height": 266
    },
    "colab_type": "code",
    "executionInfo": {
     "elapsed": 908,
     "status": "error",
     "timestamp": 1594902585531,
     "user": {
      "displayName": "­박현규 / 학생 / 통계학과",
      "photoUrl": "",
      "userId": "03166239971225778037"
     },
     "user_tz": -540
    },
    "id": "g4QH7eejccU8",
    "outputId": "4d2837e4-9151-4eae-b082-f88e9ed01f68"
   },
   "outputs": [
    {
     "ename": "OSError",
     "evalue": "ignored",
     "output_type": "error",
     "traceback": [
      "\u001b[0;31m---------------------------------------------------------------------------\u001b[0m",
      "\u001b[0;31mOSError\u001b[0m                                   Traceback (most recent call last)",
      "\u001b[0;32m<ipython-input-7-50f8fdc953a4>\u001b[0m in \u001b[0;36m<module>\u001b[0;34m()\u001b[0m\n\u001b[1;32m     25\u001b[0m     \u001b[0;32mreturn\u001b[0m \u001b[0mres\u001b[0m\u001b[0;34m\u001b[0m\u001b[0;34m\u001b[0m\u001b[0m\n\u001b[1;32m     26\u001b[0m \u001b[0;34m\u001b[0m\u001b[0m\n\u001b[0;32m---> 27\u001b[0;31m \u001b[0mtrain\u001b[0m \u001b[0;34m=\u001b[0m \u001b[0mau\u001b[0m\u001b[0;34m.\u001b[0m\u001b[0mload_json\u001b[0m\u001b[0;34m(\u001b[0m\u001b[0;34m\"./arena_data/orig/train.json\"\u001b[0m\u001b[0;34m)\u001b[0m\u001b[0;34m\u001b[0m\u001b[0;34m\u001b[0m\u001b[0m\n\u001b[0m\u001b[1;32m     28\u001b[0m \u001b[0msong_meta_json\u001b[0m \u001b[0;34m=\u001b[0m \u001b[0mload_json\u001b[0m\u001b[0;34m(\u001b[0m\u001b[0;34m\"./res/song_meta.json\"\u001b[0m\u001b[0;34m)\u001b[0m\u001b[0;34m\u001b[0m\u001b[0;34m\u001b[0m\u001b[0m\n\u001b[1;32m     29\u001b[0m \u001b[0msong_meta\u001b[0m \u001b[0;34m=\u001b[0m \u001b[0;34m{\u001b[0m\u001b[0mint\u001b[0m\u001b[0;34m(\u001b[0m\u001b[0msong\u001b[0m\u001b[0;34m[\u001b[0m\u001b[0;34m\"id\"\u001b[0m\u001b[0;34m]\u001b[0m\u001b[0;34m)\u001b[0m\u001b[0;34m:\u001b[0m \u001b[0msong\u001b[0m \u001b[0;32mfor\u001b[0m \u001b[0msong\u001b[0m \u001b[0;32min\u001b[0m \u001b[0msong_meta_json\u001b[0m\u001b[0;34m}\u001b[0m\u001b[0;34m\u001b[0m\u001b[0;34m\u001b[0m\u001b[0m\n",
      "\u001b[0;32m/content/gdrive/My Drive/melon-playlist-continuation/arena_util.py\u001b[0m in \u001b[0;36mload_json\u001b[0;34m(fname)\u001b[0m\n",
      "\u001b[0;31mOSError\u001b[0m: [Errno 107] Transport endpoint is not connected: './arena_data/orig/train.json'"
     ]
    }
   ],
   "source": [
    "\n",
    "# -*- coding: utf-8 -*-\n",
    "from collections import Counter\n",
    "\n",
    "#import fire\n",
    "from tqdm import tqdm\n",
    "\n",
    "from arena_util import load_json\n",
    "from arena_util import write_json\n",
    "from arena_util import remove_seen\n",
    "from arena_util import most_popular\n",
    "\n",
    "\n",
    "def _song_mp_per_genre(song_meta, global_mp):\n",
    "    res = {}\n",
    "\n",
    "    for sid, song in song_meta.items():\n",
    "        for genre in song['song_gn_gnr_basket']:\n",
    "            res.setdefault(genre, []).append(sid)\n",
    "\n",
    "    for genre, sids in res.items():\n",
    "        res[genre] = Counter({k: global_mp.get(int(k), 0) for k in sids})\n",
    "        res[genre] = [k for k, v in res[genre].most_common(200)]\n",
    "\n",
    "    return res\n",
    "\n",
    "train = au.load_json(\"./arena_data/orig/train.json\")\n",
    "song_meta_json = load_json(\"./res/song_meta.json\")\n",
    "song_meta = {int(song[\"id\"]): song for song in song_meta_json}\n",
    "song_mp_counter, song_mp = most_popular(train, \"songs\", 200)\n",
    "tag_mp_counter, tag_mp = most_popular(train, \"tags\", 100)\n",
    "song_mp_per_genre = _song_mp_per_genre(song_meta, song_mp_counter)\n",
    "\n",
    "cnt = 0\n",
    "for v in val_virtual:\n",
    "    genre_counter = Counter()\n",
    "    for sid in v[\"songs\"]:\n",
    "        for genre in song_meta[sid][\"song_gn_gnr_basket\"]:\n",
    "            genre_counter.update({genre: 1})\n",
    "\n",
    "    top_genre = genre_counter.most_common(1)\n",
    "    if len(top_genre) != 0:\n",
    "        cur_songs = song_mp_per_genre[top_genre[0][0]]\n",
    "    else:\n",
    "        cur_songs = song_mp\n",
    "\n",
    "    if len(v[\"songs\"])==0 and len(v[\"tags\"])==0:\n",
    "      answers[cnt] = {\n",
    "        \"id\": v[\"id\"],\n",
    "        \"songs\": remove_seen(v[\"songs\"], cur_songs)[:100],\n",
    "      \t\"tags\": remove_seen(v[\"tags\"], tag_mp)[:10],\n",
    "        }\n",
    "    else:\n",
    "        answers[cnt]['songs'] = remove_seen(v['songs'], answers[cnt]['songs'])[:100]\n",
    "        answers[cnt]['tags'] = remove_seen(v['tags'], answers[cnt]['tags'])[:10]\n",
    "    cnt += 1\n",
    "      \n",
    "write_json(answers, \"./results/myans.json\")\n"
   ]
  },
  {
   "cell_type": "code",
   "execution_count": null,
   "metadata": {
    "colab": {},
    "colab_type": "code",
    "executionInfo": {
     "elapsed": 113128,
     "status": "aborted",
     "timestamp": 1594901442757,
     "user": {
      "displayName": "­박현규 / 학생 / 통계학과",
      "photoUrl": "",
      "userId": "03166239971225778037"
     },
     "user_tz": -540
    },
    "id": "voCq-XjUcj20"
   },
   "outputs": [],
   "source": [
    "run evaluate.py evaluate --gt_fname=arena_data/answers/val.json --rec_fname=arena_data/results/myans.json"
   ]
  },
  {
   "cell_type": "code",
   "execution_count": null,
   "metadata": {
    "colab": {},
    "colab_type": "code",
    "id": "mgTObwCsLVlP"
   },
   "outputs": [],
   "source": [
    "import arena_util as au\n",
    "v= au.load_json('./arena_data/questions/val.json')\n",
    "st = {}\n",
    "f = open(\"./ndcg.txt\", 'r')\n",
    "for i in range(len(v)):\n",
    "    nd = float(f.readline())\n",
    "    try:\n",
    "        st[(len(v[i]['songs']), len(v[i]['tags']))].append(nd)\n",
    "    except:\n",
    "        st[(len(v[i]['songs']), len(v[i]['tags']))] = [nd]\n",
    "\n",
    "for i in range(101):\n",
    "  print(\"노래%3d개\"%(i), end = \" \" )\n",
    "  for j in range(11):\n",
    "    try:\n",
    "      print(\"%.2lf\"%(np.mean(st[(i, j)])), end=\" \")\n",
    "    except:\n",
    "      print(\" x  \", end=\" \")\n",
    "  print()"
   ]
  },
  {
   "cell_type": "markdown",
   "metadata": {
    "colab_type": "text",
    "id": "I3m6o1NRxlmh"
   },
   "source": [
    "K epoch conf lambda\n",
    "\n",
    "\n",
    "100/20/500//30\n",
    "Music nDCG: 0.169506\n",
    "Tag nDCG: 0.313431\n",
    "Score: 0.191095\n",
    "\n",
    "100/20/400//30\n",
    "Music nDCG: 0.170198\n",
    "Tag nDCG: 0.322749\n",
    "Score: 0.193081\n",
    "\n",
    "100/20/300//30\n",
    "Music nDCG: 0.171067\n",
    "Tag nDCG: 0.335305\n",
    "Score: 0.195703\n",
    "\n",
    "100/20/200//30\n",
    "Music nDCG: 0.171333\n",
    "Tag nDCG: 0.348394\n",
    "Score: 0.197892\n",
    "\n",
    "100/20/500//3\n",
    "Music nDCG: 0.171311\n",
    "Tag nDCG: 0.334978\n",
    "Score: 0.195861\n",
    "\n",
    "100/20/400//3\n",
    "Music nDCG: 0.172788\n",
    "Tag nDCG: 0.352987\n",
    "Score: 0.199818\n",
    "\n",
    "100/20/200//3\n",
    "Music nDCG: 0.172383\n",
    "Tag nDCG: 0.366629\n",
    "Score: 0.201519\n",
    "\n",
    "100/20/100//3\n",
    "Music nDCG: 0.170726\n",
    "Tag nDCG: 0.385456\n",
    "Score: 0.202935\n",
    "\n",
    "100/20/50//3\n",
    "Music nDCG: 0.166678\n",
    "Tag nDCG: 0.400653\n",
    "Score: 0.201774\n",
    "\n",
    "100/20/10//3\n",
    "Music nDCG: 0.151713\n",
    "Tag nDCG: 0.3987\n",
    "Score: 0.188761\n",
    "\n",
    "100/20/50//0.5\n",
    "Music nDCG: 0.167075\n",
    "Tag nDCG: 0.401824\n",
    "Score: 0.202287\n",
    "\n",
    "100/20/100//0.5\n",
    "Music nDCG: 0.170975\n",
    "Tag nDCG: 0.390399\n",
    "Score: 0.203889\n",
    "\n",
    "100/20/200//0.5\n",
    "Music nDCG: 0.173052\n",
    "Tag nDCG: 0.371195\n",
    "Score: 0.202773\n",
    "\n",
    "100/20/300//0.5\n",
    "\n",
    "\n",
    "\n",
    "---------실수한것들 (중복 안뺌)------------\n",
    "\n",
    "\n",
    "\n",
    "500/20/30/30\n",
    "0.165881 0.346413 0.192961\n",
    "\n",
    "200/10/5/30\n",
    "0.133178 0.314459 0.16037\n",
    "\n",
    "200/10/30/30\n",
    "0.153138 0.348655 0.182465\n",
    "\n",
    "200/10/50/30\n",
    "0.156847 0.349337 0.185721\n",
    "\n",
    "200/10/100/30\n",
    "0.161005 0.339156 0.187728\n",
    "\n",
    "200/20/100/30\n",
    "0.161625 0.348574 0.189668\n",
    "\n",
    "200/10/200/30\n",
    "0.162208 0.313557 0.184911\n",
    "\n",
    "200/12/300/30\n",
    "0.162708 0.300084 0.183314\n",
    "\n",
    "200/10/30/3\n",
    "0.1535 0.34694 0.182516\n",
    "\n",
    "200/15/400/30\n",
    "0.1633 0.293242 0.182791\n",
    "\n",
    "200/20/800/30\n",
    "0.161178 0.275593 0.17834"
   ]
  },
  {
   "cell_type": "code",
   "execution_count": null,
   "metadata": {
    "colab": {},
    "colab_type": "code",
    "id": "VuEoJ9zGp0FL"
   },
   "outputs": [],
   "source": [
    "# deprecated\n",
    "'''\n",
    "%pip install n2\n",
    "import numpy as np\n",
    "import pandas as pd\n",
    "import arena_util as au\n",
    "import time\n",
    "from collections import Counter\n",
    "from n2 import HnswIndex\n",
    "\n",
    "val_virtual = au.load_json(\"./arena_data/questions/val.json\")\n",
    "\n",
    "print(\"loaded json\")\n",
    "\n",
    "user_embedding = np.loadtxt(\"user.txt\")\n",
    "item_embedding = np.loadtxt(\"item.txt\")\n",
    "\n",
    "num_item = len(item_embedding)\n",
    "similar = [[] for _ in range(num_item)]\n",
    "\n",
    "print(\"setup\")\n",
    "\n",
    "index = HnswIndex(100) # num_factor\n",
    "\n",
    "for song in item_embedding:\n",
    "    index.add_data(song)\n",
    "\n",
    "index.build(m=8, n_threads=4)\n",
    "\n",
    "print(\"index built\")\n",
    "\n",
    "for i in range(num_item):\n",
    "    similar[i] = index.search_by_id(i, 150)\n",
    "\n",
    "print(\"index searched\")\n",
    "\n",
    "\n",
    "# -*- coding: utf-8 -*-\n",
    "from collections import Counter\n",
    "\n",
    "#import fire\n",
    "from tqdm import tqdm\n",
    "\n",
    "from arena_util import load_json\n",
    "from arena_util import write_json\n",
    "from arena_util import remove_seen\n",
    "from arena_util import most_popular\n",
    "\n",
    "\n",
    "def _song_mp_per_genre(song_meta, global_mp):\n",
    "    res = {}\n",
    "\n",
    "    for sid, song in song_meta.items():\n",
    "        for genre in song['song_gn_gnr_basket']:\n",
    "            res.setdefault(genre, []).append(sid)\n",
    "\n",
    "    for genre, sids in res.items():\n",
    "        res[genre] = Counter({k: global_mp.get(int(k), 0) for k in sids})\n",
    "        res[genre] = [k for k, v in res[genre].most_common(200)]\n",
    "\n",
    "    return res\n",
    "\n",
    "train = au.load_json(\"./arena_data/orig/train.json\")\n",
    "song_meta_json = load_json(\"./res/song_meta.json\")\n",
    "song_meta = {int(song[\"id\"]): song for song in song_meta_json}\n",
    "song_mp_counter, song_mp = most_popular(train, \"songs\", 200)\n",
    "tag_mp_counter, tag_mp = most_popular(train, \"tags\", 100)\n",
    "song_mp_per_genre = _song_mp_per_genre(song_meta, song_mp_counter)\n",
    "\n",
    "answers = []\n",
    "for v in val_virtual:\n",
    "    c = Counter()\n",
    "    for sid in v[\"songs\"]:\n",
    "        c.update(similar[sid])\n",
    "    genre_counter = Counter()\n",
    "    for sid in v[\"songs\"]:\n",
    "        for genre in song_meta[sid][\"song_gn_gnr_basket\"]:\n",
    "            genre_counter.update({genre: 1})\n",
    "\n",
    "    top_genre = genre_counter.most_common(1)\n",
    "    if len(top_genre) != 0:\n",
    "        cur_songs = song_mp_per_genre[top_genre[0][0]]\n",
    "    else:\n",
    "        cur_songs = song_mp\n",
    "\n",
    "    answers.append({\n",
    "        \"id\": v[\"id\"],\n",
    "        \"songs\": remove_seen(v[\"songs\"], [a for (a, b) in c.most_common(200)])[:100],\n",
    "      \t\"tags\": [\"1\", \"2\", \"3\", \"4\", \"5\", \"6\", \"7\", \"8\", \"9\", \"10\"],\n",
    "        })\n",
    "    if len(answers[-1][\"songs\"])<100:\n",
    "      answers.pop()\n",
    "      answers.append({\n",
    "        \"id\": v[\"id\"],\n",
    "        \"songs\": remove_seen(v[\"songs\"], cur_songs)[:100],\n",
    "      \t\"tags\": remove_seen(v[\"tags\"], tag_mp)[:10],\n",
    "        })\n",
    "\n",
    "      \n",
    "write_json(answers, \"./results/myans.json\")\n",
    "\n",
    "'''"
   ]
  }
 ],
 "metadata": {
  "accelerator": "GPU",
  "colab": {
   "authorship_tag": "ABX9TyMFe1Y+U/IdZcbzecnT2Zxe",
   "collapsed_sections": [],
   "mount_file_id": "1waNRl1WeYEoxF1BEBjVAD7nTUKWi0nF3",
   "name": "Untitled0.ipynb",
   "provenance": []
  },
  "kernelspec": {
   "display_name": "Python 3",
   "language": "python",
   "name": "python3"
  },
  "language_info": {
   "codemirror_mode": {
    "name": "ipython",
    "version": 3
   },
   "file_extension": ".py",
   "mimetype": "text/x-python",
   "name": "python",
   "nbconvert_exporter": "python",
   "pygments_lexer": "ipython3",
   "version": "3.7.3"
  }
 },
 "nbformat": 4,
 "nbformat_minor": 1
}
