{
 "cells": [
  {
   "cell_type": "code",
   "execution_count": 92,
   "metadata": {
    "scrolled": true
   },
   "outputs": [
    {
     "name": "stdout",
     "output_type": "stream",
     "text": [
      "0\n",
      "0.09042978286743164\n",
      "5000\n",
      "4.684004068374634\n",
      "10000\n",
      "13.426935911178589\n",
      "15000\n",
      "24.3113009929657\n",
      "20000\n",
      "35.58508276939392\n",
      "25000\n",
      "47.24067282676697\n",
      "30000\n",
      "59.16255784034729\n",
      "35000\n",
      "71.2444007396698\n",
      "40000\n",
      "83.48114085197449\n",
      "45000\n",
      "95.86293292045593\n",
      "50000\n",
      "108.30742502212524\n",
      "55000\n",
      "120.83348989486694\n",
      "60000\n",
      "133.4859960079193\n",
      "65000\n",
      "146.6499228477478\n",
      "70000\n",
      "159.30257773399353\n",
      "75000\n",
      "171.9943127632141\n",
      "80000\n",
      "184.74371981620789\n",
      "85000\n",
      "197.47611784934998\n",
      "90000\n",
      "210.2464439868927\n",
      "95000\n",
      "223.05680990219116\n",
      "100000\n",
      "235.92966604232788\n",
      "105000\n",
      "248.78036499023438\n",
      "110000\n",
      "261.74396991729736\n",
      "115000\n",
      "274.7077040672302\n",
      "120000\n",
      "288.10651779174805\n",
      "125000\n",
      "564.787838935852\n",
      "130000\n",
      "579.5762028694153\n",
      "135000\n",
      "592.590078830719\n",
      "140000\n",
      "606.2182357311249\n",
      "145000\n",
      "620.0229790210724\n",
      "150000\n",
      "633.553827047348\n",
      "155000\n",
      "646.764405965805\n",
      "160000\n",
      "659.7827188968658\n",
      "165000\n",
      "672.7567179203033\n",
      "170000\n",
      "686.1312696933746\n",
      "175000\n",
      "699.1459858417511\n",
      "180000\n",
      "712.1719388961792\n",
      "185000\n",
      "725.1720538139343\n",
      "190000\n",
      "739.3196640014648\n",
      "195000\n",
      "752.7117998600006\n",
      "200000\n",
      "767.8182740211487\n",
      "205000\n",
      "782.8156909942627\n",
      "210000\n",
      "797.0898218154907\n",
      "215000\n",
      "812.6793010234833\n",
      "220000\n",
      "826.5098338127136\n",
      "converting started\n",
      "0\n",
      "50000\n",
      "100000\n",
      "150000\n",
      "200000\n"
     ]
    }
   ],
   "source": [
    "import pandas as pd\n",
    "import numpy as np\n",
    "import time\n",
    "from pandas import Series, DataFrame\n",
    "data = pd.read_csv('song_tag_map.csv')\n",
    "\n",
    "all_tags = []\n",
    "\n",
    "start = time.time()\n",
    "\n",
    "for index, row in data.iterrows():\n",
    "    all_tags = list(set(all_tags + eval(row['tags'])))\n",
    "    if((index % 5000) == 0):\n",
    "        print(index)\n",
    "        print(time.time()- start)\n",
    "        \n",
    "all_tags_dict = dict(zip(all_tags,range(len(all_tags))))\n",
    "\n",
    "print('converting started')\n",
    "\n",
    "data_id = DataFrame({'song' : [],'tag' : []})\n",
    "\n",
    "for index, row in data.iterrows():\n",
    "    song = row['songs']\n",
    "    tags_str = eval(row['tags'])\n",
    "    tags_int = []\n",
    "    for tag_name in tags_str:\n",
    "        tags_int.append(all_tags_dict[tag_name])\n",
    "    data_id = data_id.append({'song' : song, 'tag' : tags_int}, ignore_index = True)\n",
    "    if((index % 50000) == 0):\n",
    "        print(index)"
   ]
  },
  {
   "cell_type": "code",
   "execution_count": 93,
   "metadata": {},
   "outputs": [],
   "source": [
    "data_id.to_csv(\"tag_id.csv\")\n",
    "\n",
    "\n"
   ]
  },
  {
   "cell_type": "code",
   "execution_count": 96,
   "metadata": {},
   "outputs": [
    {
     "data": {
      "text/plain": [
       "28742"
      ]
     },
     "execution_count": 96,
     "metadata": {},
     "output_type": "execute_result"
    }
   ],
   "source": [
    "len(all_tags)\n"
   ]
  },
  {
   "cell_type": "code",
   "execution_count": null,
   "metadata": {},
   "outputs": [],
   "source": []
  }
 ],
 "metadata": {
  "kernelspec": {
   "display_name": "Python 3",
   "language": "python",
   "name": "python3"
  },
  "language_info": {
   "codemirror_mode": {
    "name": "ipython",
    "version": 3
   },
   "file_extension": ".py",
   "mimetype": "text/x-python",
   "name": "python",
   "nbconvert_exporter": "python",
   "pygments_lexer": "ipython3",
   "version": "3.7.3"
  }
 },
 "nbformat": 4,
 "nbformat_minor": 2
}
