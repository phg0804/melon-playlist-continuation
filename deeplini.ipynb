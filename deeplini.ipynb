{
 "cells": [
  {
   "cell_type": "code",
   "execution_count": 2,
   "metadata": {},
   "outputs": [],
   "source": [
    "import numpy as np\n",
    "import pandas as pd"
   ]
  },
  {
   "cell_type": "code",
   "execution_count": null,
   "metadata": {},
   "outputs": [],
   "source": [
    "def answer(songs_know, lsh):\n",
    "    # ------------ input -------------\n",
    "    # songs_know : playlist에 있는 songs들을 담은 list\n",
    "    \n",
    "    \n",
    "    candidate_songs = dict()\n",
    "    \n",
    "    for song in songs_know:\n",
    "        \n",
    "        #함수 이름 앵버가 짜면 바꿔야 함\n",
    "        toadd = lsh.sim_items_dic(song)\n",
    "        \n",
    "        # candidate_songs에서 얼만큼 언급되었는지 세어준다\n",
    "        for it in toadd:\n",
    "            if(it in candidate_songs):\n",
    "                candidate_songs[it] += 1\n",
    "            else: #처음 등장한 녀석\n",
    "                candidate_songs[it] = 1\n",
    "    \n",
    "    candidate_songs = dict(sorted(candidate_songs.items(), reverse=True, key=lambda item: item[1]))\n",
    "\n",
    "    if(len(candidate_songs) < 100):\n",
    "        print(\"candidate les than 100\")\n",
    "        real_candidate = list(candidate_songs.keys())\n",
    "    else:\n",
    "        real_candidate = list(candidate_songs.keys())[0:99]\n",
    "    \n",
    "    #for debugging 대충 몇 개정도씩 들어있는지?\n",
    "    #print(sum(list(candidate_songs.values()))/ len(list(candidate_songs.values())))\n",
    "    \n",
    "    return real_candidate"
   ]
  },
  {
   "cell_type": "code",
   "execution_count": null,
   "metadata": {},
   "outputs": [],
   "source": [
    "# Numpy Matrix\n",
    "# Column : Each song\n",
    "# Row : Shingles\n",
    "\n",
    "\n",
    "\n",
    "# Instance variables :\n",
    "# n : the number of total songs\n",
    "# s : the number of signatures\n",
    "# r : the number of signatures in a single band\n",
    "# b : the number of bands (s // r)\n",
    "# perm : permutated np array\n",
    "# mhdata : minhashed (signature array) \n",
    "#          row : signatures / columns : songs\n",
    "# ---------------------------------------------------------------\n",
    "class LSH() :\n",
    "    import numpy as np \n",
    "    # Initializer\n",
    "    # Input\n",
    "    # data : pandas dataframe for song - shingles\n",
    "    #        row : songs / column : array of tags for each song\n",
    "    # sig_n : the number of signatures\n",
    "    # band_r : the number of signatures in a single band\n",
    "    # bucket_sz : bucket size for LSH\n",
    "    # -----------------------------------------------------------\n",
    "    def __init__(self, data, sig_n, band_r) :\n",
    "        self.data = data\n",
    "        self.n = data.shape[0]\n",
    "        self.s = sig_n\n",
    "        self.r = band_r\n",
    "        self.bucket_sz = min(500, 1 << self.r)\n",
    "        if self.s%self.r != 0 :\n",
    "            print(\"The number of signatures is not divided by the number of band_r.\")\n",
    "            print(\"Warning : Remainder signatures will be ignored\")\n",
    "            self.s = self.s - self.s%self.r\n",
    "        self.b  = self.s // self.r\n",
    "        self.song_dic = dict(zip(self.data.iloc[:,0],range(len(self.data.iloc[:,0]))))   #index might change\n",
    "\n",
    "        \n",
    "    # permutation\n",
    "    # save random shuffle of 1:n \n",
    "    def permute(self, tag_n) :\n",
    "        self.perm = np.random.permutation(tag_n)\n",
    "        \n",
    "    # This function uses permutation to hash, outputs the minimum value\n",
    "    # tag_n : Total number of tags (required for permutation)\n",
    "    # This algorithm could be improved using\n",
    "    # https://datalab.snu.ac.kr/~ukang/courses/19S-DM/L5-lsh.pdf page 42 later\n",
    "    def minhash(self, tag_n = None) :\n",
    "        # result matrix\n",
    "        # row : signatures / columns : songs\n",
    "        sig_mat = np.zeros((self.s, self.n))\n",
    "        for sig_num in range(self.s) :\n",
    "            self.permute(tag_n)\n",
    "            new_sig = [min(np.take(self.perm,i)) for i in self.data.iloc[:,1]]  # index 1 could be changed later\n",
    "            sig_mat[sig_num, :] = new_sig\n",
    "        self.mhdata = sig_mat\n",
    "    \n",
    "    # This function locally hashes the signature vector (of size self.r)\n",
    "    def local_hash(self, sig_vec) :\n",
    "        return hash(str(sig_vec)) % self.bucket_sz\n",
    "    \n",
    "    # Computes locally sensitive hashing algorithm (put into buckets)\n",
    "    # Bucket_mtx : row - bands, column - bucket for each band \n",
    "    def lsh(self) :\n",
    "        mh_t = np.transpose(self.mhdata)\n",
    "        bucket_mtx = np.zeros((self.b, self.bucket_sz, 1))\n",
    "        for band_i in self.b :\n",
    "            curr = band_i * self.r \n",
    "            hashed = [self.local_hash(col[curr:curr+self.r]) for col in mh_t]\n",
    "            for ind, item in enumerate(hashed, start=0): :\n",
    "                bucket_mtx[band_i][item] = np.append(bucket_mtx[band_i][item], ind)\n",
    "        \n",
    "        self.bucket_mtx = bucket_mtx\n",
    "    \n",
    "    # Outputs the array of similar songs w.r.t given song\n",
    "    def sim_items(self, song) :\n",
    "        sim_item = np.array([])\n",
    "        song_sig = self.mhdata[:,self.song_dic[song]]\n",
    "        for band_i in self.b :\n",
    "            curr = band_i * self.r\n",
    "            curr_hash_val = self.local_hash(song_sig[curr:curr+self.r])\n",
    "            bucket_for_this = self.bucket_mtx[band_i][curr_hash_val]\n",
    "            sim_item = numpy.union1d(sim_item, bucket_for_this)\n",
    "        return np.take(self.data.iloc[:, 0], sim_item)"
   ]
  },
  {
   "cell_type": "code",
   "execution_count": 1,
   "metadata": {},
   "outputs": [
    {
     "data": {
      "text/plain": [
       "{'A': 0, 'B': 1, 'C': 2}"
      ]
     },
     "execution_count": 1,
     "metadata": {},
     "output_type": "execute_result"
    }
   ],
   "source": [
    "lst = ['A','B','C']\n",
    "dict(zip(lst,range(len(lst))))"
   ]
  },
  {
   "cell_type": "code",
   "execution_count": null,
   "metadata": {},
   "outputs": [],
   "source": []
  }
 ],
 "metadata": {
  "kernelspec": {
   "display_name": "Python 3",
   "language": "python",
   "name": "python3"
  },
  "language_info": {
   "codemirror_mode": {
    "name": "ipython",
    "version": 3
   },
   "file_extension": ".py",
   "mimetype": "text/x-python",
   "name": "python",
   "nbconvert_exporter": "python",
   "pygments_lexer": "ipython3",
   "version": "3.7.3"
  }
 },
 "nbformat": 4,
 "nbformat_minor": 2
}
