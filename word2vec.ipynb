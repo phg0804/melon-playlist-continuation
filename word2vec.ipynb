{
 "cells": [
  {
   "cell_type": "code",
   "execution_count": null,
   "metadata": {},
   "outputs": [],
   "source": [
    "%pip install tqdm\n",
    "%pip install gensim"
   ]
  },
  {
   "cell_type": "code",
   "execution_count": 1,
   "metadata": {},
   "outputs": [],
   "source": [
    "import pandas as pd\n",
    "\n",
    "from tqdm import tqdm\n",
    "\n",
    "from arena_util import remove_seen\n",
    "from arena_util import write_json\n",
    "\n",
    "from gensim.models import Word2Vec\n",
    "from gensim.models.keyedvectors import WordEmbeddingsKeyedVectors\n",
    "from gensim.parsing.preprocessing import preprocess_string, strip_punctuation, remove_stopwords, stem_text, strip_multiple_whitespaces"
   ]
  },
  {
   "cell_type": "code",
   "execution_count": 2,
   "metadata": {},
   "outputs": [],
   "source": [
    "# filters used for preprocess_string\n",
    "CUSTOM_FILTERS = [remove_stopwords, stem_text, strip_punctuation, strip_multiple_whitespaces]"
   ]
  },
  {
   "cell_type": "markdown",
   "metadata": {},
   "source": [
    "### 데이터 불러오기"
   ]
  },
  {
   "cell_type": "code",
   "execution_count": 3,
   "metadata": {},
   "outputs": [],
   "source": [
    "train = pd.read_json('./arena_data/orig/train.json', encoding='UTF-8')\n",
    "val = pd.read_json('./arena_data/questions/val.json', encoding='UTF-8')\n",
    "song_meta = pd.read_json('./data/song_meta.json', encoding='UTF-8')\n",
    "most_results = pd.read_json('./arena_data/results/results.json', encoding='UTF-8')"
   ]
  },
  {
   "cell_type": "markdown",
   "metadata": {},
   "source": [
    "**preprocess_string의 결과**  \n",
    "그냥 preprocess_string은 2글자인 단어들은 버림  \n",
    "ex) 듣기만해도 신나는 노래(남자 아이돌) --> 듣기만, 신나는, 아이돌"
   ]
  },
  {
   "cell_type": "code",
   "execution_count": 29,
   "metadata": {
    "scrolled": true
   },
   "outputs": [
    {
     "name": "stdout",
     "output_type": "stream",
     "text": [
      "['듣기만', '신나는', '아이돌']\n",
      "['듣기만', '해도', '신나는', '노래', '남자', '아이돌']\n"
     ]
    }
   ],
   "source": [
    "idx = 44\n",
    "print(preprocess_string(val['plylst_title'][idx]))\n",
    "print(preprocess_string(val['plylst_title'][idx], CUSTOM_FILTERS))"
   ]
  },
  {
   "cell_type": "code",
   "execution_count": 4,
   "metadata": {},
   "outputs": [],
   "source": [
    "min_count = 10\n",
    "size = 100\n",
    "window = 100\n",
    "sg = 1"
   ]
  },
  {
   "cell_type": "code",
   "execution_count": 5,
   "metadata": {},
   "outputs": [],
   "source": [
    "p2v_model = WordEmbeddingsKeyedVectors(size)"
   ]
  },
  {
   "cell_type": "code",
   "execution_count": 6,
   "metadata": {},
   "outputs": [],
   "source": [
    "# pandas apply 진행상황 보여주기 위한 모듈\n",
    "tqdm.pandas()"
   ]
  },
  {
   "cell_type": "markdown",
   "metadata": {},
   "source": [
    "### Dictionary 만들기"
   ]
  },
  {
   "cell_type": "markdown",
   "metadata": {},
   "source": [
    "- song_dic  \n",
    "    plylst id와 songs 배열을 매칭\n",
    "- tag_dic  \n",
    "    plylst id와 tags 배열을 매칭\n",
    "- **song_name_dic**  \n",
    "    plylst id와 song name을 분해한 list를 매칭(plylst id - \\[song1 분해, song2 분해, ... \\])\n",
    "- **total(pandas.Series)**  \n",
    "    song name 분해한 것 + tag + plylst 제목 분해한 것"
   ]
  },
  {
   "cell_type": "code",
   "execution_count": null,
   "metadata": {},
   "outputs": [],
   "source": [
    "# album name을 추가할 때 활용\n",
    "def preproc_song(song_id):\n",
    "    song_pre_str = preprocess_string(song_meta.loc[song_id, 'song_name'])\n",
    "    try:\n",
    "        song_pre_str += preprocess_string(song_meta.loc[song_id, 'album_name'])\n",
    "    except:\n",
    "        pass\n",
    "    return song_pre_str"
   ]
  },
  {
   "cell_type": "markdown",
   "metadata": {},
   "source": [
    "아래는 노래 제목만 추가하는 버전  \n",
    "노래 순서를 섞어보면?"
   ]
  },
  {
   "cell_type": "code",
   "execution_count": 7,
   "metadata": {},
   "outputs": [],
   "source": [
    "import random\n",
    "\n",
    "def shuffle_list(seed, lst):\n",
    "    random.seed(seed)\n",
    "    random.shuffle(lst)\n",
    "    return lst\n",
    "\n",
    "def preproc_shuffle_song(seed, songs):\n",
    "    songs = shuffle_list(seed, songs)\n",
    "    return [preprocess_string(song_meta.loc[song_id, 'song_name'], CUSTOM_FILTERS) for song_id in songs]"
   ]
  },
  {
   "cell_type": "code",
   "execution_count": 8,
   "metadata": {},
   "outputs": [
    {
     "name": "stderr",
     "output_type": "stream",
     "text": [
      "100%|█████████████████████████████████| 115071/115071 [04:24<00:00, 434.64it/s]\n"
     ]
    }
   ],
   "source": [
    "song_dic = {} # plylst id - song id\n",
    "song_name_dic = {} # plylst id - [preprocessed song name]\n",
    "tag_dic = {} # plylst id - tag\n",
    "data = pd.concat([train, val])\n",
    "data = data.set_index('id')\n",
    "\n",
    "song_dic = data['songs'].to_dict()\n",
    "tag_dic = data['tags'].apply(lambda x : shuffle_list(123, x)).to_dict()\n",
    "data['song_name_token'] = data['songs'].progress_apply(lambda songs : sum(preproc_shuffle_song(123, songs), []))\n",
    "# data['song_name_token'] = data['songs'].progress_apply(lambda songs : sum([preprocess_string(song_meta.loc[song_id, 'song_name']) for song_id in random.sample(songs, len(songs))], []))\n",
    "# album name도 추가하는 version\n",
    "# data['song_name_token'] = data['songs'].progress_apply(lambda songs : sum([preproc_song(song_id) for song_id in songs], []))\n",
    "song_name_dic = data['song_name_token'].to_dict()"
   ]
  },
  {
   "cell_type": "markdown",
   "metadata": {},
   "source": [
    "- 문장 구성 : 노래 제목 + 태그 + 플레이리스트 제목"
   ]
  },
  {
   "cell_type": "code",
   "execution_count": 9,
   "metadata": {},
   "outputs": [
    {
     "name": "stderr",
     "output_type": "stream",
     "text": [
      "100%|████████████████████████████████| 115071/115071 [00:13<00:00, 8580.24it/s]\n"
     ]
    }
   ],
   "source": [
    "data = data.reset_index()\n",
    "total = data.progress_apply(lambda x : song_name_dic[x['id']] + tag_dic[x['id']] + preprocess_string(x['plylst_title'], CUSTOM_FILTERS), axis = 1)"
   ]
  },
  {
   "cell_type": "markdown",
   "metadata": {},
   "source": [
    "### Word2Vec Model Fitting"
   ]
  },
  {
   "cell_type": "code",
   "execution_count": 10,
   "metadata": {},
   "outputs": [],
   "source": [
    "w2v_model = Word2Vec(total, min_count = min_count, size = size, window = window, sg = sg)"
   ]
  },
  {
   "cell_type": "markdown",
   "metadata": {},
   "source": [
    "### Calculate Embedding Vectors"
   ]
  },
  {
   "cell_type": "code",
   "execution_count": 11,
   "metadata": {},
   "outputs": [
    {
     "name": "stderr",
     "output_type": "stream",
     "text": [
      "115071it [09:38, 198.76it/s]\n"
     ]
    }
   ],
   "source": [
    "ID = []   \n",
    "vec = []\n",
    "embedd = {}\n",
    "for index, q in tqdm(pd.concat([train, val]).iterrows()):\n",
    "    tmp_vec = 0\n",
    "    for song_word in song_name_dic[q['id']]:\n",
    "        try:\n",
    "            tmp_vec += w2v_model.wv.get_vector(song_word) / len(song_name_dic[q['id']])\n",
    "        except KeyError:\n",
    "            pass\n",
    "    for tag in tag_dic[q['id']]:\n",
    "        try:\n",
    "            tmp_vec += w2v_model.wv.get_vector(tag) / len(tag_dic[q['id']])\n",
    "        except KeyError:\n",
    "            pass\n",
    "    for title_word in preprocess_string(q['plylst_title'], CUSTOM_FILTERS):\n",
    "        try:\n",
    "            tmp_vec += w2v_model.wv.get_vector(title_word) / len(preprocess_string(q['plylst_title'], CUSTOM_FILTERS))\n",
    "        except KeyError:\n",
    "            pass\n",
    "\n",
    "    if type(tmp_vec) != int:\n",
    "        embedd[str(q['id'])] = tmp_vec\n",
    "        ID.append(str(q['id']))  \n",
    "        vec.append(tmp_vec)\n",
    "\n",
    "p2v_model.add(ID, vec)"
   ]
  },
  {
   "cell_type": "code",
   "execution_count": 12,
   "metadata": {},
   "outputs": [],
   "source": [
    "import pickle\n",
    "\n",
    "with open(\"w2v_embed.txt\", \"wb\") as file:\n",
    "    pickle.dump(embedd, file)"
   ]
  },
  {
   "cell_type": "markdown",
   "metadata": {},
   "source": [
    "### Calculate embedding vectors for Songs"
   ]
  },
  {
   "cell_type": "code",
   "execution_count": null,
   "metadata": {},
   "outputs": [],
   "source": [
    "s2v_model = WordEmbeddingsKeyedVectors(size)\n",
    "\n",
    "ID_song = []\n",
    "vec_song = []\n",
    "song_embed = {}\n",
    "for index, q in tqdm(song_meta.iterrows()):\n",
    "    tmp_vec = 0\n",
    "    for word in preprocess_string(q['song_name'], CUSTOM_FILTERS):\n",
    "        try:\n",
    "            tmp_vec += w2v_model.wv.get_vector(word) / len(preprocess_string(q['song_name'], CUSTOM_FILTERS))\n",
    "        except KeyError:\n",
    "            pass\n",
    "    if type(tmp_vec) != int:\n",
    "        song_embed[q['song_name']] = tmp_vec\n",
    "        ID_song.append(str(q['id']))\n",
    "        vec_song.append(tmp_vec)\n",
    "        \n",
    "s2v_model.add(ID_song, vec_song)"
   ]
  },
  {
   "cell_type": "markdown",
   "metadata": {},
   "source": [
    "### Make answers to submit"
   ]
  },
  {
   "cell_type": "code",
   "execution_count": 13,
   "metadata": {},
   "outputs": [],
   "source": [
    "import dateutil.parser\n",
    "\n",
    "# issue_date -> datetime으로 변환\n",
    "def parse_issue_date(issue_date):\n",
    "    issue_date = issue_date + int(issue_date % 10000 == 0) * 100 + int(issue_date % 100 == 0)\n",
    "    return dateutil.parser.parse(str(issue_date))"
   ]
  },
  {
   "cell_type": "code",
   "execution_count": 14,
   "metadata": {},
   "outputs": [],
   "source": [
    "most_results = pd.read_json('./arena_data/results/results.json', encoding='UTF-8')"
   ]
  },
  {
   "cell_type": "code",
   "execution_count": 15,
   "metadata": {},
   "outputs": [
    {
     "name": "stderr",
     "output_type": "stream",
     "text": [
      "291it [00:14, 25.03it/s]"
     ]
    },
    {
     "name": "stdout",
     "output_type": "stream",
     "text": [
      "except :  id                               141757\n",
      "like_cnt                              0\n",
      "plylst_title                     testtt\n",
      "songs                                []\n",
      "tags                                 []\n",
      "updt_date       2018-07-03 18:27:03.000\n",
      "Name: 286, dtype: object\n",
      "except :  id                                31245\n",
      "like_cnt                              6\n",
      "plylst_title                     달리고싶을때\n",
      "songs                                []\n",
      "tags                                 []\n",
      "updt_date       2016-09-10 17:56:49.000\n",
      "Name: 289, dtype: object\n"
     ]
    },
    {
     "name": "stderr",
     "output_type": "stream",
     "text": [
      "377it [00:19, 23.18it/s]"
     ]
    },
    {
     "name": "stdout",
     "output_type": "stream",
     "text": [
      "except :  id                                22484\n",
      "like_cnt                             20\n",
      "plylst_title                       한의원~\n",
      "songs                                []\n",
      "tags                                 []\n",
      "updt_date       2016-09-12 00:29:51.000\n",
      "Name: 374, dtype: object\n"
     ]
    },
    {
     "name": "stderr",
     "output_type": "stream",
     "text": [
      "430it [00:21, 23.51it/s]"
     ]
    },
    {
     "name": "stdout",
     "output_type": "stream",
     "text": [
      "except :  id                               128561\n",
      "like_cnt                              6\n",
      "plylst_title          ★잡식성음악듣기,지극히개인적인★\n",
      "songs                                []\n",
      "tags                                 []\n",
      "updt_date       2010-03-20 21:48:49.000\n",
      "Name: 427, dtype: object\n"
     ]
    },
    {
     "name": "stderr",
     "output_type": "stream",
     "text": [
      "605it [00:30, 20.83it/s]"
     ]
    },
    {
     "name": "stdout",
     "output_type": "stream",
     "text": [
      "except :  id                               111229\n",
      "like_cnt                             29\n",
      "plylst_title                       난네짜응\n",
      "songs                                []\n",
      "tags                                 []\n",
      "updt_date       2017-09-15 18:58:41.000\n",
      "Name: 600, dtype: object\n"
     ]
    },
    {
     "name": "stderr",
     "output_type": "stream",
     "text": [
      "646it [00:32, 23.59it/s]"
     ]
    },
    {
     "name": "stdout",
     "output_type": "stream",
     "text": [
      "except :  id                                70925\n",
      "like_cnt                              3\n",
      "plylst_title                     eun745\n",
      "songs                                []\n",
      "tags                                 []\n",
      "updt_date       2015-05-22 18:42:54.000\n",
      "Name: 643, dtype: object\n"
     ]
    },
    {
     "name": "stderr",
     "output_type": "stream",
     "text": [
      "946it [00:47, 18.63it/s]"
     ]
    },
    {
     "name": "stdout",
     "output_type": "stream",
     "text": [
      "except :  id                                54594\n",
      "like_cnt                              0\n",
      "plylst_title                      노래추천2\n",
      "songs                                []\n",
      "tags                                 []\n",
      "updt_date       2020-04-22 14:01:14.000\n",
      "Name: 943, dtype: object\n"
     ]
    },
    {
     "name": "stderr",
     "output_type": "stream",
     "text": [
      "985it [00:50, 16.35it/s]"
     ]
    },
    {
     "name": "stdout",
     "output_type": "stream",
     "text": [
      "except :  id                                46355\n",
      "like_cnt                              1\n",
      "plylst_title                       너의앨범\n",
      "songs                                []\n",
      "tags                                 []\n",
      "updt_date       2013-01-31 01:02:21.000\n",
      "Name: 983, dtype: object\n"
     ]
    },
    {
     "name": "stderr",
     "output_type": "stream",
     "text": [
      "1076it [00:55, 23.11it/s]"
     ]
    },
    {
     "name": "stdout",
     "output_type": "stream",
     "text": [
      "except :  id                                75823\n",
      "like_cnt                              6\n",
      "plylst_title            ★딴짓☆하다§관심§이간음악♬\n",
      "songs                                []\n",
      "tags                                 []\n",
      "updt_date       2010-01-07 20:17:45.000\n",
      "Name: 1072, dtype: object\n"
     ]
    },
    {
     "name": "stderr",
     "output_type": "stream",
     "text": [
      "1162it [00:59, 22.90it/s]"
     ]
    },
    {
     "name": "stdout",
     "output_type": "stream",
     "text": [
      "except :  id                               118239\n",
      "like_cnt                              3\n",
      "plylst_title                      사랑하는딸\n",
      "songs                                []\n",
      "tags                                 []\n",
      "updt_date       2009-02-09 20:04:41.000\n",
      "Name: 1157, dtype: object\n"
     ]
    },
    {
     "name": "stderr",
     "output_type": "stream",
     "text": [
      "1186it [01:00, 21.20it/s]"
     ]
    },
    {
     "name": "stdout",
     "output_type": "stream",
     "text": [
      "except :  id                                34232\n",
      "like_cnt                              4\n",
      "plylst_title                     부드러운음악\n",
      "songs                                []\n",
      "tags                                 []\n",
      "updt_date       2012-02-05 18:28:25.000\n",
      "Name: 1185, dtype: object\n"
     ]
    },
    {
     "name": "stderr",
     "output_type": "stream",
     "text": [
      "1324it [01:07, 24.36it/s]"
     ]
    },
    {
     "name": "stdout",
     "output_type": "stream",
     "text": [
      "except :  id                               122065\n",
      "like_cnt                              0\n",
      "plylst_title                       가을예찬\n",
      "songs                                []\n",
      "tags                                 []\n",
      "updt_date       2016-09-14 12:34:57.000\n",
      "Name: 1320, dtype: object\n"
     ]
    },
    {
     "name": "stderr",
     "output_type": "stream",
     "text": [
      "1370it [01:09, 24.04it/s]"
     ]
    },
    {
     "name": "stdout",
     "output_type": "stream",
     "text": [
      "except :  id                               130408\n",
      "like_cnt                              2\n",
      "plylst_title                    dj66666\n",
      "songs                                []\n",
      "tags                                 []\n",
      "updt_date       2016-09-23 14:40:57.000\n",
      "Name: 1368, dtype: object\n"
     ]
    },
    {
     "name": "stderr",
     "output_type": "stream",
     "text": [
      "1456it [01:13, 25.20it/s]"
     ]
    },
    {
     "name": "stdout",
     "output_type": "stream",
     "text": [
      "except :  id                                21470\n",
      "like_cnt                              0\n",
      "plylst_title                      ggggg\n",
      "songs                                []\n",
      "tags                                 []\n",
      "updt_date       2020-04-16 13:50:21.000\n",
      "Name: 1452, dtype: object\n"
     ]
    },
    {
     "name": "stderr",
     "output_type": "stream",
     "text": [
      "1546it [01:18, 24.37it/s]"
     ]
    },
    {
     "name": "stdout",
     "output_type": "stream",
     "text": [
      "except :  id                                91853\n",
      "like_cnt                              3\n",
      "plylst_title                      좋아좋아♥\n",
      "songs                                []\n",
      "tags                                 []\n",
      "updt_date       2014-01-07 01:56:28.000\n",
      "Name: 1543, dtype: object\n"
     ]
    },
    {
     "name": "stderr",
     "output_type": "stream",
     "text": [
      "1577it [01:19, 21.14it/s]"
     ]
    },
    {
     "name": "stdout",
     "output_type": "stream",
     "text": [
      "except :  id                                44163\n",
      "like_cnt                              0\n",
      "plylst_title                      제목없음0\n",
      "songs                                []\n",
      "tags                                 []\n",
      "updt_date       2018-04-11 10:35:45.000\n",
      "Name: 1574, dtype: object\n"
     ]
    },
    {
     "name": "stderr",
     "output_type": "stream",
     "text": [
      "1691it [01:25, 24.47it/s]"
     ]
    },
    {
     "name": "stdout",
     "output_type": "stream",
     "text": [
      "except :  id                                93122\n",
      "like_cnt                             31\n",
      "plylst_title                      .....\n",
      "songs                                []\n",
      "tags                                 []\n",
      "updt_date       2018-05-03 04:55:46.000\n",
      "Name: 1687, dtype: object\n"
     ]
    },
    {
     "name": "stderr",
     "output_type": "stream",
     "text": [
      "1775it [01:28, 20.50it/s]"
     ]
    },
    {
     "name": "stdout",
     "output_type": "stream",
     "text": [
      "except :  id                                98604\n",
      "like_cnt                              0\n",
      "plylst_title                     생활의활력소\n",
      "songs                                []\n",
      "tags                                 []\n",
      "updt_date       2006-07-18 01:28:09.000\n",
      "Name: 1771, dtype: object\n"
     ]
    },
    {
     "name": "stderr",
     "output_type": "stream",
     "text": [
      "1868it [01:33, 23.03it/s]"
     ]
    },
    {
     "name": "stdout",
     "output_type": "stream",
     "text": [
      "except :  id                               131242\n",
      "like_cnt                              8\n",
      "plylst_title                   노래종합선물세트\n",
      "songs                                []\n",
      "tags                                 []\n",
      "updt_date       2017-02-09 14:49:03.000\n",
      "Name: 1863, dtype: object\n"
     ]
    },
    {
     "name": "stderr",
     "output_type": "stream",
     "text": [
      "2150it [01:50, 12.41it/s]"
     ]
    },
    {
     "name": "stdout",
     "output_type": "stream",
     "text": [
      "except :  id                                15883\n",
      "like_cnt                              1\n",
      "plylst_title                       음율속음\n",
      "songs                                []\n",
      "tags                                 []\n",
      "updt_date       2013-07-25 21:15:09.000\n",
      "Name: 2149, dtype: object\n"
     ]
    },
    {
     "name": "stderr",
     "output_type": "stream",
     "text": [
      "2345it [02:06, 12.25it/s]"
     ]
    },
    {
     "name": "stdout",
     "output_type": "stream",
     "text": [
      "except :  id                               107172\n",
      "like_cnt                              0\n",
      "plylst_title                       제이플라\n",
      "songs                                []\n",
      "tags                                 []\n",
      "updt_date       2017-11-15 07:03:33.000\n",
      "Name: 2343, dtype: object\n"
     ]
    },
    {
     "name": "stderr",
     "output_type": "stream",
     "text": [
      "2804it [02:33, 22.19it/s]"
     ]
    },
    {
     "name": "stdout",
     "output_type": "stream",
     "text": [
      "except :  id                               116681\n",
      "like_cnt                              0\n",
      "plylst_title                       AAAA\n",
      "songs                                []\n",
      "tags                                 []\n",
      "updt_date       2017-11-22 19:35:14.000\n",
      "Name: 2801, dtype: object\n"
     ]
    },
    {
     "name": "stderr",
     "output_type": "stream",
     "text": [
      "2860it [02:36, 22.89it/s]"
     ]
    },
    {
     "name": "stdout",
     "output_type": "stream",
     "text": [
      "except :  id                                90218\n",
      "like_cnt                             52\n",
      "plylst_title              ☆90년대1위곡들의반란☆\n",
      "songs                                []\n",
      "tags                                 []\n",
      "updt_date       2010-12-15 09:16:11.000\n",
      "Name: 2857, dtype: object\n"
     ]
    },
    {
     "name": "stderr",
     "output_type": "stream",
     "text": [
      "2869it [02:36, 23.50it/s]"
     ]
    },
    {
     "name": "stdout",
     "output_type": "stream",
     "text": [
      "except :  id                               109762\n",
      "like_cnt                              2\n",
      "plylst_title                     201503\n",
      "songs                                []\n",
      "tags                                 []\n",
      "updt_date       2015-05-21 20:10:00.000\n",
      "Name: 2864, dtype: object\n",
      "except :  id                                51622\n",
      "like_cnt                              3\n",
      "plylst_title                     가을이온다.\n",
      "songs                                []\n",
      "tags                                 []\n",
      "updt_date       2014-08-28 03:08:44.000\n",
      "Name: 2867, dtype: object\n"
     ]
    },
    {
     "name": "stderr",
     "output_type": "stream",
     "text": [
      "3125it [02:50, 11.47it/s]"
     ]
    },
    {
     "name": "stdout",
     "output_type": "stream",
     "text": [
      "except :  id                               136381\n",
      "like_cnt                              3\n",
      "plylst_title                  ★★추억에젖는★★\n",
      "songs                                []\n",
      "tags                                 []\n",
      "updt_date       2014-01-10 10:07:20.000\n",
      "Name: 3123, dtype: object\n"
     ]
    },
    {
     "name": "stderr",
     "output_type": "stream",
     "text": [
      "3358it [03:08, 23.42it/s]"
     ]
    },
    {
     "name": "stdout",
     "output_type": "stream",
     "text": [
      "except :  id                                28529\n",
      "like_cnt                             35\n",
      "plylst_title                 다이어트의계절이왔다\n",
      "songs                                []\n",
      "tags                                 []\n",
      "updt_date       2016-03-30 19:53:09.000\n",
      "Name: 3353, dtype: object\n"
     ]
    },
    {
     "name": "stderr",
     "output_type": "stream",
     "text": [
      "3410it [03:10, 22.86it/s]"
     ]
    },
    {
     "name": "stdout",
     "output_type": "stream",
     "text": [
      "except :  id                               132422\n",
      "like_cnt                             10\n",
      "plylst_title              꽃샘 추위에는 알엔비를!\n",
      "songs                                []\n",
      "tags                                 []\n",
      "updt_date       2016-03-10 15:26:28.000\n",
      "Name: 3406, dtype: object\n"
     ]
    },
    {
     "name": "stderr",
     "output_type": "stream",
     "text": [
      "3441it [03:12, 23.61it/s]"
     ]
    },
    {
     "name": "stdout",
     "output_type": "stream",
     "text": [
      "except :  id                               125575\n",
      "like_cnt                              0\n",
      "plylst_title                       ㅇ아아아\n",
      "songs                                []\n",
      "tags                                 []\n",
      "updt_date       2019-08-29 13:41:21.000\n",
      "Name: 3436, dtype: object\n"
     ]
    },
    {
     "name": "stderr",
     "output_type": "stream",
     "text": [
      "3463it [03:13, 23.25it/s]"
     ]
    },
    {
     "name": "stdout",
     "output_type": "stream",
     "text": [
      "except :  id                                60000\n",
      "like_cnt                              5\n",
      "plylst_title            귀여운노래거나,찡한노래거나♩\n",
      "songs                                []\n",
      "tags                                 []\n",
      "updt_date       2010-02-10 01:43:15.000\n",
      "Name: 3460, dtype: object\n"
     ]
    },
    {
     "name": "stderr",
     "output_type": "stream",
     "text": [
      "3503it [03:14, 24.08it/s]"
     ]
    },
    {
     "name": "stdout",
     "output_type": "stream",
     "text": [
      "except :  id                                12994\n",
      "like_cnt                              1\n",
      "plylst_title                       무한버닝\n",
      "songs                                []\n",
      "tags                                 []\n",
      "updt_date       2011-12-04 22:19:40.000\n",
      "Name: 3500, dtype: object\n"
     ]
    },
    {
     "name": "stderr",
     "output_type": "stream",
     "text": [
      "3678it [03:23, 24.12it/s]"
     ]
    },
    {
     "name": "stdout",
     "output_type": "stream",
     "text": [
      "except :  id                                96225\n",
      "like_cnt                              0\n",
      "plylst_title                     팝송이즈뭔들\n",
      "songs                                []\n",
      "tags                                 []\n",
      "updt_date       2020-04-19 22:22:27.000\n",
      "Name: 3676, dtype: object\n"
     ]
    },
    {
     "name": "stderr",
     "output_type": "stream",
     "text": [
      "3738it [03:25, 24.05it/s]"
     ]
    },
    {
     "name": "stdout",
     "output_type": "stream",
     "text": [
      "except :  id                                  66138\n",
      "like_cnt                                3\n",
      "plylst_title    오지상노 피리노 ggggyyyyjjjjqqqq\n",
      "songs                                  []\n",
      "tags                                   []\n",
      "updt_date         2017-04-21 14:43:58.000\n",
      "Name: 3734, dtype: object\n"
     ]
    },
    {
     "name": "stderr",
     "output_type": "stream",
     "text": [
      "3857it [03:31, 23.33it/s]"
     ]
    },
    {
     "name": "stdout",
     "output_type": "stream",
     "text": [
      "except :  id                                10368\n",
      "like_cnt                              1\n",
      "plylst_title                   기분업이필요할때\n",
      "songs                                []\n",
      "tags                                 []\n",
      "updt_date       2014-09-15 18:47:09.000\n",
      "Name: 3852, dtype: object\n"
     ]
    },
    {
     "name": "stderr",
     "output_type": "stream",
     "text": [
      "4138it [03:44, 21.93it/s]"
     ]
    },
    {
     "name": "stdout",
     "output_type": "stream",
     "text": [
      "except :  id                                 1389\n",
      "like_cnt                              8\n",
      "plylst_title                      한국의섹시\n",
      "songs                                []\n",
      "tags                              [야한곡]\n",
      "updt_date       2019-11-10 18:08:46.000\n",
      "Name: 4135, dtype: object\n"
     ]
    },
    {
     "name": "stderr",
     "output_type": "stream",
     "text": [
      "4197it [03:47, 20.72it/s]"
     ]
    },
    {
     "name": "stdout",
     "output_type": "stream",
     "text": [
      "except :  id                                98381\n",
      "like_cnt                              2\n",
      "plylst_title                     .ㅋㅋㅋㅋㅋ\n",
      "songs                                []\n",
      "tags                                 []\n",
      "updt_date       2019-04-24 10:42:13.000\n",
      "Name: 4194, dtype: object\n"
     ]
    },
    {
     "name": "stderr",
     "output_type": "stream",
     "text": [
      "4218it [03:48, 23.27it/s]"
     ]
    },
    {
     "name": "stdout",
     "output_type": "stream",
     "text": [
      "except :  id                               116287\n",
      "like_cnt                              3\n",
      "plylst_title                      낮은곳으로\n",
      "songs                                []\n",
      "tags                                 []\n",
      "updt_date       2015-02-14 06:45:48.000\n",
      "Name: 4214, dtype: object\n"
     ]
    },
    {
     "name": "stderr",
     "output_type": "stream",
     "text": [
      "4264it [03:50, 23.85it/s]"
     ]
    },
    {
     "name": "stdout",
     "output_type": "stream",
     "text": [
      "except :  id                               131594\n",
      "like_cnt                             11\n",
      "plylst_title                       ▶좋아요\n",
      "songs                                []\n",
      "tags                                 []\n",
      "updt_date       2015-01-16 19:01:52.000\n",
      "Name: 4260, dtype: object\n"
     ]
    },
    {
     "name": "stderr",
     "output_type": "stream",
     "text": [
      "4326it [03:53, 24.32it/s]"
     ]
    },
    {
     "name": "stdout",
     "output_type": "stream",
     "text": [
      "except :  id                                10266\n",
      "like_cnt                              0\n",
      "plylst_title                     나랑같은취향\n",
      "songs                                []\n",
      "tags                                 []\n",
      "updt_date       2018-02-22 17:41:54.000\n",
      "Name: 4321, dtype: object\n"
     ]
    },
    {
     "name": "stderr",
     "output_type": "stream",
     "text": [
      "4422it [04:08,  9.25it/s]"
     ]
    },
    {
     "name": "stdout",
     "output_type": "stream",
     "text": [
      "except :  id                                61540\n",
      "like_cnt                              9\n",
      "plylst_title              pc방전용 디아블로전설곡\n",
      "songs                                []\n",
      "tags                                 []\n",
      "updt_date       2014-05-30 15:42:23.000\n",
      "Name: 4420, dtype: object\n"
     ]
    },
    {
     "name": "stderr",
     "output_type": "stream",
     "text": [
      "4430it [04:09, 10.16it/s]"
     ]
    },
    {
     "name": "stdout",
     "output_type": "stream",
     "text": [
      "except :  id                                25578\n",
      "like_cnt                              5\n",
      "plylst_title               아이돌그룹의 솔로도전기\n",
      "songs                                []\n",
      "tags                                 []\n",
      "updt_date       2016-07-02 08:51:00.000\n",
      "Name: 4428, dtype: object\n"
     ]
    },
    {
     "name": "stderr",
     "output_type": "stream",
     "text": [
      "4478it [04:14,  9.85it/s]"
     ]
    },
    {
     "name": "stdout",
     "output_type": "stream",
     "text": [
      "except :  id                                48492\n",
      "like_cnt                            110\n",
      "plylst_title                     트로트선곡집\n",
      "songs                                []\n",
      "tags                                 []\n",
      "updt_date       2011-06-03 10:09:23.000\n",
      "Name: 4476, dtype: object\n"
     ]
    },
    {
     "name": "stderr",
     "output_type": "stream",
     "text": [
      "4519it [04:16, 24.30it/s]"
     ]
    },
    {
     "name": "stdout",
     "output_type": "stream",
     "text": [
      "except :  id                                33198\n",
      "like_cnt                              5\n",
      "plylst_title                     노팅힐OST\n",
      "songs                                []\n",
      "tags                                 []\n",
      "updt_date       2016-07-12 19:09:29.000\n",
      "Name: 4515, dtype: object\n"
     ]
    },
    {
     "name": "stderr",
     "output_type": "stream",
     "text": [
      "4633it [04:21, 22.45it/s]"
     ]
    },
    {
     "name": "stdout",
     "output_type": "stream",
     "text": [
      "except :  id                                53019\n",
      "like_cnt                              5\n",
      "plylst_title              노블에게 7080을 보냄\n",
      "songs                                []\n",
      "tags                                 []\n",
      "updt_date       2011-02-24 12:26:12.000\n",
      "Name: 4630, dtype: object\n"
     ]
    },
    {
     "name": "stderr",
     "output_type": "stream",
     "text": [
      "4652it [04:22, 22.95it/s]"
     ]
    },
    {
     "name": "stdout",
     "output_type": "stream",
     "text": [
      "except :  id                                12807\n",
      "like_cnt                              3\n",
      "plylst_title                       ㅇㄱㄹㄹ\n",
      "songs                                []\n",
      "tags                                 []\n",
      "updt_date       2016-06-24 15:02:53.000\n",
      "Name: 4649, dtype: object\n"
     ]
    },
    {
     "name": "stderr",
     "output_type": "stream",
     "text": [
      "4670it [04:23, 23.17it/s]"
     ]
    },
    {
     "name": "stdout",
     "output_type": "stream",
     "text": [
      "except :  id                                27029\n",
      "like_cnt                              7\n",
      "plylst_title                      Chp2.\n",
      "songs                                []\n",
      "tags                                 []\n",
      "updt_date       2018-03-31 13:05:15.000\n",
      "Name: 4666, dtype: object\n"
     ]
    },
    {
     "name": "stderr",
     "output_type": "stream",
     "text": [
      "4710it [04:25, 23.16it/s]"
     ]
    },
    {
     "name": "stdout",
     "output_type": "stream",
     "text": [
      "except :  id                                 6968\n",
      "like_cnt                             28\n",
      "plylst_title                   편곡된찬송가~~\n",
      "songs                                []\n",
      "tags                                 []\n",
      "updt_date       2015-01-26 14:51:55.000\n",
      "Name: 4706, dtype: object\n"
     ]
    },
    {
     "name": "stderr",
     "output_type": "stream",
     "text": [
      "5043it [04:43, 22.20it/s]"
     ]
    },
    {
     "name": "stdout",
     "output_type": "stream",
     "text": [
      "except :  id                                36882\n",
      "like_cnt                              1\n",
      "plylst_title                  중독성있는클럽노래\n",
      "songs                                []\n",
      "tags                                 []\n",
      "updt_date       2017-09-30 13:18:14.000\n",
      "Name: 5040, dtype: object\n"
     ]
    },
    {
     "name": "stderr",
     "output_type": "stream",
     "text": [
      "5356it [04:58, 22.16it/s]"
     ]
    },
    {
     "name": "stdout",
     "output_type": "stream",
     "text": [
      "except :  id                                17052\n",
      "like_cnt                              3\n",
      "plylst_title                   캘리베이커리카페\n",
      "songs                                []\n",
      "tags                                 []\n",
      "updt_date       2015-04-08 11:53:14.000\n",
      "Name: 5355, dtype: object\n"
     ]
    },
    {
     "name": "stderr",
     "output_type": "stream",
     "text": [
      "5552it [05:07, 24.01it/s]"
     ]
    },
    {
     "name": "stdout",
     "output_type": "stream",
     "text": [
      "except :  id                                87267\n",
      "like_cnt                              0\n",
      "plylst_title                     CMusic\n",
      "songs                                []\n",
      "tags                                 []\n",
      "updt_date       2014-05-08 09:50:15.000\n",
      "Name: 5548, dtype: object\n"
     ]
    },
    {
     "name": "stderr",
     "output_type": "stream",
     "text": [
      "5703it [05:15, 23.80it/s]"
     ]
    },
    {
     "name": "stdout",
     "output_type": "stream",
     "text": [
      "except :  id                                37840\n",
      "like_cnt                              3\n",
      "plylst_title                      [Dos]\n",
      "songs                                []\n",
      "tags                                 []\n",
      "updt_date       2012-11-29 21:31:10.000\n",
      "Name: 5697, dtype: object\n"
     ]
    },
    {
     "name": "stderr",
     "output_type": "stream",
     "text": [
      "5771it [05:18, 24.17it/s]"
     ]
    },
    {
     "name": "stdout",
     "output_type": "stream",
     "text": [
      "except :  id                               108477\n",
      "like_cnt                            113\n",
      "plylst_title             교회예배끝나고틀어놓는CCM\n",
      "songs                                []\n",
      "tags                                 []\n",
      "updt_date       2018-09-06 00:33:20.000\n",
      "Name: 5766, dtype: object\n"
     ]
    },
    {
     "name": "stderr",
     "output_type": "stream",
     "text": [
      "5797it [05:19, 18.71it/s]"
     ]
    },
    {
     "name": "stdout",
     "output_type": "stream",
     "text": [
      "except :  id                               116470\n",
      "like_cnt                              1\n",
      "plylst_title                  저가자주듣는노래~\n",
      "songs                                []\n",
      "tags                                 []\n",
      "updt_date       2014-09-26 00:09:12.000\n",
      "Name: 5793, dtype: object\n"
     ]
    },
    {
     "name": "stderr",
     "output_type": "stream",
     "text": [
      "5896it [05:24, 23.95it/s]"
     ]
    },
    {
     "name": "stdout",
     "output_type": "stream",
     "text": [
      "except :  id                                 5665\n",
      "like_cnt                             17\n",
      "plylst_title           90년대부터현재까지드라마ost\n",
      "songs                                []\n",
      "tags                                 []\n",
      "updt_date       2015-06-25 22:59:46.000\n",
      "Name: 5893, dtype: object\n"
     ]
    },
    {
     "name": "stderr",
     "output_type": "stream",
     "text": [
      "5959it [05:27, 23.96it/s]"
     ]
    },
    {
     "name": "stdout",
     "output_type": "stream",
     "text": [
      "except :  id                               106428\n",
      "like_cnt                              0\n",
      "plylst_title                       라임헤어\n",
      "songs                                []\n",
      "tags                                 []\n",
      "updt_date       2014-05-23 10:56:19.000\n",
      "Name: 5955, dtype: object\n"
     ]
    },
    {
     "name": "stderr",
     "output_type": "stream",
     "text": [
      "5996it [05:28, 24.16it/s]"
     ]
    },
    {
     "name": "stdout",
     "output_type": "stream",
     "text": [
      "except :  id                                82095\n",
      "like_cnt                              0\n",
      "plylst_title                       알바용~\n",
      "songs                                []\n",
      "tags                                 []\n",
      "updt_date       2015-01-24 01:08:02.000\n",
      "Name: 5992, dtype: object\n"
     ]
    },
    {
     "name": "stderr",
     "output_type": "stream",
     "text": [
      "6059it [05:31, 23.76it/s]"
     ]
    },
    {
     "name": "stdout",
     "output_type": "stream",
     "text": [
      "except :  id                                31119\n",
      "like_cnt                              5\n",
      "plylst_title                       비가온다\n",
      "songs                                []\n",
      "tags                                 []\n",
      "updt_date       2019-07-24 08:31:28.000\n",
      "Name: 6053, dtype: object\n"
     ]
    },
    {
     "name": "stderr",
     "output_type": "stream",
     "text": [
      "6266it [05:41, 24.28it/s]"
     ]
    },
    {
     "name": "stdout",
     "output_type": "stream",
     "text": [
      "except :  id                               106357\n",
      "like_cnt                              0\n",
      "plylst_title                       女노래방\n",
      "songs                                []\n",
      "tags                                 []\n",
      "updt_date       2017-07-08 19:18:01.000\n",
      "Name: 6263, dtype: object\n"
     ]
    },
    {
     "name": "stderr",
     "output_type": "stream",
     "text": [
      "6287it [05:42, 24.21it/s]"
     ]
    },
    {
     "name": "stdout",
     "output_type": "stream",
     "text": [
      "except :  id                                41477\n",
      "like_cnt                              3\n",
      "plylst_title                         잡동\n",
      "songs                                []\n",
      "tags                                 []\n",
      "updt_date       2018-06-25 10:06:05.000\n",
      "Name: 6284, dtype: object\n"
     ]
    },
    {
     "name": "stderr",
     "output_type": "stream",
     "text": [
      "6552it [05:55, 22.19it/s]"
     ]
    },
    {
     "name": "stdout",
     "output_type": "stream",
     "text": [
      "except :  id                                98270\n",
      "like_cnt                              1\n",
      "plylst_title              ○●○●발라드모음●○●○\n",
      "songs                                []\n",
      "tags                                 []\n",
      "updt_date       2013-01-27 16:30:19.000\n",
      "Name: 6548, dtype: object\n"
     ]
    },
    {
     "name": "stderr",
     "output_type": "stream",
     "text": [
      "\r",
      "6555it [05:55, 23.25it/s]"
     ]
    },
    {
     "name": "stdout",
     "output_type": "stream",
     "text": [
      "except :  id                                13567\n",
      "like_cnt                            181\n",
      "plylst_title      7080시대가있다면 9020시대도있지!\n",
      "songs                                []\n",
      "tags                             [9020]\n",
      "updt_date       2018-01-22 14:54:13.000\n",
      "Name: 6553, dtype: object\n"
     ]
    },
    {
     "name": "stderr",
     "output_type": "stream",
     "text": [
      "6752it [06:04, 22.66it/s]"
     ]
    },
    {
     "name": "stdout",
     "output_type": "stream",
     "text": [
      "except :  id                                  137580\n",
      "like_cnt                                 3\n",
      "plylst_title    플릿우드 맥의 우먼파워! 스티비 닉스의 음악여정\n",
      "songs                                   []\n",
      "tags                                    []\n",
      "updt_date          2017-01-17 18:23:23.000\n",
      "Name: 6749, dtype: object\n"
     ]
    },
    {
     "name": "stderr",
     "output_type": "stream",
     "text": [
      "6797it [06:06, 23.55it/s]"
     ]
    },
    {
     "name": "stdout",
     "output_type": "stream",
     "text": [
      "except :  id                               151001\n",
      "like_cnt                              2\n",
      "plylst_title                       롯데파주\n",
      "songs                                []\n",
      "tags                                 []\n",
      "updt_date       2013-07-22 17:33:58.000\n",
      "Name: 6793, dtype: object\n"
     ]
    },
    {
     "name": "stderr",
     "output_type": "stream",
     "text": [
      "6880it [06:10, 21.76it/s]"
     ]
    },
    {
     "name": "stdout",
     "output_type": "stream",
     "text": [
      "except :  id                               103131\n",
      "like_cnt                              8\n",
      "plylst_title                      추천고백송\n",
      "songs                                []\n",
      "tags                                 []\n",
      "updt_date       2011-04-18 01:39:18.000\n",
      "Name: 6879, dtype: object\n"
     ]
    },
    {
     "name": "stderr",
     "output_type": "stream",
     "text": [
      "7192it [06:25, 20.80it/s]"
     ]
    },
    {
     "name": "stdout",
     "output_type": "stream",
     "text": [
      "except :  id                                41184\n",
      "like_cnt                            655\n",
      "plylst_title                      간지나는♡\n",
      "songs                                []\n",
      "tags                                 []\n",
      "updt_date       2008-01-09 22:57:35.000\n",
      "Name: 7187, dtype: object\n"
     ]
    },
    {
     "name": "stderr",
     "output_type": "stream",
     "text": [
      "7277it [06:29, 23.73it/s]"
     ]
    },
    {
     "name": "stdout",
     "output_type": "stream",
     "text": [
      "except :  id                               150239\n",
      "like_cnt                              0\n",
      "plylst_title                    크리스마스94\n",
      "songs                                []\n",
      "tags                                 []\n",
      "updt_date       2019-11-19 11:26:00.000\n",
      "Name: 7273, dtype: object\n"
     ]
    },
    {
     "name": "stderr",
     "output_type": "stream",
     "text": [
      "7446it [06:37, 23.91it/s]"
     ]
    },
    {
     "name": "stdout",
     "output_type": "stream",
     "text": [
      "except :  id                                 2844\n",
      "like_cnt                              1\n",
      "plylst_title                    싸롱하우스07\n",
      "songs                                []\n",
      "tags                                 []\n",
      "updt_date       2014-04-30 11:19:14.000\n",
      "Name: 7443, dtype: object\n"
     ]
    },
    {
     "name": "stderr",
     "output_type": "stream",
     "text": [
      "7552it [06:42, 23.67it/s]"
     ]
    },
    {
     "name": "stdout",
     "output_type": "stream",
     "text": [
      "except :  id                               116345\n",
      "like_cnt                              4\n",
      "plylst_title                      흥겨운거2\n",
      "songs                                []\n",
      "tags                                 []\n",
      "updt_date       2008-07-11 00:03:39.000\n",
      "Name: 7550, dtype: object\n"
     ]
    },
    {
     "name": "stderr",
     "output_type": "stream",
     "text": [
      "7588it [06:44, 22.57it/s]"
     ]
    },
    {
     "name": "stdout",
     "output_type": "stream",
     "text": [
      "except :  id                                                          54533\n",
      "like_cnt                                                        9\n",
      "plylst_title                                              라디오 425\n",
      "songs           [493450, 532051, 378672, 653089, 194839, 63120...\n",
      "tags                                                           []\n",
      "updt_date                                 2009-10-14 08:45:30.000\n",
      "Name: 7585, dtype: object\n"
     ]
    },
    {
     "name": "stderr",
     "output_type": "stream",
     "text": [
      "7615it [06:45, 20.75it/s]"
     ]
    },
    {
     "name": "stdout",
     "output_type": "stream",
     "text": [
      "except :  id                               119927\n",
      "like_cnt                              0\n",
      "plylst_title           힙합바지에300mm농구화에압정\n",
      "songs                                []\n",
      "tags                                 []\n",
      "updt_date       2019-04-26 13:37:50.000\n",
      "Name: 7613, dtype: object\n"
     ]
    },
    {
     "name": "stderr",
     "output_type": "stream",
     "text": [
      "7832it [06:55, 21.49it/s]"
     ]
    },
    {
     "name": "stdout",
     "output_type": "stream",
     "text": [
      "except :  id                               108679\n",
      "like_cnt                             15\n",
      "plylst_title                       활力충전\n",
      "songs                                []\n",
      "tags                                 []\n",
      "updt_date       2007-04-28 18:28:33.000\n",
      "Name: 7829, dtype: object\n"
     ]
    },
    {
     "name": "stderr",
     "output_type": "stream",
     "text": [
      "8057it [07:08, 16.80it/s]"
     ]
    },
    {
     "name": "stdout",
     "output_type": "stream",
     "text": [
      "except :  id                                88396\n",
      "like_cnt                             16\n",
      "plylst_title               메디슨쎄븐의 여름커피숍\n",
      "songs                                []\n",
      "tags                                 []\n",
      "updt_date       2012-10-14 13:20:27.000\n",
      "Name: 8054, dtype: object\n"
     ]
    },
    {
     "name": "stderr",
     "output_type": "stream",
     "text": [
      "8066it [07:08, 17.81it/s]"
     ]
    },
    {
     "name": "stdout",
     "output_type": "stream",
     "text": [
      "except :  id                                24012\n",
      "like_cnt                              7\n",
      "plylst_title                      밀라노상회\n",
      "songs                                []\n",
      "tags                                 []\n",
      "updt_date       2016-11-08 22:56:07.000\n",
      "Name: 8064, dtype: object\n"
     ]
    },
    {
     "name": "stderr",
     "output_type": "stream",
     "text": [
      "8233it [07:19, 20.09it/s]"
     ]
    },
    {
     "name": "stdout",
     "output_type": "stream",
     "text": [
      "except :  id                               142812\n",
      "like_cnt                             81\n",
      "plylst_title                       ccm곡\n",
      "songs                                []\n",
      "tags                                 []\n",
      "updt_date       2015-08-24 18:22:26.000\n",
      "Name: 8230, dtype: object\n"
     ]
    },
    {
     "name": "stderr",
     "output_type": "stream",
     "text": [
      "8430it [07:28, 23.89it/s]"
     ]
    },
    {
     "name": "stdout",
     "output_type": "stream",
     "text": [
      "except :  id                               110008\n",
      "like_cnt                              0\n",
      "plylst_title                     가게하면틀꺼\n",
      "songs                                []\n",
      "tags                                 []\n",
      "updt_date       2018-03-09 15:26:46.000\n",
      "Name: 8426, dtype: object\n"
     ]
    },
    {
     "name": "stderr",
     "output_type": "stream",
     "text": [
      "8455it [07:29, 21.96it/s]"
     ]
    },
    {
     "name": "stdout",
     "output_type": "stream",
     "text": [
      "except :  id                               139609\n",
      "like_cnt                             10\n",
      "plylst_title             ▣여름을 부셔버리자▣>_<\n",
      "songs                                []\n",
      "tags                                 []\n",
      "updt_date       2007-08-10 14:21:51.000\n",
      "Name: 8452, dtype: object\n"
     ]
    },
    {
     "name": "stderr",
     "output_type": "stream",
     "text": [
      "8498it [07:31, 24.26it/s]"
     ]
    },
    {
     "name": "stdout",
     "output_type": "stream",
     "text": [
      "except :  id                                12657\n",
      "like_cnt                              1\n",
      "plylst_title                      광순광순2\n",
      "songs                                []\n",
      "tags                                 []\n",
      "updt_date       2015-07-22 15:39:53.000\n",
      "Name: 8494, dtype: object\n"
     ]
    },
    {
     "name": "stderr",
     "output_type": "stream",
     "text": [
      "8519it [07:32, 20.36it/s]"
     ]
    },
    {
     "name": "stdout",
     "output_type": "stream",
     "text": [
      "except :  id                                76751\n",
      "like_cnt                              4\n",
      "plylst_title                 비올때들으면좋은음악\n",
      "songs                                []\n",
      "tags                                 []\n",
      "updt_date       2014-08-04 11:27:02.000\n",
      "Name: 8516, dtype: object\n"
     ]
    },
    {
     "name": "stderr",
     "output_type": "stream",
     "text": [
      "8571it [07:35, 23.57it/s]"
     ]
    },
    {
     "name": "stdout",
     "output_type": "stream",
     "text": [
      "except :  id                                99529\n",
      "like_cnt                              0\n",
      "plylst_title                      달콤바운스\n",
      "songs                                []\n",
      "tags                                 []\n",
      "updt_date       2013-10-29 11:45:19.000\n",
      "Name: 8566, dtype: object\n"
     ]
    },
    {
     "name": "stderr",
     "output_type": "stream",
     "text": [
      "8667it [07:40, 21.50it/s]"
     ]
    },
    {
     "name": "stdout",
     "output_type": "stream",
     "text": [
      "except :  id                               140385\n",
      "like_cnt                              0\n",
      "plylst_title                       두번째요\n",
      "songs                                []\n",
      "tags                                 []\n",
      "updt_date       2018-08-31 09:44:44.000\n",
      "Name: 8662, dtype: object\n"
     ]
    },
    {
     "name": "stderr",
     "output_type": "stream",
     "text": [
      "8704it [07:42, 21.15it/s]"
     ]
    },
    {
     "name": "stdout",
     "output_type": "stream",
     "text": [
      "except :  id                                94754\n",
      "like_cnt                              0\n",
      "plylst_title                      먼지퍼먹어\n",
      "songs                                []\n",
      "tags                                 []\n",
      "updt_date       2020-03-14 13:10:06.000\n",
      "Name: 8702, dtype: object\n"
     ]
    },
    {
     "name": "stderr",
     "output_type": "stream",
     "text": [
      "8710it [07:42, 21.17it/s]"
     ]
    },
    {
     "name": "stdout",
     "output_type": "stream",
     "text": [
      "except :  id                                  958\n",
      "like_cnt                              1\n",
      "plylst_title                      노래를듣장\n",
      "songs                                []\n",
      "tags                                 []\n",
      "updt_date       2013-11-22 14:32:13.000\n",
      "Name: 8707, dtype: object\n"
     ]
    },
    {
     "name": "stderr",
     "output_type": "stream",
     "text": [
      "8719it [07:42, 21.30it/s]"
     ]
    },
    {
     "name": "stdout",
     "output_type": "stream",
     "text": [
      "except :  id                               101887\n",
      "like_cnt                              0\n",
      "plylst_title                       앙내노래\n",
      "songs                                []\n",
      "tags                   [기분전환에좋은신나는노래기분]\n",
      "updt_date       2020-04-06 17:05:45.000\n",
      "Name: 8715, dtype: object\n"
     ]
    },
    {
     "name": "stderr",
     "output_type": "stream",
     "text": [
      "8754it [07:44, 24.22it/s]"
     ]
    },
    {
     "name": "stdout",
     "output_type": "stream",
     "text": [
      "except :  id                                37072\n",
      "like_cnt                              0\n",
      "plylst_title                       정우꺼얌\n",
      "songs                                []\n",
      "tags                                 []\n",
      "updt_date       2017-12-26 10:14:36.000\n",
      "Name: 8752, dtype: object\n"
     ]
    },
    {
     "name": "stderr",
     "output_type": "stream",
     "text": [
      "9095it [08:03, 15.65it/s]"
     ]
    },
    {
     "name": "stdout",
     "output_type": "stream",
     "text": [
      "except :  id                                 6969\n",
      "like_cnt                             14\n",
      "plylst_title         ⭐들으면 가오가 육체를 지배한다⭐\n",
      "songs                                []\n",
      "tags                                 []\n",
      "updt_date       2020-04-21 09:13:40.000\n",
      "Name: 9094, dtype: object\n"
     ]
    },
    {
     "name": "stderr",
     "output_type": "stream",
     "text": [
      "9120it [08:06, 10.81it/s]"
     ]
    },
    {
     "name": "stdout",
     "output_type": "stream",
     "text": [
      "except :  id                               104741\n",
      "like_cnt                              2\n",
      "plylst_title                        봐운스\n",
      "songs                                []\n",
      "tags                                 []\n",
      "updt_date       2014-05-14 14:43:45.000\n",
      "Name: 9118, dtype: object\n"
     ]
    },
    {
     "name": "stderr",
     "output_type": "stream",
     "text": [
      "9218it [08:11, 23.27it/s]"
     ]
    },
    {
     "name": "stdout",
     "output_type": "stream",
     "text": [
      "except :  id                                67361\n",
      "like_cnt                              5\n",
      "plylst_title                       밯라발라\n",
      "songs                                []\n",
      "tags                                 []\n",
      "updt_date       2016-04-20 21:42:45.000\n",
      "Name: 9215, dtype: object\n",
      "except :  id                                50555\n",
      "like_cnt                              0\n",
      "plylst_title                   추억이깃든노래♥\n",
      "songs                                []\n",
      "tags                                 []\n",
      "updt_date       2014-09-04 10:25:07.000\n",
      "Name: 9220, dtype: object\n"
     ]
    },
    {
     "name": "stderr",
     "output_type": "stream",
     "text": [
      "9299it [08:15, 22.77it/s]"
     ]
    },
    {
     "name": "stdout",
     "output_type": "stream",
     "text": [
      "except :  id                                98118\n",
      "like_cnt                              5\n",
      "plylst_title               ▶▶눈속에내린비~♬◀◀\n",
      "songs                                []\n",
      "tags                                 []\n",
      "updt_date       2008-03-26 16:38:13.000\n",
      "Name: 9297, dtype: object\n"
     ]
    },
    {
     "name": "stderr",
     "output_type": "stream",
     "text": [
      "9305it [08:15, 23.01it/s]"
     ]
    },
    {
     "name": "stdout",
     "output_type": "stream",
     "text": [
      "except :  id                                81028\n",
      "like_cnt                              4\n",
      "plylst_title                    비도오고그래서\n",
      "songs                                []\n",
      "tags                                 []\n",
      "updt_date       2018-09-13 22:01:58.000\n",
      "Name: 9303, dtype: object\n"
     ]
    },
    {
     "name": "stderr",
     "output_type": "stream",
     "text": [
      "9375it [08:18, 23.75it/s]"
     ]
    },
    {
     "name": "stdout",
     "output_type": "stream",
     "text": [
      "except :  id                                68981\n",
      "like_cnt                              7\n",
      "plylst_title                       힙합듣자\n",
      "songs                                []\n",
      "tags                                 []\n",
      "updt_date       2018-09-27 02:01:27.000\n",
      "Name: 9370, dtype: object\n"
     ]
    },
    {
     "name": "stderr",
     "output_type": "stream",
     "text": [
      "9428it [08:21, 21.62it/s]"
     ]
    },
    {
     "name": "stdout",
     "output_type": "stream",
     "text": [
      "except :  id                                15366\n",
      "like_cnt                              4\n",
      "plylst_title                    Sentito\n",
      "songs                                []\n",
      "tags                                 []\n",
      "updt_date       2008-08-21 10:05:45.000\n",
      "Name: 9423, dtype: object\n"
     ]
    },
    {
     "name": "stderr",
     "output_type": "stream",
     "text": [
      "9630it [08:31, 21.76it/s]"
     ]
    },
    {
     "name": "stdout",
     "output_type": "stream",
     "text": [
      "except :  id                               114412\n",
      "like_cnt                              0\n",
      "plylst_title                   한박자 천천히。\n",
      "songs                                []\n",
      "tags                                 []\n",
      "updt_date       2006-05-28 08:32:10.000\n",
      "Name: 9628, dtype: object\n",
      "except :  id                                33696\n",
      "like_cnt                              0\n",
      "plylst_title                       비록비록\n",
      "songs                                []\n",
      "tags                                 []\n",
      "updt_date       2014-11-19 14:44:41.000\n",
      "Name: 9632, dtype: object\n"
     ]
    },
    {
     "name": "stderr",
     "output_type": "stream",
     "text": [
      "9808it [08:40, 23.32it/s]"
     ]
    },
    {
     "name": "stdout",
     "output_type": "stream",
     "text": [
      "except :  id                                61684\n",
      "like_cnt                             26\n",
      "plylst_title                     보사어쿠스틱\n",
      "songs                                []\n",
      "tags                                 []\n",
      "updt_date       2018-02-21 17:59:08.000\n",
      "Name: 9805, dtype: object\n",
      "except :  id                               150818\n",
      "like_cnt                              0\n",
      "plylst_title                     吳昌勳오창훈\n",
      "songs                                []\n",
      "tags                                 []\n",
      "updt_date       2018-05-14 09:42:55.000\n",
      "Name: 9809, dtype: object\n"
     ]
    },
    {
     "name": "stderr",
     "output_type": "stream",
     "text": [
      "10102it [08:55, 17.15it/s]"
     ]
    },
    {
     "name": "stdout",
     "output_type": "stream",
     "text": [
      "except :  id                               115633\n",
      "like_cnt                              8\n",
      "plylst_title                  #신나는사랑노래~\n",
      "songs                                []\n",
      "tags                                 []\n",
      "updt_date       2011-07-28 17:29:54.000\n",
      "Name: 10099, dtype: object\n"
     ]
    },
    {
     "name": "stderr",
     "output_type": "stream",
     "text": [
      "10170it [08:58, 20.98it/s]"
     ]
    },
    {
     "name": "stdout",
     "output_type": "stream",
     "text": [
      "except :  id                                 2831\n",
      "like_cnt                              2\n",
      "plylst_title                신나는추석신나는노래와\n",
      "songs                                []\n",
      "tags                                 []\n",
      "updt_date       2014-09-06 02:04:18.000\n",
      "Name: 10169, dtype: object\n"
     ]
    },
    {
     "name": "stderr",
     "output_type": "stream",
     "text": [
      "10274it [09:03, 21.09it/s]"
     ]
    },
    {
     "name": "stdout",
     "output_type": "stream",
     "text": [
      "except :  id                               112777\n",
      "like_cnt                              6\n",
      "plylst_title                  느낌온다전해라~~\n",
      "songs                                []\n",
      "tags                                 []\n",
      "updt_date       2015-12-29 17:45:43.000\n",
      "Name: 10270, dtype: object\n"
     ]
    },
    {
     "name": "stderr",
     "output_type": "stream",
     "text": [
      "10557it [09:17, 22.73it/s]"
     ]
    },
    {
     "name": "stdout",
     "output_type": "stream",
     "text": [
      "except :  id                                41772\n",
      "like_cnt                              2\n",
      "plylst_title                    for you\n",
      "songs                                []\n",
      "tags                                 []\n",
      "updt_date       2014-03-29 20:26:24.000\n",
      "Name: 10552, dtype: object\n"
     ]
    },
    {
     "name": "stderr",
     "output_type": "stream",
     "text": [
      "10740it [09:26, 20.45it/s]"
     ]
    },
    {
     "name": "stdout",
     "output_type": "stream",
     "text": [
      "except :  id                                 1524\n",
      "like_cnt                            338\n",
      "plylst_title                 좋은노래찾고계세요?\n",
      "songs                                []\n",
      "tags                                 []\n",
      "updt_date       2008-05-27 00:29:38.000\n",
      "Name: 10737, dtype: object\n"
     ]
    },
    {
     "name": "stderr",
     "output_type": "stream",
     "text": [
      "10774it [09:28, 22.47it/s]"
     ]
    },
    {
     "name": "stdout",
     "output_type": "stream",
     "text": [
      "except :  id                                58543\n",
      "like_cnt                             15\n",
      "plylst_title                나잘났어Song모음♥\n",
      "songs                                []\n",
      "tags                                 []\n",
      "updt_date       2009-10-08 20:01:22.000\n",
      "Name: 10771, dtype: object\n"
     ]
    },
    {
     "name": "stderr",
     "output_type": "stream",
     "text": [
      "10846it [09:31, 24.03it/s]"
     ]
    },
    {
     "name": "stdout",
     "output_type": "stream",
     "text": [
      "except :  id                               116364\n",
      "like_cnt                              1\n",
      "plylst_title                     검객이노래2\n",
      "songs                                []\n",
      "tags                                 []\n",
      "updt_date       2013-09-20 02:05:54.000\n",
      "Name: 10843, dtype: object\n"
     ]
    },
    {
     "name": "stderr",
     "output_type": "stream",
     "text": [
      "10960it [09:38, 23.14it/s]"
     ]
    },
    {
     "name": "stdout",
     "output_type": "stream",
     "text": [
      "except :  id                                50157\n",
      "like_cnt                              1\n",
      "plylst_title                       앙웅아앙\n",
      "songs                                []\n",
      "tags                                 []\n",
      "updt_date       2014-12-12 05:48:03.000\n",
      "Name: 10955, dtype: object\n"
     ]
    },
    {
     "name": "stderr",
     "output_type": "stream",
     "text": [
      "10967it [09:38, 23.72it/s]"
     ]
    },
    {
     "name": "stdout",
     "output_type": "stream",
     "text": [
      "except :  id                               129490\n",
      "like_cnt                              0\n",
      "plylst_title                     oooooo\n",
      "songs                                []\n",
      "tags                                 []\n",
      "updt_date       2015-08-21 05:01:43.000\n",
      "Name: 10963, dtype: object\n"
     ]
    },
    {
     "name": "stderr",
     "output_type": "stream",
     "text": [
      "11028it [09:41, 24.08it/s]"
     ]
    },
    {
     "name": "stdout",
     "output_type": "stream",
     "text": [
      "except :  id                                36667\n",
      "like_cnt                              9\n",
      "plylst_title                    달려어!!!!\n",
      "songs                                []\n",
      "tags                                 []\n",
      "updt_date       2017-06-05 15:01:36.000\n",
      "Name: 11025, dtype: object\n"
     ]
    },
    {
     "name": "stderr",
     "output_type": "stream",
     "text": [
      "11165it [09:48, 23.24it/s]"
     ]
    },
    {
     "name": "stdout",
     "output_type": "stream",
     "text": [
      "except :  id                               102231\n",
      "like_cnt                             13\n",
      "plylst_title                       중독팝송\n",
      "songs                                []\n",
      "tags                                 []\n",
      "updt_date       2012-08-31 08:31:14.000\n",
      "Name: 11160, dtype: object\n"
     ]
    },
    {
     "name": "stderr",
     "output_type": "stream",
     "text": [
      "11174it [09:48, 23.11it/s]"
     ]
    },
    {
     "name": "stdout",
     "output_type": "stream",
     "text": [
      "except :  id                               138752\n",
      "like_cnt                              3\n",
      "plylst_title     ChoiceForYou°단체곡/국내힙합°\n",
      "songs                                []\n",
      "tags                             [단체곡들]\n",
      "updt_date       2019-06-17 16:14:08.000\n",
      "Name: 11170, dtype: object\n"
     ]
    },
    {
     "name": "stderr",
     "output_type": "stream",
     "text": [
      "11301it [09:54, 23.69it/s]"
     ]
    },
    {
     "name": "stdout",
     "output_type": "stream",
     "text": [
      "except :  id                               136587\n",
      "like_cnt                              5\n",
      "plylst_title                        카페2\n",
      "songs                                []\n",
      "tags                                 []\n",
      "updt_date       2013-05-22 11:14:50.000\n",
      "Name: 11298, dtype: object\n"
     ]
    },
    {
     "name": "stderr",
     "output_type": "stream",
     "text": [
      "11425it [10:00, 20.77it/s]"
     ]
    },
    {
     "name": "stdout",
     "output_type": "stream",
     "text": [
      "except :  id                               146955\n",
      "like_cnt                              1\n",
      "plylst_title                       재즈입문\n",
      "songs                                []\n",
      "tags                                 []\n",
      "updt_date       2019-05-13 19:33:44.000\n",
      "Name: 11421, dtype: object\n"
     ]
    },
    {
     "name": "stderr",
     "output_type": "stream",
     "text": [
      "11464it [10:02, 20.74it/s]"
     ]
    },
    {
     "name": "stdout",
     "output_type": "stream",
     "text": [
      "except :  id                               145136\n",
      "like_cnt                              0\n",
      "plylst_title                     151125\n",
      "songs                                []\n",
      "tags                                 []\n",
      "updt_date       2015-12-02 06:24:58.000\n",
      "Name: 11461, dtype: object\n"
     ]
    },
    {
     "name": "stderr",
     "output_type": "stream",
     "text": [
      "11513it [10:05, 21.08it/s]"
     ]
    },
    {
     "name": "stdout",
     "output_type": "stream",
     "text": [
      "except :  id                                31134\n",
      "like_cnt                              2\n",
      "plylst_title                       굿입니다\n",
      "songs                                []\n",
      "tags                                 []\n",
      "updt_date       2020-01-22 17:21:57.000\n",
      "Name: 11509, dtype: object\n"
     ]
    },
    {
     "name": "stderr",
     "output_type": "stream",
     "text": [
      "11609it [10:09, 24.41it/s]"
     ]
    },
    {
     "name": "stdout",
     "output_type": "stream",
     "text": [
      "except :  id                               124816\n",
      "like_cnt                              2\n",
      "plylst_title                      보로로로복\n",
      "songs                                []\n",
      "tags                                 []\n",
      "updt_date       2012-12-13 18:34:31.000\n",
      "Name: 11606, dtype: object\n"
     ]
    },
    {
     "name": "stderr",
     "output_type": "stream",
     "text": [
      "11746it [10:16, 23.49it/s]"
     ]
    },
    {
     "name": "stdout",
     "output_type": "stream",
     "text": [
      "except :  id                                56119\n",
      "like_cnt                              5\n",
      "plylst_title         ❤감성돔같은음악 감성발라더 특집❤\n",
      "songs                                []\n",
      "tags                                 []\n",
      "updt_date       2018-04-11 18:34:53.000\n",
      "Name: 11742, dtype: object\n"
     ]
    },
    {
     "name": "stderr",
     "output_type": "stream",
     "text": [
      "11790it [10:18, 22.61it/s]"
     ]
    },
    {
     "name": "stdout",
     "output_type": "stream",
     "text": [
      "except :  id                                75916\n",
      "like_cnt                              1\n",
      "plylst_title                       1313\n",
      "songs                                []\n",
      "tags                               [무료]\n",
      "updt_date       2020-03-17 14:12:10.000\n",
      "Name: 11786, dtype: object\n"
     ]
    },
    {
     "name": "stderr",
     "output_type": "stream",
     "text": [
      "11821it [10:19, 24.16it/s]"
     ]
    },
    {
     "name": "stdout",
     "output_type": "stream",
     "text": [
      "except :  id                               125621\n",
      "like_cnt                              1\n",
      "plylst_title                     MC발라드3\n",
      "songs                                []\n",
      "tags                                 []\n",
      "updt_date       2014-05-13 23:10:39.000\n",
      "Name: 11817, dtype: object\n"
     ]
    },
    {
     "name": "stderr",
     "output_type": "stream",
     "text": [
      "12086it [10:32, 23.20it/s]"
     ]
    },
    {
     "name": "stdout",
     "output_type": "stream",
     "text": [
      "except :  id                                83103\n",
      "like_cnt                              2\n",
      "plylst_title                     한국옛날노래\n",
      "songs                                []\n",
      "tags                                 []\n",
      "updt_date       2016-10-20 01:31:15.000\n",
      "Name: 12082, dtype: object\n"
     ]
    },
    {
     "name": "stderr",
     "output_type": "stream",
     "text": [
      "12189it [10:37, 23.99it/s]"
     ]
    },
    {
     "name": "stdout",
     "output_type": "stream",
     "text": [
      "except :  id                                66812\n",
      "like_cnt                              1\n",
      "plylst_title                  #내가듣는감성힙합\n",
      "songs                                []\n",
      "tags                                 []\n",
      "updt_date       2018-06-25 09:56:06.000\n",
      "Name: 12185, dtype: object\n"
     ]
    },
    {
     "name": "stderr",
     "output_type": "stream",
     "text": [
      "12246it [10:40, 24.05it/s]"
     ]
    },
    {
     "name": "stdout",
     "output_type": "stream",
     "text": [
      "except :  id                               125367\n",
      "like_cnt                              4\n",
      "plylst_title                     전자소녀감성\n",
      "songs                                []\n",
      "tags                                 []\n",
      "updt_date       2016-01-13 18:03:17.000\n",
      "Name: 12242, dtype: object\n"
     ]
    },
    {
     "name": "stderr",
     "output_type": "stream",
     "text": [
      "12333it [10:44, 15.94it/s]"
     ]
    },
    {
     "name": "stdout",
     "output_type": "stream",
     "text": [
      "except :  id                               133394\n",
      "like_cnt                              0\n",
      "plylst_title                       ❤️❤️\n",
      "songs                                []\n",
      "tags                                 []\n",
      "updt_date       2018-04-23 11:42:16.000\n",
      "Name: 12331, dtype: object\n"
     ]
    },
    {
     "name": "stderr",
     "output_type": "stream",
     "text": [
      "12488it [10:52, 13.79it/s]"
     ]
    },
    {
     "name": "stdout",
     "output_type": "stream",
     "text": [
      "except :  id                               134646\n",
      "like_cnt                             12\n",
      "plylst_title              슬프고아름다운두번째이야기\n",
      "songs                                []\n",
      "tags                                 []\n",
      "updt_date       2009-10-01 21:06:12.000\n",
      "Name: 12486, dtype: object\n"
     ]
    },
    {
     "name": "stderr",
     "output_type": "stream",
     "text": [
      "12553it [10:56, 22.82it/s]"
     ]
    },
    {
     "name": "stdout",
     "output_type": "stream",
     "text": [
      "except :  id                                71575\n",
      "like_cnt                              0\n",
      "plylst_title                    신곡들어볼래?\n",
      "songs                                []\n",
      "tags                                 []\n",
      "updt_date       2016-09-21 16:09:12.000\n",
      "Name: 12550, dtype: object\n"
     ]
    },
    {
     "name": "stderr",
     "output_type": "stream",
     "text": [
      "12571it [10:57, 23.91it/s]"
     ]
    },
    {
     "name": "stdout",
     "output_type": "stream",
     "text": [
      "except :  id                                45655\n",
      "like_cnt                              7\n",
      "plylst_title                     ❤취향존중❤\n",
      "songs                                []\n",
      "tags                                 []\n",
      "updt_date       2017-10-30 23:00:12.000\n",
      "Name: 12568, dtype: object\n"
     ]
    },
    {
     "name": "stderr",
     "output_type": "stream",
     "text": [
      "12781it [11:07, 23.68it/s]"
     ]
    },
    {
     "name": "stdout",
     "output_type": "stream",
     "text": [
      "except :  id                                26032\n",
      "like_cnt                              2\n",
      "plylst_title                  깜찍한 트롯트세상\n",
      "songs                                []\n",
      "tags                                 []\n",
      "updt_date       2005-05-12 10:02:01.000\n",
      "Name: 12777, dtype: object\n"
     ]
    },
    {
     "name": "stderr",
     "output_type": "stream",
     "text": [
      "12878it [11:12, 20.11it/s]"
     ]
    },
    {
     "name": "stdout",
     "output_type": "stream",
     "text": [
      "except :  id                               106010\n",
      "like_cnt                              3\n",
      "plylst_title                 saygoodbye\n",
      "songs                                []\n",
      "tags                                 []\n",
      "updt_date       2009-02-21 16:49:25.000\n",
      "Name: 12876, dtype: object\n"
     ]
    },
    {
     "name": "stderr",
     "output_type": "stream",
     "text": [
      "13173it [11:27, 21.51it/s]"
     ]
    },
    {
     "name": "stdout",
     "output_type": "stream",
     "text": [
      "except :  id                                54924\n",
      "like_cnt                              0\n",
      "plylst_title                    듣기좋음건들ㄴ\n",
      "songs                                []\n",
      "tags                                 []\n",
      "updt_date       2014-05-10 23:25:38.000\n",
      "Name: 13169, dtype: object\n"
     ]
    },
    {
     "name": "stderr",
     "output_type": "stream",
     "text": [
      "13598it [11:47, 21.63it/s]"
     ]
    },
    {
     "name": "stdout",
     "output_type": "stream",
     "text": [
      "except :  id                                16879\n",
      "like_cnt                              0\n",
      "plylst_title                       메갸ㅣㅣ\n",
      "songs                                []\n",
      "tags                               [메갸]\n",
      "updt_date       2019-11-01 11:21:54.000\n",
      "Name: 13595, dtype: object\n"
     ]
    },
    {
     "name": "stderr",
     "output_type": "stream",
     "text": [
      "14249it [12:28, 13.95it/s]"
     ]
    },
    {
     "name": "stdout",
     "output_type": "stream",
     "text": [
      "except :  id                                31766\n",
      "like_cnt                              2\n",
      "plylst_title       인터넷할때도 공부할때도 맨날듣는음악ㅎ\n",
      "songs                                []\n",
      "tags                                 []\n",
      "updt_date       2006-07-20 17:35:37.000\n",
      "Name: 14246, dtype: object\n"
     ]
    },
    {
     "name": "stderr",
     "output_type": "stream",
     "text": [
      "14256it [12:28, 15.19it/s]"
     ]
    },
    {
     "name": "stdout",
     "output_type": "stream",
     "text": [
      "except :  id                                34595\n",
      "like_cnt                             82\n",
      "plylst_title                    좋은노래모음2\n",
      "songs                                []\n",
      "tags                                 []\n",
      "updt_date       2018-01-30 16:24:05.000\n",
      "Name: 14253, dtype: object\n"
     ]
    },
    {
     "name": "stderr",
     "output_type": "stream",
     "text": [
      "14446it [12:38, 21.94it/s]"
     ]
    },
    {
     "name": "stdout",
     "output_type": "stream",
     "text": [
      "except :  id                                                           9391\n",
      "like_cnt                                                        8\n",
      "plylst_title                                      Lunaworld Vol.3\n",
      "songs           [109031, 180931, 539385, 232769, 175154, 52596...\n",
      "tags                                                           []\n",
      "updt_date                                 2009-06-15 09:23:42.000\n",
      "Name: 14443, dtype: object\n"
     ]
    },
    {
     "name": "stderr",
     "output_type": "stream",
     "text": [
      "14516it [12:42, 21.04it/s]"
     ]
    },
    {
     "name": "stdout",
     "output_type": "stream",
     "text": [
      "except :  id                                69793\n",
      "like_cnt                              0\n",
      "plylst_title                      재미없는거\n",
      "songs                                []\n",
      "tags                                 []\n",
      "updt_date       2016-06-29 16:20:56.000\n",
      "Name: 14513, dtype: object\n"
     ]
    },
    {
     "name": "stderr",
     "output_type": "stream",
     "text": [
      "14592it [12:45, 22.07it/s]"
     ]
    },
    {
     "name": "stdout",
     "output_type": "stream",
     "text": [
      "except :  id                               116211\n",
      "like_cnt                              1\n",
      "plylst_title                       쌍쌍포차\n",
      "songs                                []\n",
      "tags                                 []\n",
      "updt_date       2014-02-06 02:07:56.000\n",
      "Name: 14590, dtype: object\n"
     ]
    },
    {
     "name": "stderr",
     "output_type": "stream",
     "text": [
      "14790it [12:56, 23.11it/s]"
     ]
    },
    {
     "name": "stdout",
     "output_type": "stream",
     "text": [
      "except :  id                                14827\n",
      "like_cnt                              1\n",
      "plylst_title                     띵곡밍밍뿡뿡\n",
      "songs                                []\n",
      "tags                                 []\n",
      "updt_date       2017-10-16 18:16:52.000\n",
      "Name: 14787, dtype: object\n"
     ]
    },
    {
     "name": "stderr",
     "output_type": "stream",
     "text": [
      "14867it [12:59, 23.72it/s]"
     ]
    },
    {
     "name": "stdout",
     "output_type": "stream",
     "text": [
      "except :  id                                15738\n",
      "like_cnt                              9\n",
      "plylst_title                    44세밤겨울향\n",
      "songs                                []\n",
      "tags                                 []\n",
      "updt_date       2009-12-30 04:53:07.000\n",
      "Name: 14864, dtype: object\n"
     ]
    },
    {
     "name": "stderr",
     "output_type": "stream",
     "text": [
      "14912it [13:02, 20.93it/s]"
     ]
    },
    {
     "name": "stdout",
     "output_type": "stream",
     "text": [
      "except :  id                                                         44791\n",
      "like_cnt                                                       4\n",
      "plylst_title                                  I L  D i v o  -  1\n",
      "songs           [224095, 442307, 336141, 383329, 425744, 617269]\n",
      "tags                                                          []\n",
      "updt_date                                2012-03-14 21:20:16.000\n",
      "Name: 14911, dtype: object\n"
     ]
    },
    {
     "name": "stderr",
     "output_type": "stream",
     "text": [
      "14941it [13:03, 23.59it/s]"
     ]
    },
    {
     "name": "stdout",
     "output_type": "stream",
     "text": [
      "except :  id                                12059\n",
      "like_cnt                             19\n",
      "plylst_title            이별노래T^T눈물펑펑쏟아져요\n",
      "songs                                []\n",
      "tags                                 []\n",
      "updt_date       2007-06-15 08:11:10.000\n",
      "Name: 14937, dtype: object\n"
     ]
    },
    {
     "name": "stderr",
     "output_type": "stream",
     "text": [
      "15139it [13:17, 15.73it/s]"
     ]
    },
    {
     "name": "stdout",
     "output_type": "stream",
     "text": [
      "except :  id                               116079\n",
      "like_cnt                             97\n",
      "plylst_title                  신나는파티를즐겨요\n",
      "songs                                []\n",
      "tags                                 []\n",
      "updt_date       2007-04-17 19:56:29.000\n",
      "Name: 15137, dtype: object\n"
     ]
    },
    {
     "name": "stderr",
     "output_type": "stream",
     "text": [
      "15559it [13:39, 24.20it/s]"
     ]
    },
    {
     "name": "stdout",
     "output_type": "stream",
     "text": [
      "except :  id                                58330\n",
      "like_cnt                             15\n",
      "plylst_title                   3040추억의팝\n",
      "songs                                []\n",
      "tags                                 []\n",
      "updt_date       2011-03-09 20:15:41.000\n",
      "Name: 15557, dtype: object\n"
     ]
    },
    {
     "name": "stderr",
     "output_type": "stream",
     "text": [
      "15583it [13:40, 20.95it/s]"
     ]
    },
    {
     "name": "stdout",
     "output_type": "stream",
     "text": [
      "except :  id                                90827\n",
      "like_cnt                              1\n",
      "plylst_title                       덥다더워\n",
      "songs                                []\n",
      "tags                                 []\n",
      "updt_date       2017-03-10 17:33:39.000\n",
      "Name: 15579, dtype: object\n"
     ]
    },
    {
     "name": "stderr",
     "output_type": "stream",
     "text": [
      "15592it [13:41, 21.40it/s]"
     ]
    },
    {
     "name": "stdout",
     "output_type": "stream",
     "text": [
      "except :  id                                76970\n",
      "like_cnt                             99\n",
      "plylst_title                 보사노바느낌의...\n",
      "songs                                []\n",
      "tags                                 []\n",
      "updt_date       2014-04-15 16:44:53.000\n",
      "Name: 15587, dtype: object\n"
     ]
    },
    {
     "name": "stderr",
     "output_type": "stream",
     "text": [
      "15614it [13:42, 19.52it/s]"
     ]
    },
    {
     "name": "stdout",
     "output_type": "stream",
     "text": [
      "except :  id                                11218\n",
      "like_cnt                              0\n",
      "plylst_title                   기분전환하세요♪\n",
      "songs                                []\n",
      "tags                                 []\n",
      "updt_date       2006-08-11 11:30:25.000\n",
      "Name: 15612, dtype: object\n"
     ]
    },
    {
     "name": "stderr",
     "output_type": "stream",
     "text": [
      "15751it [13:49, 23.26it/s]"
     ]
    },
    {
     "name": "stdout",
     "output_type": "stream",
     "text": [
      "except :  id                               110417\n",
      "like_cnt                             13\n",
      "plylst_title                      발라드노래\n",
      "songs                                []\n",
      "tags                                 []\n",
      "updt_date       2017-07-21 08:36:33.000\n",
      "Name: 15748, dtype: object\n"
     ]
    },
    {
     "name": "stderr",
     "output_type": "stream",
     "text": [
      "15787it [13:51, 22.10it/s]"
     ]
    },
    {
     "name": "stdout",
     "output_type": "stream",
     "text": [
      "except :  id                                33879\n",
      "like_cnt                              2\n",
      "plylst_title                    좋은노래총집합\n",
      "songs                                []\n",
      "tags                                 []\n",
      "updt_date       2019-02-19 10:04:18.000\n",
      "Name: 15782, dtype: object\n"
     ]
    },
    {
     "name": "stderr",
     "output_type": "stream",
     "text": [
      "15818it [13:52, 22.89it/s]"
     ]
    },
    {
     "name": "stdout",
     "output_type": "stream",
     "text": [
      "except :  id                               100901\n",
      "like_cnt                              1\n",
      "plylst_title                 ☆추억의 명곡모음☆\n",
      "songs                                []\n",
      "tags                                 []\n",
      "updt_date       2006-02-07 23:19:09.000\n",
      "Name: 15813, dtype: object\n"
     ]
    },
    {
     "name": "stderr",
     "output_type": "stream",
     "text": [
      "16078it [14:06, 12.57it/s]"
     ]
    },
    {
     "name": "stdout",
     "output_type": "stream",
     "text": [
      "except :  id                                83179\n",
      "like_cnt                              4\n",
      "plylst_title                  cafeflora\n",
      "songs                                []\n",
      "tags                                 []\n",
      "updt_date       2017-02-12 12:10:14.000\n",
      "Name: 16076, dtype: object\n"
     ]
    },
    {
     "name": "stderr",
     "output_type": "stream",
     "text": [
      "16137it [14:09, 23.44it/s]"
     ]
    },
    {
     "name": "stdout",
     "output_type": "stream",
     "text": [
      "except :  id                                 6738\n",
      "like_cnt                            346\n",
      "plylst_title                      ㅁㅁㅁㅁㅁ\n",
      "songs                                []\n",
      "tags                                 []\n",
      "updt_date       2018-01-23 02:11:02.000\n",
      "Name: 16134, dtype: object\n"
     ]
    },
    {
     "name": "stderr",
     "output_type": "stream",
     "text": [
      "16143it [14:09, 23.16it/s]"
     ]
    },
    {
     "name": "stdout",
     "output_type": "stream",
     "text": [
      "except :  id                               145174\n",
      "like_cnt                             26\n",
      "plylst_title           뜻하지않은때에,뜻하지않은곳에서\n",
      "songs                                []\n",
      "tags                                 []\n",
      "updt_date       2011-03-16 11:06:39.000\n",
      "Name: 16141, dtype: object\n"
     ]
    },
    {
     "name": "stderr",
     "output_type": "stream",
     "text": [
      "16227it [14:13, 23.10it/s]"
     ]
    },
    {
     "name": "stdout",
     "output_type": "stream",
     "text": [
      "except :  id                               137833\n",
      "like_cnt                              0\n",
      "plylst_title                  첫번째는 날로먹기\n",
      "songs                                []\n",
      "tags                                 []\n",
      "updt_date       2014-08-01 19:02:02.000\n",
      "Name: 16224, dtype: object\n"
     ]
    },
    {
     "name": "stderr",
     "output_type": "stream",
     "text": [
      "16339it [14:19, 22.93it/s]"
     ]
    },
    {
     "name": "stdout",
     "output_type": "stream",
     "text": [
      "except :  id                               136876\n",
      "like_cnt                              5\n",
      "plylst_title                      달달해요♪\n",
      "songs                                []\n",
      "tags                                 []\n",
      "updt_date       2011-07-19 11:19:22.000\n",
      "Name: 16335, dtype: object\n"
     ]
    },
    {
     "name": "stderr",
     "output_type": "stream",
     "text": [
      "16345it [14:19, 22.70it/s]"
     ]
    },
    {
     "name": "stdout",
     "output_type": "stream",
     "text": [
      "except :  id                               150632\n",
      "like_cnt                              5\n",
      "plylst_title                 FeelSoGood\n",
      "songs                                []\n",
      "tags                                 []\n",
      "updt_date       2009-02-09 14:11:24.000\n",
      "Name: 16342, dtype: object\n"
     ]
    },
    {
     "name": "stderr",
     "output_type": "stream",
     "text": [
      "16688it [14:37, 18.77it/s]"
     ]
    },
    {
     "name": "stdout",
     "output_type": "stream",
     "text": [
      "except :  id                               102280\n",
      "like_cnt                              3\n",
      "plylst_title           특이한보이스를소유한가수들의노래\n",
      "songs                                []\n",
      "tags                                 []\n",
      "updt_date       2014-09-23 11:33:55.000\n",
      "Name: 16685, dtype: object\n"
     ]
    },
    {
     "name": "stderr",
     "output_type": "stream",
     "text": [
      "16809it [14:43, 21.33it/s]"
     ]
    },
    {
     "name": "stdout",
     "output_type": "stream",
     "text": [
      "except :  id                                 2084\n",
      "like_cnt                              2\n",
      "plylst_title                       복고노래\n",
      "songs                                []\n",
      "tags                                 []\n",
      "updt_date       2017-11-24 19:35:50.000\n",
      "Name: 16805, dtype: object\n"
     ]
    },
    {
     "name": "stderr",
     "output_type": "stream",
     "text": [
      "16870it [14:45, 22.59it/s]"
     ]
    },
    {
     "name": "stdout",
     "output_type": "stream",
     "text": [
      "except :  id                                81149\n",
      "like_cnt                              2\n",
      "plylst_title                       분위기팝\n",
      "songs                                []\n",
      "tags                                 []\n",
      "updt_date       2014-03-01 21:42:27.000\n",
      "Name: 16866, dtype: object\n"
     ]
    },
    {
     "name": "stderr",
     "output_type": "stream",
     "text": [
      "16983it [14:51, 24.14it/s]"
     ]
    },
    {
     "name": "stdout",
     "output_type": "stream",
     "text": [
      "except :  id                                14845\n",
      "like_cnt                              2\n",
      "plylst_title                       알앤뷔~\n",
      "songs                                []\n",
      "tags                                 []\n",
      "updt_date       2017-09-26 12:49:49.000\n",
      "Name: 16980, dtype: object\n"
     ]
    },
    {
     "name": "stderr",
     "output_type": "stream",
     "text": [
      "17148it [14:59, 15.81it/s]"
     ]
    },
    {
     "name": "stdout",
     "output_type": "stream",
     "text": [
      "except :  id                                24260\n",
      "like_cnt                              0\n",
      "plylst_title            라틴음악에 빠져보시겟습니까?\n",
      "songs                                []\n",
      "tags                                 []\n",
      "updt_date       2011-06-19 11:36:37.000\n",
      "Name: 17146, dtype: object\n"
     ]
    },
    {
     "name": "stderr",
     "output_type": "stream",
     "text": [
      "17378it [15:19, 18.74it/s]"
     ]
    },
    {
     "name": "stdout",
     "output_type": "stream",
     "text": [
      "except :  id                                34841\n",
      "like_cnt                             11\n",
      "plylst_title            ♥♥♥♥♥♥♥♥♥♥♥♥♥♥♥\n",
      "songs                                []\n",
      "tags                                 []\n",
      "updt_date       2007-10-25 09:10:55.000\n",
      "Name: 17376, dtype: object\n"
     ]
    },
    {
     "name": "stderr",
     "output_type": "stream",
     "text": [
      "17475it [15:24, 24.64it/s]"
     ]
    },
    {
     "name": "stdout",
     "output_type": "stream",
     "text": [
      "except :  id                                23097\n",
      "like_cnt                              2\n",
      "plylst_title                 방탄소년단이부른노래\n",
      "songs                                []\n",
      "tags                                 []\n",
      "updt_date       2017-07-27 18:18:42.000\n",
      "Name: 17471, dtype: object\n"
     ]
    },
    {
     "name": "stderr",
     "output_type": "stream",
     "text": [
      "17599it [15:29, 23.76it/s]"
     ]
    },
    {
     "name": "stdout",
     "output_type": "stream",
     "text": [
      "except :  id                               134666\n",
      "like_cnt                              0\n",
      "plylst_title                      CNpop\n",
      "songs                                []\n",
      "tags                                 []\n",
      "updt_date       2014-03-17 01:19:16.000\n",
      "Name: 17594, dtype: object\n"
     ]
    },
    {
     "name": "stderr",
     "output_type": "stream",
     "text": [
      "17611it [15:30, 23.09it/s]"
     ]
    },
    {
     "name": "stdout",
     "output_type": "stream",
     "text": [
      "except :  id                                34410\n",
      "like_cnt                             74\n",
      "plylst_title                 제이플라 커버곡모음\n",
      "songs                                []\n",
      "tags                                 []\n",
      "updt_date       2017-10-15 15:46:51.000\n",
      "Name: 17606, dtype: object\n"
     ]
    },
    {
     "name": "stderr",
     "output_type": "stream",
     "text": [
      "17657it [15:32, 22.18it/s]"
     ]
    },
    {
     "name": "stdout",
     "output_type": "stream",
     "text": [
      "except :  id                                35417\n",
      "like_cnt                              3\n",
      "plylst_title                       7777\n",
      "songs                                []\n",
      "tags                             [숨이탁탁]\n",
      "updt_date       2018-03-11 15:21:44.000\n",
      "Name: 17652, dtype: object\n"
     ]
    },
    {
     "name": "stderr",
     "output_type": "stream",
     "text": [
      "\r",
      "17660it [15:32, 22.45it/s]"
     ]
    },
    {
     "name": "stdout",
     "output_type": "stream",
     "text": [
      "except :  id                                66949\n",
      "like_cnt                              7\n",
      "plylst_title                김거지를 아십니까?!\n",
      "songs                                []\n",
      "tags                                 []\n",
      "updt_date       2014-10-28 03:33:09.000\n",
      "Name: 17657, dtype: object\n"
     ]
    },
    {
     "name": "stderr",
     "output_type": "stream",
     "text": [
      "17771it [15:38, 20.35it/s]"
     ]
    },
    {
     "name": "stdout",
     "output_type": "stream",
     "text": [
      "except :  id                               153159\n",
      "like_cnt                            577\n",
      "plylst_title      ✧˖°감각적인 ᴳᴿᴼᴼᵛᴱ 사운드✧˖°\n",
      "songs                                []\n",
      "tags                                 []\n",
      "updt_date       2020-04-20 00:31:00.000\n",
      "Name: 17768, dtype: object\n"
     ]
    },
    {
     "name": "stderr",
     "output_type": "stream",
     "text": [
      "17889it [15:44, 23.14it/s]"
     ]
    },
    {
     "name": "stdout",
     "output_type": "stream",
     "text": [
      "except :  id                               138737\n",
      "like_cnt                              2\n",
      "plylst_title                    배부름의미학a\n",
      "songs                                []\n",
      "tags                                 []\n",
      "updt_date       2011-08-02 14:06:29.000\n",
      "Name: 17887, dtype: object\n"
     ]
    },
    {
     "name": "stderr",
     "output_type": "stream",
     "text": [
      "18011it [15:50, 22.84it/s]"
     ]
    },
    {
     "name": "stdout",
     "output_type": "stream",
     "text": [
      "except :  id                                26122\n",
      "like_cnt                              5\n",
      "plylst_title                       입문입문\n",
      "songs                                []\n",
      "tags                                 []\n",
      "updt_date       2017-10-11 09:19:54.000\n",
      "Name: 18006, dtype: object\n"
     ]
    },
    {
     "name": "stderr",
     "output_type": "stream",
     "text": [
      "18085it [15:53, 24.47it/s]"
     ]
    },
    {
     "name": "stdout",
     "output_type": "stream",
     "text": [
      "except :  id                               132906\n",
      "like_cnt                              2\n",
      "plylst_title             이별이다가와슬퍼질때듣는음악\n",
      "songs                                []\n",
      "tags                              [멀어짐]\n",
      "updt_date       2019-10-20 21:55:41.000\n",
      "Name: 18081, dtype: object\n"
     ]
    },
    {
     "name": "stderr",
     "output_type": "stream",
     "text": [
      "18157it [15:57, 23.69it/s]"
     ]
    },
    {
     "name": "stdout",
     "output_type": "stream",
     "text": [
      "except :  id                                72868\n",
      "like_cnt                              2\n",
      "plylst_title                   봄바람살랑~~~\n",
      "songs                                []\n",
      "tags                            [어떤노래도]\n",
      "updt_date       2020-04-13 13:08:19.000\n",
      "Name: 18151, dtype: object\n"
     ]
    },
    {
     "name": "stderr",
     "output_type": "stream",
     "text": [
      "18269it [16:03, 15.75it/s]"
     ]
    },
    {
     "name": "stdout",
     "output_type": "stream",
     "text": [
      "except :  id                               114733\n",
      "like_cnt                              0\n",
      "plylst_title                      모두애꼬치\n",
      "songs                                []\n",
      "tags                                 []\n",
      "updt_date       2014-03-07 01:37:28.000\n",
      "Name: 18267, dtype: object\n"
     ]
    },
    {
     "name": "stderr",
     "output_type": "stream",
     "text": [
      "18596it [16:19, 19.46it/s]"
     ]
    },
    {
     "name": "stdout",
     "output_type": "stream",
     "text": [
      "except :  id                               127438\n",
      "like_cnt                             10\n",
      "plylst_title            너의손꼭잡고그냥이길을걸었으면\n",
      "songs                                []\n",
      "tags                                 []\n",
      "updt_date       2010-09-19 10:19:15.000\n",
      "Name: 18593, dtype: object\n"
     ]
    },
    {
     "name": "stderr",
     "output_type": "stream",
     "text": [
      "18691it [16:23, 22.86it/s]"
     ]
    },
    {
     "name": "stdout",
     "output_type": "stream",
     "text": [
      "except :  id                               101755\n",
      "like_cnt                              6\n",
      "plylst_title                    변함없는발라드\n",
      "songs                                []\n",
      "tags                                 []\n",
      "updt_date       2014-03-26 01:00:23.000\n",
      "Name: 18687, dtype: object\n"
     ]
    },
    {
     "name": "stderr",
     "output_type": "stream",
     "text": [
      "18736it [16:25, 20.61it/s]"
     ]
    },
    {
     "name": "stdout",
     "output_type": "stream",
     "text": [
      "except :  id                                32693\n",
      "like_cnt                              5\n",
      "plylst_title                    내마음에눈물이\n",
      "songs                                []\n",
      "tags                                 []\n",
      "updt_date       2010-12-04 00:02:18.000\n",
      "Name: 18735, dtype: object\n"
     ]
    },
    {
     "name": "stderr",
     "output_type": "stream",
     "text": [
      "18767it [16:27, 22.25it/s]"
     ]
    },
    {
     "name": "stdout",
     "output_type": "stream",
     "text": [
      "except :  id                               107617\n",
      "like_cnt                              2\n",
      "plylst_title                      슬리피우드\n",
      "songs                                []\n",
      "tags                                 []\n",
      "updt_date       2019-03-14 09:47:47.000\n",
      "Name: 18762, dtype: object\n"
     ]
    },
    {
     "name": "stderr",
     "output_type": "stream",
     "text": [
      "18929it [16:35, 22.61it/s]"
     ]
    },
    {
     "name": "stdout",
     "output_type": "stream",
     "text": [
      "except :  id                                33399\n",
      "like_cnt                            137\n",
      "plylst_title                     색소폰의매력\n",
      "songs                                []\n",
      "tags                                 []\n",
      "updt_date       2015-08-04 23:41:14.000\n",
      "Name: 18925, dtype: object\n"
     ]
    },
    {
     "name": "stderr",
     "output_type": "stream",
     "text": [
      "18989it [16:38, 19.49it/s]"
     ]
    },
    {
     "name": "stdout",
     "output_type": "stream",
     "text": [
      "except :  id                                 7509\n",
      "like_cnt                              9\n",
      "plylst_title                    평창할인마트2\n",
      "songs                                []\n",
      "tags                                 []\n",
      "updt_date       2014-06-11 08:43:49.000\n",
      "Name: 18986, dtype: object\n"
     ]
    },
    {
     "name": "stderr",
     "output_type": "stream",
     "text": [
      "19000it [16:39, 19.34it/s]"
     ]
    },
    {
     "name": "stdout",
     "output_type": "stream",
     "text": [
      "except :  id                                88496\n",
      "like_cnt                              2\n",
      "plylst_title                     201409\n",
      "songs                                []\n",
      "tags                                 []\n",
      "updt_date       2014-09-16 10:00:15.000\n",
      "Name: 18997, dtype: object\n"
     ]
    },
    {
     "name": "stderr",
     "output_type": "stream",
     "text": [
      "19343it [16:56, 23.37it/s]"
     ]
    },
    {
     "name": "stdout",
     "output_type": "stream",
     "text": [
      "except :  id                                86628\n",
      "like_cnt                             10\n",
      "plylst_title                   커피와함께..。\n",
      "songs                                []\n",
      "tags                                 []\n",
      "updt_date       2011-07-19 17:35:52.000\n",
      "Name: 19340, dtype: object\n"
     ]
    },
    {
     "name": "stderr",
     "output_type": "stream",
     "text": [
      "19993it [17:35, 17.88it/s]"
     ]
    },
    {
     "name": "stdout",
     "output_type": "stream",
     "text": [
      "except :  id                               131666\n",
      "like_cnt                             30\n",
      "plylst_title                   두번째슬픈발라드\n",
      "songs                                []\n",
      "tags                                 []\n",
      "updt_date       2008-09-14 08:18:44.000\n",
      "Name: 19989, dtype: object\n"
     ]
    },
    {
     "name": "stderr",
     "output_type": "stream",
     "text": [
      "20049it [17:38, 23.39it/s]"
     ]
    },
    {
     "name": "stdout",
     "output_type": "stream",
     "text": [
      "except :  id                                21069\n",
      "like_cnt                              2\n",
      "plylst_title                      기분2••\n",
      "songs                                []\n",
      "tags                                 []\n",
      "updt_date       2018-02-01 13:22:26.000\n",
      "Name: 20045, dtype: object\n"
     ]
    },
    {
     "name": "stderr",
     "output_type": "stream",
     "text": [
      "20177it [17:44, 22.67it/s]"
     ]
    },
    {
     "name": "stdout",
     "output_type": "stream",
     "text": [
      "except :  id                               139228\n",
      "like_cnt                             14\n",
      "plylst_title                  JAZZYMOOD\n",
      "songs                                []\n",
      "tags                        [jazzymood]\n",
      "updt_date       2018-03-07 16:59:58.000\n",
      "Name: 20175, dtype: object\n"
     ]
    },
    {
     "name": "stderr",
     "output_type": "stream",
     "text": [
      "20215it [17:46, 23.06it/s]"
     ]
    },
    {
     "name": "stdout",
     "output_type": "stream",
     "text": [
      "except :  id                                90965\n",
      "like_cnt                            109\n",
      "plylst_title                         윤형\n",
      "songs                                []\n",
      "tags                                 []\n",
      "updt_date       2013-11-17 00:25:28.000\n",
      "Name: 20212, dtype: object\n"
     ]
    },
    {
     "name": "stderr",
     "output_type": "stream",
     "text": [
      "20420it [17:56, 22.69it/s]"
     ]
    },
    {
     "name": "stdout",
     "output_type": "stream",
     "text": [
      "except :  id                               111938\n",
      "like_cnt                              2\n",
      "plylst_title                   너무좋은노래!!\n",
      "songs                                []\n",
      "tags                                 []\n",
      "updt_date       2011-04-19 18:40:30.000\n",
      "Name: 20416, dtype: object\n"
     ]
    },
    {
     "name": "stderr",
     "output_type": "stream",
     "text": [
      "20429it [17:57, 22.53it/s]"
     ]
    },
    {
     "name": "stdout",
     "output_type": "stream",
     "text": [
      "except :  id                                 1096\n",
      "like_cnt                              0\n",
      "plylst_title                   크리스마스389\n",
      "songs                                []\n",
      "tags                                 []\n",
      "updt_date       2019-11-19 15:10:47.000\n",
      "Name: 20426, dtype: object\n"
     ]
    },
    {
     "name": "stderr",
     "output_type": "stream",
     "text": [
      "20492it [18:00, 21.74it/s]"
     ]
    },
    {
     "name": "stdout",
     "output_type": "stream",
     "text": [
      "except :  id                               109392\n",
      "like_cnt                             19\n",
      "plylst_title                   나만알고싶은인디\n",
      "songs                                []\n",
      "tags                                 []\n",
      "updt_date       2015-10-19 19:36:44.000\n",
      "Name: 20488, dtype: object\n"
     ]
    },
    {
     "name": "stderr",
     "output_type": "stream",
     "text": [
      "20548it [18:03, 21.67it/s]"
     ]
    },
    {
     "name": "stdout",
     "output_type": "stream",
     "text": [
      "except :  id                                57475\n",
      "like_cnt                              9\n",
      "plylst_title                  좋은아이돌수록곡들\n",
      "songs                                []\n",
      "tags                                 []\n",
      "updt_date       2017-08-25 03:48:26.000\n",
      "Name: 20544, dtype: object\n"
     ]
    },
    {
     "name": "stderr",
     "output_type": "stream",
     "text": [
      "20710it [18:12, 21.07it/s]"
     ]
    },
    {
     "name": "stdout",
     "output_type": "stream",
     "text": [
      "except :  id                                85122\n",
      "like_cnt                              1\n",
      "plylst_title                      ㅎㅎㅎㅎㅎ\n",
      "songs                                []\n",
      "tags                                 []\n",
      "updt_date       2015-11-15 19:03:36.000\n",
      "Name: 20707, dtype: object\n"
     ]
    },
    {
     "name": "stderr",
     "output_type": "stream",
     "text": [
      "20758it [18:15, 19.13it/s]"
     ]
    },
    {
     "name": "stdout",
     "output_type": "stream",
     "text": [
      "except :  id                                22070\n",
      "like_cnt                              1\n",
      "plylst_title                   어깨들썩일렉트릭\n",
      "songs                                []\n",
      "tags                                 []\n",
      "updt_date       2016-06-16 13:54:31.000\n",
      "Name: 20755, dtype: object\n"
     ]
    },
    {
     "name": "stderr",
     "output_type": "stream",
     "text": [
      "20763it [18:15, 16.97it/s]"
     ]
    },
    {
     "name": "stdout",
     "output_type": "stream",
     "text": [
      "except :  id                                70096\n",
      "like_cnt                             13\n",
      "plylst_title                 여성가수위주의노래들\n",
      "songs                                []\n",
      "tags                                 []\n",
      "updt_date       2010-10-02 15:39:10.000\n",
      "Name: 20761, dtype: object\n"
     ]
    },
    {
     "name": "stderr",
     "output_type": "stream",
     "text": [
      "20844it [18:21, 17.95it/s]"
     ]
    },
    {
     "name": "stdout",
     "output_type": "stream",
     "text": [
      "except :  id                               124282\n",
      "like_cnt                            174\n",
      "plylst_title               ＃감성돋는 비오는날밤＃\n",
      "songs                                []\n",
      "tags                                 []\n",
      "updt_date       2013-05-27 19:41:42.000\n",
      "Name: 20841, dtype: object\n"
     ]
    },
    {
     "name": "stderr",
     "output_type": "stream",
     "text": [
      "20921it [18:25, 19.36it/s]"
     ]
    },
    {
     "name": "stdout",
     "output_type": "stream",
     "text": [
      "except :  id                               100983\n",
      "like_cnt                             19\n",
      "plylst_title                     랩연습:))\n",
      "songs                                []\n",
      "tags                                 []\n",
      "updt_date       2018-01-12 00:14:52.000\n",
      "Name: 20919, dtype: object\n"
     ]
    },
    {
     "name": "stderr",
     "output_type": "stream",
     "text": [
      "21023it [18:33, 15.09it/s]"
     ]
    },
    {
     "name": "stdout",
     "output_type": "stream",
     "text": [
      "except :  id                                94923\n",
      "like_cnt                              0\n",
      "plylst_title                      혀누ㄷㄷㄷ\n",
      "songs                                []\n",
      "tags                                 []\n",
      "updt_date       2019-11-25 10:33:47.000\n",
      "Name: 21021, dtype: object\n"
     ]
    },
    {
     "name": "stderr",
     "output_type": "stream",
     "text": [
      "21094it [18:38, 22.19it/s]"
     ]
    },
    {
     "name": "stdout",
     "output_type": "stream",
     "text": [
      "except :  id                               101663\n",
      "like_cnt                             16\n",
      "plylst_title                 ♣연인들의 클래식♣\n",
      "songs                                []\n",
      "tags                                 []\n",
      "updt_date       2014-06-04 11:15:05.000\n",
      "Name: 21089, dtype: object\n"
     ]
    },
    {
     "name": "stderr",
     "output_type": "stream",
     "text": [
      "21132it [18:39, 21.29it/s]"
     ]
    },
    {
     "name": "stdout",
     "output_type": "stream",
     "text": [
      "except :  id                                48195\n",
      "like_cnt                             20\n",
      "plylst_title                      정리된재즈\n",
      "songs                                []\n",
      "tags                                 []\n",
      "updt_date       2009-10-14 11:10:19.000\n",
      "Name: 21127, dtype: object\n"
     ]
    },
    {
     "name": "stderr",
     "output_type": "stream",
     "text": [
      "21195it [18:42, 20.97it/s]"
     ]
    },
    {
     "name": "stdout",
     "output_type": "stream",
     "text": [
      "except :  id                               129289\n",
      "like_cnt                              4\n",
      "plylst_title                       칠성1부\n",
      "songs                                []\n",
      "tags                                 []\n",
      "updt_date       2011-03-11 11:46:15.000\n",
      "Name: 21192, dtype: object\n"
     ]
    },
    {
     "name": "stderr",
     "output_type": "stream",
     "text": [
      "21220it [18:43, 23.14it/s]"
     ]
    },
    {
     "name": "stdout",
     "output_type": "stream",
     "text": [
      "except :  id                                12239\n",
      "like_cnt                              0\n",
      "plylst_title                     151119\n",
      "songs                                []\n",
      "tags                                 []\n",
      "updt_date       2015-11-19 10:21:25.000\n",
      "Name: 21215, dtype: object\n"
     ]
    },
    {
     "name": "stderr",
     "output_type": "stream",
     "text": [
      "21368it [18:51, 21.62it/s]"
     ]
    },
    {
     "name": "stdout",
     "output_type": "stream",
     "text": [
      "except :  id                               133661\n",
      "like_cnt                              8\n",
      "plylst_title                       힙팝이란\n",
      "songs                                []\n",
      "tags                                 []\n",
      "updt_date       2019-10-05 10:03:43.000\n",
      "Name: 21364, dtype: object\n"
     ]
    },
    {
     "name": "stderr",
     "output_type": "stream",
     "text": [
      "21374it [18:51, 22.28it/s]"
     ]
    },
    {
     "name": "stdout",
     "output_type": "stream",
     "text": [
      "except :  id                               107612\n",
      "like_cnt                              6\n",
      "plylst_title                    요즘기분어때?\n",
      "songs                                []\n",
      "tags                                 []\n",
      "updt_date       2016-06-15 23:19:20.000\n",
      "Name: 21372, dtype: object\n"
     ]
    },
    {
     "name": "stderr",
     "output_type": "stream",
     "text": [
      "21638it [19:05, 23.30it/s]"
     ]
    },
    {
     "name": "stdout",
     "output_type": "stream",
     "text": [
      "except :  id                               128643\n",
      "like_cnt                              3\n",
      "plylst_title                 힙하면서 앤비한!!\n",
      "songs                                []\n",
      "tags                                 []\n",
      "updt_date       2019-09-13 00:26:46.000\n",
      "Name: 21633, dtype: object\n"
     ]
    },
    {
     "name": "stderr",
     "output_type": "stream",
     "text": [
      "21650it [19:06, 23.18it/s]"
     ]
    },
    {
     "name": "stdout",
     "output_type": "stream",
     "text": [
      "except :  id                                69036\n",
      "like_cnt                              5\n",
      "plylst_title                       제레미픽\n",
      "songs                                []\n",
      "tags                                 []\n",
      "updt_date       2020-03-10 09:39:02.000\n",
      "Name: 21645, dtype: object\n"
     ]
    },
    {
     "name": "stderr",
     "output_type": "stream",
     "text": [
      "21714it [19:09, 23.54it/s]"
     ]
    },
    {
     "name": "stdout",
     "output_type": "stream",
     "text": [
      "except :  id                                68058\n",
      "like_cnt                              2\n",
      "plylst_title                       트롯트야\n",
      "songs                                []\n",
      "tags                                 []\n",
      "updt_date       2018-04-02 20:49:19.000\n",
      "Name: 21711, dtype: object\n"
     ]
    },
    {
     "name": "stderr",
     "output_type": "stream",
     "text": [
      "21758it [19:11, 23.50it/s]"
     ]
    },
    {
     "name": "stdout",
     "output_type": "stream",
     "text": [
      "except :  id                                30620\n",
      "like_cnt                              0\n",
      "plylst_title                       정인정인\n",
      "songs                                []\n",
      "tags                                 []\n",
      "updt_date       2014-08-05 00:53:49.000\n",
      "Name: 21754, dtype: object\n"
     ]
    },
    {
     "name": "stderr",
     "output_type": "stream",
     "text": [
      "22031it [19:24, 21.01it/s]"
     ]
    },
    {
     "name": "stdout",
     "output_type": "stream",
     "text": [
      "except :  id                               119643\n",
      "like_cnt                             16\n",
      "plylst_title       ♥♥♥♥♥사랑이 퐁퐁넘쳐나는♥♥♥♥♥\n",
      "songs                                []\n",
      "tags                                 []\n",
      "updt_date       2011-09-18 21:49:15.000\n",
      "Name: 22028, dtype: object\n"
     ]
    },
    {
     "name": "stderr",
     "output_type": "stream",
     "text": [
      "22138it [19:29, 21.91it/s]"
     ]
    },
    {
     "name": "stdout",
     "output_type": "stream",
     "text": [
      "except :  id                               109522\n",
      "like_cnt                              3\n",
      "plylst_title                    엄군신나는노래\n",
      "songs                                []\n",
      "tags                                 []\n",
      "updt_date       2013-12-09 06:43:39.000\n",
      "Name: 22134, dtype: object\n"
     ]
    },
    {
     "name": "stderr",
     "output_type": "stream",
     "text": [
      "22211it [19:33, 20.34it/s]"
     ]
    },
    {
     "name": "stdout",
     "output_type": "stream",
     "text": [
      "except :  id                                78391\n",
      "like_cnt                              9\n",
      "plylst_title                        오좋앙\n",
      "songs                                []\n",
      "tags                                 []\n",
      "updt_date       2011-11-28 22:46:19.000\n",
      "Name: 22208, dtype: object\n"
     ]
    },
    {
     "name": "stderr",
     "output_type": "stream",
     "text": [
      "22314it [19:39, 24.03it/s]"
     ]
    },
    {
     "name": "stdout",
     "output_type": "stream",
     "text": [
      "except :  id                                71269\n",
      "like_cnt                             13\n",
      "plylst_title                      드럼연주곡\n",
      "songs                                []\n",
      "tags                                 []\n",
      "updt_date       2019-09-22 20:40:39.000\n",
      "Name: 22310, dtype: object\n"
     ]
    },
    {
     "name": "stderr",
     "output_type": "stream",
     "text": [
      "22570it [19:51, 19.18it/s]"
     ]
    },
    {
     "name": "stdout",
     "output_type": "stream",
     "text": [
      "except :  id                                11639\n",
      "like_cnt                              2\n",
      "plylst_title                  Piacevole\n",
      "songs                                []\n",
      "tags                                 []\n",
      "updt_date       2008-08-20 11:19:06.000\n",
      "Name: 22567, dtype: object\n"
     ]
    },
    {
     "name": "stderr",
     "output_type": "stream",
     "text": [
      "22792it [20:02, 23.30it/s]"
     ]
    },
    {
     "name": "stdout",
     "output_type": "stream",
     "text": [
      "except :  id                               115371\n",
      "like_cnt                              4\n",
      "plylst_title                    슬픈드라마영화\n",
      "songs                                []\n",
      "tags                                 []\n",
      "updt_date       2013-09-25 22:01:10.000\n",
      "Name: 22787, dtype: object\n"
     ]
    },
    {
     "name": "stderr",
     "output_type": "stream",
     "text": [
      "22810it [20:03, 23.86it/s]"
     ]
    },
    {
     "name": "stdout",
     "output_type": "stream",
     "text": [
      "except :  id                               146916\n",
      "like_cnt                              5\n",
      "plylst_title                       무더위야\n",
      "songs                                []\n",
      "tags                                 []\n",
      "updt_date       2018-06-30 02:38:30.000\n",
      "Name: 22806, dtype: object\n"
     ]
    },
    {
     "name": "stderr",
     "output_type": "stream",
     "text": [
      "22882it [20:07, 24.29it/s]"
     ]
    },
    {
     "name": "stdout",
     "output_type": "stream",
     "text": [
      "except :  id                                31955\n",
      "like_cnt                              6\n",
      "plylst_title                   생생멜론리퀘스트\n",
      "songs                                []\n",
      "tags                                 []\n",
      "updt_date       2006-12-21 07:05:02.000\n",
      "Name: 22878, dtype: object\n"
     ]
    },
    {
     "name": "stderr",
     "output_type": "stream",
     "text": [
      "23009it [20:13, 23.50it/s]"
     ]
    },
    {
     "name": "stdout",
     "output_type": "stream",
     "text": [
      "except :  id                                 1550\n",
      "like_cnt                              0\n",
      "plylst_title                      루룰노래2\n",
      "songs                                []\n",
      "tags                                 []\n",
      "updt_date       2018-07-13 16:15:15.000\n",
      "Name: 23006, dtype: object\n"
     ]
    },
    {
     "name": "stderr",
     "output_type": "stream",
     "text": [
      "23015it [20:13, 18.97it/s]\n"
     ]
    }
   ],
   "source": [
    "answers = []\n",
    "for index, q in tqdm(val.iterrows()):\n",
    "    try:\n",
    "        most_id = [x[0] for x in p2v_model.most_similar(str(q['id']), topn=200)]\n",
    "        get_song = []\n",
    "        get_tag = []\n",
    "        for ID in most_id:\n",
    "            get_song += song_dic[int(ID)]\n",
    "            get_tag += tag_dic[int(ID)]\n",
    "        '''\n",
    "        get_song = list(pd.value_counts(get_song)[:200].index)\n",
    "        get_tag = list(pd.value_counts(get_tag)[:20].index)\n",
    "        '''\n",
    "        \n",
    "        updt_date = dateutil.parser.parse(q['updt_date'])\n",
    "        get_song = pd.Series(list(pd.value_counts(get_song)[:200].index))\n",
    "        song_date = [parse_issue_date(song_meta.loc[song_id, 'issue_date']) for song_id in get_song]\n",
    "        get_song_filtered = get_song[[x <= updt_date  for x in song_date]]\n",
    "        \n",
    "        get_tag = list(pd.value_counts(get_tag)[:20].index)\n",
    "        \n",
    "        answers.append({\n",
    "            \"id\": q[\"id\"],\n",
    "            \"songs\": remove_seen(q[\"songs\"], get_song_filtered)[:100],\n",
    "            \"tags\": remove_seen(q[\"tags\"], get_tag)[:10],\n",
    "        })\n",
    "    except:\n",
    "        print('except : ', q)\n",
    "        answers.append({\n",
    "          \"id\": most_results.loc[index][\"id\"],\n",
    "          \"songs\": most_results.loc[index]['songs'],\n",
    "          \"tags\": most_results.loc[index][\"tags\"],\n",
    "        }) \n",
    "\n",
    "# check and update answer\n",
    "for n, q in enumerate(answers):\n",
    "    if len(q['songs'])!=100:\n",
    "        answers[n]['songs'] += remove_seen(q['songs'], most_results.loc[n]['songs'])[:100-len(q['songs'])]\n",
    "    if len(q['tags'])!=10:\n",
    "        answers[n]['tags'] += remove_seen(q['tags'], most_results.loc[n]['tags'])[:10-len(q['tags'])]"
   ]
  },
  {
   "cell_type": "code",
   "execution_count": 16,
   "metadata": {},
   "outputs": [],
   "source": [
    "write_json(answers, \"results.json\")"
   ]
  },
  {
   "cell_type": "markdown",
   "metadata": {},
   "source": [
    "정답 확인해보기"
   ]
  },
  {
   "cell_type": "code",
   "execution_count": 26,
   "metadata": {},
   "outputs": [
    {
     "name": "stdout",
     "output_type": "stream",
     "text": [
      "책읽을때 듣기좋은 뉴에이지 음악\n",
      "['사랑하는 이들에게', '지금은 우리가 멀리 있을지라도', 'Kiss The Rain', 'Reminiscent (회상)', 'River Flows In You', 'Merry Christmas Mr. Lawrence', '따뜻한 그날', '오솔길', 'Blue Sea', '그대를 생각했던 순간들', 'May Be', 'Love Me', '마음정원', '얼음연못', '당신의 사랑이 늘 행복하기를', '화정학려 (華亭鶴&#21811;)', '그리워 한다는 것은', '환상(illusion fantasy)', 'Suddenly', 'Meditation', '창', '비가 그치고 난뒤(after the rain)', '그랬던 밤처럼', '그 집', '너의 순간들(Your Moments)', 'leaf', '공원에서', '사랑극', 'Last Carnival', '오늘은 왠지...', '참 좋은날 당신을 만났습니다', 'Happy Day', '여름의 조각들', '꽃이 되어 피다', '가장 조용했던 밤의 위로', '여행', '위로가 필요한 밤에', 'Daily Life', 'Lake Louise', 'This Morning', '둘이서 걷던 길', '난 당신을 원해요 (Je Te Veux / Erik Satie)', '이제는 안녕', '놀이터', '별의 바다 (Sea Of Stars)', 'Romance (Reminiscence)', '마음으로 가는 길', 'If I Love You.', '돌아갈 수 없는', '너의 별이 반짝일 때', '바람소리', 'Long Long Ago', '반갑다 봄아', 'The Way To School (학교가는 길)', '메이세컨', 'Merry Christmas Mr. Lawrence', '돌아오는 길 위에 서서', '그 시절, 너와 나', 'Fresh Morning', '바람따라 가는 기차여행', '프라하로 가는 야간열차', 'Happy And Sad', '동화 같은 이야기', '우리가 아름답던 날들', '바다가 보이는 언덕', '빗방울처럼 나는 혼자였다', 'Reminiscence', '늦은밤 , 시린안녕 (Late Night, Goodbye)', '오늘 하루는 어땠나요', '이상기억 (異常記億)', 'あの夏へ / Ano Natsue (어느 여름날)', '먼지 쌓인 기억의 첫 페이지', 'Chaconne', '너의 위로', '그날의 너, 눈부시던 햇살', 'Love Cookie', 'Romance', '우리가 아니라는 이유로', '별 헤는 밤', '한 여름 밤에', 'Snow Letter', 'Indigo', '낭만여행', 'My Soul', 'Romance', '바람에 이는 나뭇가지', '이사가는 날', '피아노 숲 (Piano Forest)', '전하지 못한 마음', 'f l o w e r', 'Morning Calm', '히이아카', '작은나라', '늦은 오후', 'My Romance', '별이 진다네', 'Someday', '그렇게 잊혀져 간다', '너에게 닿기를 (To You)', 'Kiss The Rain']\n"
     ]
    }
   ],
   "source": [
    "print(val['plylst_title'][idx])\n",
    "print([song_meta.loc[song_id, 'song_name'] for song_id in answers[idx]['songs']])"
   ]
  },
  {
   "cell_type": "code",
   "execution_count": 18,
   "metadata": {
    "scrolled": true
   },
   "outputs": [
    {
     "data": {
      "text/plain": [
       "['뱅뱅뱅 (BANG BANG BANG)',\n",
       " 'NO MERCY',\n",
       " '중독 (Overdose)',\n",
       " '에너제틱 (Energetic)',\n",
       " '말이야',\n",
       " 'Man In Love (남자가 사랑할때)',\n",
       " 'The Closer',\n",
       " '만만하니',\n",
       " '늑대와 미녀 (Wolf)',\n",
       " '기도 (I`ll Be Your Man)',\n",
       " '네게만 집착해',\n",
       " 'Heartbeat',\n",
       " '기적 (ETERNITY)',\n",
       " 'Mr. Simple',\n",
       " 'G.O.O.D Luv',\n",
       " 'CALL ME BABY',\n",
       " '딱 좋아 (Just right)',\n",
       " '로꾸거!!!',\n",
       " 'A-CHA',\n",
       " 'Hands Up',\n",
       " '태풍 (The Eye)',\n",
       " '다시 돌아와',\n",
       " 'Lucky',\n",
       " '긴 생머리 그녀 (Miss Right)',\n",
       " 'Fiction',\n",
       " 'SOLO DAY',\n",
       " '하드캐리',\n",
       " '소방차 (Fire Truck)',\n",
       " 'Ring Ding Dong',\n",
       " '좋겠어 (I wish)',\n",
       " 'HER',\n",
       " '대박사건 (Crash)',\n",
       " 'Lotto',\n",
       " '뛰뛰빵빵',\n",
       " 'Something',\n",
       " '붐붐',\n",
       " '외톨이야',\n",
       " '거짓말',\n",
       " '쩔어',\n",
       " 'Monster',\n",
       " 'Lucifer',\n",
       " '닐리리맘보',\n",
       " '도원경 (桃源境)',\n",
       " '스모키걸 (Smoky Girl)',\n",
       " '대.다.나.다.너',\n",
       " '내꺼하자',\n",
       " '쏘리 쏘리 (Sorry, Sorry)',\n",
       " 'Oh Little Girl',\n",
       " 'To You',\n",
       " '이별공식',\n",
       " 'Tell Me What To Do',\n",
       " '새들처럼',\n",
       " 'Again＆Again',\n",
       " 'SPY',\n",
       " 'A',\n",
       " 'Fantasy',\n",
       " 'Shock',\n",
       " 'Playdate',\n",
       " '바래',\n",
       " '호르몬 전쟁',\n",
       " 'Y',\n",
       " '에라 모르겠다',\n",
       " '바람의 유령',\n",
       " 'BAE BAE',\n",
       " 'SUPER HERO',\n",
       " 'Sherlock.셜록 (Clue+Note)',\n",
       " '산소 같은 너 (Love Like Oxygen)',\n",
       " '상남자 (Boy In Luv)',\n",
       " 'Miracle',\n",
       " 'Hey Mama!',\n",
       " '21세기 소녀',\n",
       " '잘자요 굿나잇',\n",
       " '난리나',\n",
       " 'Oh Yeah (Feat. 박봄)',\n",
       " '약속해요 (I.P.U.)',\n",
       " '피터팬 (Peter Pan)',\n",
       " 'Why So Serious?',\n",
       " '여전히',\n",
       " '으르렁 (Growl)',\n",
       " '예쁘다',\n",
       " '사랑이라는 이름으로']"
      ]
     },
     "execution_count": 18,
     "metadata": {},
     "output_type": "execute_result"
    }
   ],
   "source": [
    "[song_meta.loc[song_id, 'song_name'] for song_id in val.loc[44, 'songs']]"
   ]
  },
  {
   "cell_type": "code",
   "execution_count": 19,
   "metadata": {},
   "outputs": [
    {
     "data": {
      "text/plain": [
       "['Ice Cream Cake',\n",
       " '오늘부터 우리는 (Me Gustas Tu)',\n",
       " '음오아예 (Um Oh Ah Yeh)',\n",
       " 'LOVE ME RIGHT',\n",
       " '심쿵해 (Heart Attack)',\n",
       " 'CHEER UP',\n",
       " 'Dumb Dumb',\n",
       " '러시안 룰렛 (Russian Roulette)',\n",
       " 'OOH-AHH하게',\n",
       " '행복 (Happiness)',\n",
       " 'SHAKE IT',\n",
       " 'NoNoNo',\n",
       " 'TT',\n",
       " 'View',\n",
       " '첫 사랑니 (Rum Pum Pum Pum)',\n",
       " '위아래',\n",
       " 'Mr. Chu (On Stage)',\n",
       " 'I Got A Boy',\n",
       " 'Touch My Body',\n",
       " '불타오르네 (FIRE)',\n",
       " '너 그리고 나 (NAVILLERA)',\n",
       " 'Loving U (러빙유)',\n",
       " '유리구슬 (Glass Bead)',\n",
       " '링마벨 (Ring My Bell)',\n",
       " 'FANTASTIC BABY',\n",
       " 'JACKPOT',\n",
       " 'Gee',\n",
       " 'PARTY',\n",
       " '다른 남자 말고 너',\n",
       " '불장난',\n",
       " 'Ah-Choo',\n",
       " 'Remember',\n",
       " '빨간 맛 (Red Flavor)',\n",
       " '시간을 달려서 (Rough)',\n",
       " 'Rookie',\n",
       " '너무너무너무',\n",
       " '이게 무슨 일이야',\n",
       " 'Darling',\n",
       " '내가 제일 잘 나가',\n",
       " '사뿐사뿐',\n",
       " '넌 is 뭔들',\n",
       " 'Decalcomanie (데칼코마니)',\n",
       " '아주 NICE',\n",
       " 'Hot Summer',\n",
       " '만세',\n",
       " '마지막처럼',\n",
       " 'Twinkle',\n",
       " 'So Cool (쏘쿨)',\n",
       " 'NU 예삐오 (NU ABO)',\n",
       " '기대해',\n",
       " 'Lion Heart',\n",
       " 'Bad Girl Good Girl',\n",
       " 'Oh!',\n",
       " '빨개요',\n",
       " '아예 (Ah Yeah)',\n",
       " 'Electric Shock',\n",
       " 'KNOCK KNOCK',\n",
       " '얼굴 찌푸리지 말아요',\n",
       " '휘파람',\n",
       " '붐바야',\n",
       " 'Dream Girl',\n",
       " '단발머리 (Short Hair)',\n",
       " 'Very Good',\n",
       " '짧은 치마 (Miniskirt)',\n",
       " '미쳐',\n",
       " 'Something',\n",
       " 'LUV',\n",
       " '나로 말할 것 같으면 (Yes I am)',\n",
       " '아름다운 밤이야',\n",
       " 'Dancing King',\n",
       " '이름이 뭐예요?',\n",
       " 'Like this',\n",
       " '여자 대통령',\n",
       " 'REALLY REALLY',\n",
       " 'I NEED U',\n",
       " '추격자',\n",
       " 'Be My Baby',\n",
       " 'WE LIKE 2 PARTY',\n",
       " 'I Feel You',\n",
       " '리듬 타 (RHYTHM TA)',\n",
       " 'Go Away',\n",
       " '예뻐 예뻐',\n",
       " 'Run Devil Run',\n",
       " 'A',\n",
       " '까탈레나 (Catallena)',\n",
       " 'PICK ME',\n",
       " 'Good-bye Baby',\n",
       " 'I Swear',\n",
       " '루팡 (Lupin)',\n",
       " '피노키오 (Danger)',\n",
       " '소원을 말해봐 (Genie)',\n",
       " '안녕 (Hi~)',\n",
       " 'Roly-Poly',\n",
       " '샤이보이',\n",
       " 'RUN',\n",
       " 'Hot Issue',\n",
       " '삐딱하게 (Crooked)',\n",
       " 'STEP',\n",
       " 'Lovey-Dovey',\n",
       " 'Fire']"
      ]
     },
     "execution_count": 19,
     "metadata": {},
     "output_type": "execute_result"
    }
   ],
   "source": [
    "[song_meta.loc[song_id, 'song_name'] for song_id in answers[44]['songs']]"
   ]
  },
  {
   "cell_type": "markdown",
   "metadata": {},
   "source": [
    "## Class로 만든 버전"
   ]
  },
  {
   "cell_type": "code",
   "execution_count": null,
   "metadata": {},
   "outputs": [],
   "source": [
    "# 목표 : 플레이리스트(노래, 태그, 플레이리스트 제목)이 주어지면, K개의 feature를 뽑도록 한다.\n",
    "# 자연어 처리 모델을 구축\n",
    "class PlaylistEmbedding:\n",
    "    def __init__(self):\n",
    "        # 파일에서 긁어온다.\n",
    "        # 긁어올 파일 : train, val, song_meta\n",
    "        self.train = pd.read_json('./data/train.json', encoding='UTF-8')\n",
    "        self.val = pd.read_json('./data/val.json', encoding='UTF-8')\n",
    "        self.song_meta = pd.read_json('./data/song_meta.json', encoding='UTF-8')\n",
    "        self.most_results = pd.read_json('results.json', encoding='UTF-8')\n",
    "        self.min_count = 10\n",
    "        self.size = 100\n",
    "        self.windows = 100\n",
    "        self.sg = 1\n",
    "        self.p2v_model = WordEmbeddingsKeyedVectors(self.size)\n",
    "    \n",
    "    #플레이리스트 : (플레이리스트 제목과 모든 송의 제목을 gensim으로 preprocess, 장르도 우겨넣자) \n",
    "    def get_dic(self, train, val, song_meta):\n",
    "        song_dic = {} # plylst id - song id\n",
    "        song_name_dic = {} # plylst id - [preprocessed song name]\n",
    "        tag_dic = {} # plylst id - tag\n",
    "        data = pd.concat([train, val])\n",
    "        data = data.set_index('id')\n",
    "        \n",
    "        song_dic = data['songs'].to_dict()\n",
    "        tag_dic = data['tags'].to_dict()\n",
    "        data['song_name_token'] = data['songs'].map(lambda x : sum(list(map(lambda xx : preprocess_string(song_meta.loc[xx, 'song_name']), x)), []))\n",
    "        song_name_dic = data['song_name_token'].to_dict()\n",
    "        \n",
    "        '''\n",
    "        for index, q in tqdm(data.iterrows()):\n",
    "            song_name_dic[str(q['id'])] = sum(list(map(lambda x : preprocess_string(song_meta.loc[x]['song_name']), q['songs'])),[])\n",
    "            song_dic[str(q['id'])] = q['songs']\n",
    "            tag_dic[str(q['id'])] = q['tags']\n",
    "        '''\n",
    "        self.song_dic = song_dic\n",
    "        self.song_name_dic = song_name_dic\n",
    "        self.tag_dic = tag_dic\n",
    "        \n",
    "        data = data.reset_index()\n",
    "        total = data.apply(lambda x : song_name_dic[x['id']] + tag_dic[x['id']] + preprocess_string(x['plylst_title']), axis = 1)\n",
    "        # total = [x for x in total if len(x)>1]\n",
    "        self.total = total\n",
    "    \n",
    "    # word2vec 모델\n",
    "    def get_w2v(self):\n",
    "        w2v_model = Word2Vec(self.total, min_count = self.min_count, size = self.size, window = self.windows, sg = self.sg)\n",
    "        self.w2v_model = w2v_model\n",
    "    \n",
    "    # word2vec을 적합하고 embedded vector를 return\n",
    "    def update_p2v(self, train, val,w2v_model):\n",
    "        ID = []   \n",
    "        vec = []\n",
    "        embedd = {}\n",
    "        for index, q in tqdm(pd.concat([train, val]).iterrows()):\n",
    "            tmp_vec = 0\n",
    "            for song_word in self.song_name_dic[str(q['id'])]:\n",
    "                try:\n",
    "                    tmp_vec += w2v_model.wv.get_vector(song_word)\n",
    "                except KeyError:\n",
    "                        pass\n",
    "            for tag in self.tag_dic[str(q['id'])]:\n",
    "                try:\n",
    "                    tmp_vec += w2v_model.wv.get_vector(tag)\n",
    "                except KeyError:\n",
    "                        pass\n",
    "            for title_word in preprocess_string(q['plylst_title']):\n",
    "                #print(q['plylst_title'])\n",
    "                try:\n",
    "                    tmp_vec += w2v_model.wv.get_vector(title_word)\n",
    "                except KeyError:\n",
    "                        pass\n",
    "                    \n",
    "            if type(tmp_vec) != int:\n",
    "                embedd[str(q['id'])] = tmp_vec\n",
    "                ID.append(str(q['id']))    \n",
    "                vec.append(tmp_vec)\n",
    "                \n",
    "        self.embedd = embedd\n",
    "        self.p2v_model.add(ID, vec)\n",
    "        return embedd\n",
    "    \n",
    "    def get_results(self):\n",
    "        answers = []\n",
    "        for index, q in tqdm(self.val.iterrows()):\n",
    "            try:\n",
    "                most_id = [x[0] for x in self.p2v_model.most_similar(str(q['id']), topn=200)]\n",
    "                get_song = []\n",
    "                get_tag = []\n",
    "                for ID in most_id:\n",
    "                    get_song += self.song_dic[int(ID)]\n",
    "                    get_tag += self.tag_dic[int(ID)]\n",
    "                get_song = list(pd.value_counts(get_song)[:200].index)\n",
    "                get_tag = list(pd.value_counts(get_tag)[:20].index)\n",
    "                answers.append({\n",
    "                    \"id\": q[\"id\"],\n",
    "                    \"songs\": remove_seen(q[\"songs\"], get_song)[:100],\n",
    "                    \"tags\": remove_seen(q[\"tags\"], get_tag)[:10],\n",
    "                })\n",
    "            except:\n",
    "                answers.append({\n",
    "                  \"id\": self.most_results.loc[index][\"id\"],\n",
    "                  \"songs\": self.most_results.loc[index]['songs'],\n",
    "                  \"tags\": self.most_results.loc[index][\"tags\"],\n",
    "                }) \n",
    "                \n",
    "        # check and update answer\n",
    "        for n, q in enumerate(answers):\n",
    "            if len(q['songs'])!=100:\n",
    "                answers[n]['songs'] += remove_seen(q['songs'], self.most_results.loc[n]['songs'])[:100-len(q['songs'])]\n",
    "            if len(q['tags'])!=10:\n",
    "                answers[n]['tags'] += remove_seen(q['tags'], self.most_results.loc[n]['tags'])[:10-len(q['tags'])]  \n",
    "        self.answers = answers"
   ]
  },
  {
   "cell_type": "code",
   "execution_count": null,
   "metadata": {},
   "outputs": [],
   "source": [
    "playlist = PlaylistEmbedding()"
   ]
  },
  {
   "cell_type": "code",
   "execution_count": null,
   "metadata": {},
   "outputs": [],
   "source": [
    "playlist.get_dic(playlist.train, playlist.val, playlist.song_meta)"
   ]
  },
  {
   "cell_type": "code",
   "execution_count": null,
   "metadata": {},
   "outputs": [],
   "source": [
    "playlist.get_w2v()"
   ]
  },
  {
   "cell_type": "code",
   "execution_count": null,
   "metadata": {},
   "outputs": [],
   "source": [
    "playlist.update_p2v(playlist.train, playlist.val, playlist.w2v_model)"
   ]
  },
  {
   "cell_type": "code",
   "execution_count": null,
   "metadata": {},
   "outputs": [],
   "source": [
    "playlist.get_results()"
   ]
  },
  {
   "cell_type": "code",
   "execution_count": null,
   "metadata": {},
   "outputs": [],
   "source": [
    "write_json(playlist.answers, \"results.json\")"
   ]
  }
 ],
 "metadata": {
  "kernelspec": {
   "display_name": "Python 3",
   "language": "python",
   "name": "python3"
  },
  "language_info": {
   "codemirror_mode": {
    "name": "ipython",
    "version": 3
   },
   "file_extension": ".py",
   "mimetype": "text/x-python",
   "name": "python",
   "nbconvert_exporter": "python",
   "pygments_lexer": "ipython3",
   "version": "3.7.3"
  }
 },
 "nbformat": 4,
 "nbformat_minor": 2
}
