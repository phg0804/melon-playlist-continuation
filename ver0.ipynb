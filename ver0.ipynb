{
  "nbformat": 4,
  "nbformat_minor": 0,
  "metadata": {
    "colab": {
      "name": "ver0.ipynb",
      "provenance": [],
      "collapsed_sections": [],
      "machine_shape": "hm"
    },
    "kernelspec": {
      "name": "python3",
      "display_name": "Python 3"
    },
    "accelerator": "GPU",
    "widgets": {
      "application/vnd.jupyter.widget-state+json": {
        "2d4193d043764a74aa733961827ec305": {
          "model_module": "@jupyter-widgets/controls",
          "model_name": "HBoxModel",
          "state": {
            "_view_name": "HBoxView",
            "_dom_classes": [],
            "_model_name": "HBoxModel",
            "_view_module": "@jupyter-widgets/controls",
            "_model_module_version": "1.5.0",
            "_view_count": null,
            "_view_module_version": "1.5.0",
            "box_style": "",
            "layout": "IPY_MODEL_a00dc3005d7e4eeab214ed72c2f0bec7",
            "_model_module": "@jupyter-widgets/controls",
            "children": [
              "IPY_MODEL_ced8d69eab4a4db19dd7df9902f0b600",
              "IPY_MODEL_eb3d2544c0734efc8033a5eb7cf76e83"
            ]
          }
        },
        "a00dc3005d7e4eeab214ed72c2f0bec7": {
          "model_module": "@jupyter-widgets/base",
          "model_name": "LayoutModel",
          "state": {
            "_view_name": "LayoutView",
            "grid_template_rows": null,
            "right": null,
            "justify_content": null,
            "_view_module": "@jupyter-widgets/base",
            "overflow": null,
            "_model_module_version": "1.2.0",
            "_view_count": null,
            "flex_flow": null,
            "width": null,
            "min_width": null,
            "border": null,
            "align_items": null,
            "bottom": null,
            "_model_module": "@jupyter-widgets/base",
            "top": null,
            "grid_column": null,
            "overflow_y": null,
            "overflow_x": null,
            "grid_auto_flow": null,
            "grid_area": null,
            "grid_template_columns": null,
            "flex": null,
            "_model_name": "LayoutModel",
            "justify_items": null,
            "grid_row": null,
            "max_height": null,
            "align_content": null,
            "visibility": null,
            "align_self": null,
            "height": null,
            "min_height": null,
            "padding": null,
            "grid_auto_rows": null,
            "grid_gap": null,
            "max_width": null,
            "order": null,
            "_view_module_version": "1.2.0",
            "grid_template_areas": null,
            "object_position": null,
            "object_fit": null,
            "grid_auto_columns": null,
            "margin": null,
            "display": null,
            "left": null
          }
        },
        "ced8d69eab4a4db19dd7df9902f0b600": {
          "model_module": "@jupyter-widgets/controls",
          "model_name": "FloatProgressModel",
          "state": {
            "_view_name": "ProgressView",
            "style": "IPY_MODEL_8faad67479dc4f75bd18e433010092b4",
            "_dom_classes": [],
            "description": "100%",
            "_model_name": "FloatProgressModel",
            "bar_style": "success",
            "max": 15,
            "_view_module": "@jupyter-widgets/controls",
            "_model_module_version": "1.5.0",
            "value": 15,
            "_view_count": null,
            "_view_module_version": "1.5.0",
            "orientation": "horizontal",
            "min": 0,
            "description_tooltip": null,
            "_model_module": "@jupyter-widgets/controls",
            "layout": "IPY_MODEL_612bd2efe2454a77a88e7933433c061e"
          }
        },
        "eb3d2544c0734efc8033a5eb7cf76e83": {
          "model_module": "@jupyter-widgets/controls",
          "model_name": "HTMLModel",
          "state": {
            "_view_name": "HTMLView",
            "style": "IPY_MODEL_9db1c850235146ee863d9e198cafac84",
            "_dom_classes": [],
            "description": "",
            "_model_name": "HTMLModel",
            "placeholder": "​",
            "_view_module": "@jupyter-widgets/controls",
            "_model_module_version": "1.5.0",
            "value": " 15/15 [04:43&lt;00:00, 18.88s/it]",
            "_view_count": null,
            "_view_module_version": "1.5.0",
            "description_tooltip": null,
            "_model_module": "@jupyter-widgets/controls",
            "layout": "IPY_MODEL_db14b169adb646e6beec7fa7f1d6ae9a"
          }
        },
        "8faad67479dc4f75bd18e433010092b4": {
          "model_module": "@jupyter-widgets/controls",
          "model_name": "ProgressStyleModel",
          "state": {
            "_view_name": "StyleView",
            "_model_name": "ProgressStyleModel",
            "description_width": "initial",
            "_view_module": "@jupyter-widgets/base",
            "_model_module_version": "1.5.0",
            "_view_count": null,
            "_view_module_version": "1.2.0",
            "bar_color": null,
            "_model_module": "@jupyter-widgets/controls"
          }
        },
        "612bd2efe2454a77a88e7933433c061e": {
          "model_module": "@jupyter-widgets/base",
          "model_name": "LayoutModel",
          "state": {
            "_view_name": "LayoutView",
            "grid_template_rows": null,
            "right": null,
            "justify_content": null,
            "_view_module": "@jupyter-widgets/base",
            "overflow": null,
            "_model_module_version": "1.2.0",
            "_view_count": null,
            "flex_flow": null,
            "width": null,
            "min_width": null,
            "border": null,
            "align_items": null,
            "bottom": null,
            "_model_module": "@jupyter-widgets/base",
            "top": null,
            "grid_column": null,
            "overflow_y": null,
            "overflow_x": null,
            "grid_auto_flow": null,
            "grid_area": null,
            "grid_template_columns": null,
            "flex": null,
            "_model_name": "LayoutModel",
            "justify_items": null,
            "grid_row": null,
            "max_height": null,
            "align_content": null,
            "visibility": null,
            "align_self": null,
            "height": null,
            "min_height": null,
            "padding": null,
            "grid_auto_rows": null,
            "grid_gap": null,
            "max_width": null,
            "order": null,
            "_view_module_version": "1.2.0",
            "grid_template_areas": null,
            "object_position": null,
            "object_fit": null,
            "grid_auto_columns": null,
            "margin": null,
            "display": null,
            "left": null
          }
        },
        "9db1c850235146ee863d9e198cafac84": {
          "model_module": "@jupyter-widgets/controls",
          "model_name": "DescriptionStyleModel",
          "state": {
            "_view_name": "StyleView",
            "_model_name": "DescriptionStyleModel",
            "description_width": "",
            "_view_module": "@jupyter-widgets/base",
            "_model_module_version": "1.5.0",
            "_view_count": null,
            "_view_module_version": "1.2.0",
            "_model_module": "@jupyter-widgets/controls"
          }
        },
        "db14b169adb646e6beec7fa7f1d6ae9a": {
          "model_module": "@jupyter-widgets/base",
          "model_name": "LayoutModel",
          "state": {
            "_view_name": "LayoutView",
            "grid_template_rows": null,
            "right": null,
            "justify_content": null,
            "_view_module": "@jupyter-widgets/base",
            "overflow": null,
            "_model_module_version": "1.2.0",
            "_view_count": null,
            "flex_flow": null,
            "width": null,
            "min_width": null,
            "border": null,
            "align_items": null,
            "bottom": null,
            "_model_module": "@jupyter-widgets/base",
            "top": null,
            "grid_column": null,
            "overflow_y": null,
            "overflow_x": null,
            "grid_auto_flow": null,
            "grid_area": null,
            "grid_template_columns": null,
            "flex": null,
            "_model_name": "LayoutModel",
            "justify_items": null,
            "grid_row": null,
            "max_height": null,
            "align_content": null,
            "visibility": null,
            "align_self": null,
            "height": null,
            "min_height": null,
            "padding": null,
            "grid_auto_rows": null,
            "grid_gap": null,
            "max_width": null,
            "order": null,
            "_view_module_version": "1.2.0",
            "grid_template_areas": null,
            "object_position": null,
            "object_fit": null,
            "grid_auto_columns": null,
            "margin": null,
            "display": null,
            "left": null
          }
        },
        "e72df02b3ed04867a90e97d982b8244e": {
          "model_module": "@jupyter-widgets/controls",
          "model_name": "HBoxModel",
          "state": {
            "_view_name": "HBoxView",
            "_dom_classes": [],
            "_model_name": "HBoxModel",
            "_view_module": "@jupyter-widgets/controls",
            "_model_module_version": "1.5.0",
            "_view_count": null,
            "_view_module_version": "1.5.0",
            "box_style": "",
            "layout": "IPY_MODEL_751f93b1a04f489d882675d6ebc4e72d",
            "_model_module": "@jupyter-widgets/controls",
            "children": [
              "IPY_MODEL_d02e9f483b6a4379a340f6468067350f",
              "IPY_MODEL_5228393f32eb4d3ab29106d7a546858e"
            ]
          }
        },
        "751f93b1a04f489d882675d6ebc4e72d": {
          "model_module": "@jupyter-widgets/base",
          "model_name": "LayoutModel",
          "state": {
            "_view_name": "LayoutView",
            "grid_template_rows": null,
            "right": null,
            "justify_content": null,
            "_view_module": "@jupyter-widgets/base",
            "overflow": null,
            "_model_module_version": "1.2.0",
            "_view_count": null,
            "flex_flow": null,
            "width": null,
            "min_width": null,
            "border": null,
            "align_items": null,
            "bottom": null,
            "_model_module": "@jupyter-widgets/base",
            "top": null,
            "grid_column": null,
            "overflow_y": null,
            "overflow_x": null,
            "grid_auto_flow": null,
            "grid_area": null,
            "grid_template_columns": null,
            "flex": null,
            "_model_name": "LayoutModel",
            "justify_items": null,
            "grid_row": null,
            "max_height": null,
            "align_content": null,
            "visibility": null,
            "align_self": null,
            "height": null,
            "min_height": null,
            "padding": null,
            "grid_auto_rows": null,
            "grid_gap": null,
            "max_width": null,
            "order": null,
            "_view_module_version": "1.2.0",
            "grid_template_areas": null,
            "object_position": null,
            "object_fit": null,
            "grid_auto_columns": null,
            "margin": null,
            "display": null,
            "left": null
          }
        },
        "d02e9f483b6a4379a340f6468067350f": {
          "model_module": "@jupyter-widgets/controls",
          "model_name": "FloatProgressModel",
          "state": {
            "_view_name": "ProgressView",
            "style": "IPY_MODEL_10dfb9ce2a4b44909f5c5909e96be1e5",
            "_dom_classes": [],
            "description": "100%",
            "_model_name": "FloatProgressModel",
            "bar_style": "success",
            "max": 21027,
            "_view_module": "@jupyter-widgets/controls",
            "_model_module_version": "1.5.0",
            "value": 21027,
            "_view_count": null,
            "_view_module_version": "1.5.0",
            "orientation": "horizontal",
            "min": 0,
            "description_tooltip": null,
            "_model_module": "@jupyter-widgets/controls",
            "layout": "IPY_MODEL_2e94a71d6dc74a31add85ceeaab59538"
          }
        },
        "5228393f32eb4d3ab29106d7a546858e": {
          "model_module": "@jupyter-widgets/controls",
          "model_name": "HTMLModel",
          "state": {
            "_view_name": "HTMLView",
            "style": "IPY_MODEL_44d9a6677a3a4a85a64daf6f591e9e56",
            "_dom_classes": [],
            "description": "",
            "_model_name": "HTMLModel",
            "placeholder": "​",
            "_view_module": "@jupyter-widgets/controls",
            "_model_module_version": "1.5.0",
            "value": " 21027/21027 [02:44&lt;00:00, 127.96it/s]",
            "_view_count": null,
            "_view_module_version": "1.5.0",
            "description_tooltip": null,
            "_model_module": "@jupyter-widgets/controls",
            "layout": "IPY_MODEL_9239be8d51464ab085d5ecaf1d68e29b"
          }
        },
        "10dfb9ce2a4b44909f5c5909e96be1e5": {
          "model_module": "@jupyter-widgets/controls",
          "model_name": "ProgressStyleModel",
          "state": {
            "_view_name": "StyleView",
            "_model_name": "ProgressStyleModel",
            "description_width": "initial",
            "_view_module": "@jupyter-widgets/base",
            "_model_module_version": "1.5.0",
            "_view_count": null,
            "_view_module_version": "1.2.0",
            "bar_color": null,
            "_model_module": "@jupyter-widgets/controls"
          }
        },
        "2e94a71d6dc74a31add85ceeaab59538": {
          "model_module": "@jupyter-widgets/base",
          "model_name": "LayoutModel",
          "state": {
            "_view_name": "LayoutView",
            "grid_template_rows": null,
            "right": null,
            "justify_content": null,
            "_view_module": "@jupyter-widgets/base",
            "overflow": null,
            "_model_module_version": "1.2.0",
            "_view_count": null,
            "flex_flow": null,
            "width": null,
            "min_width": null,
            "border": null,
            "align_items": null,
            "bottom": null,
            "_model_module": "@jupyter-widgets/base",
            "top": null,
            "grid_column": null,
            "overflow_y": null,
            "overflow_x": null,
            "grid_auto_flow": null,
            "grid_area": null,
            "grid_template_columns": null,
            "flex": null,
            "_model_name": "LayoutModel",
            "justify_items": null,
            "grid_row": null,
            "max_height": null,
            "align_content": null,
            "visibility": null,
            "align_self": null,
            "height": null,
            "min_height": null,
            "padding": null,
            "grid_auto_rows": null,
            "grid_gap": null,
            "max_width": null,
            "order": null,
            "_view_module_version": "1.2.0",
            "grid_template_areas": null,
            "object_position": null,
            "object_fit": null,
            "grid_auto_columns": null,
            "margin": null,
            "display": null,
            "left": null
          }
        },
        "44d9a6677a3a4a85a64daf6f591e9e56": {
          "model_module": "@jupyter-widgets/controls",
          "model_name": "DescriptionStyleModel",
          "state": {
            "_view_name": "StyleView",
            "_model_name": "DescriptionStyleModel",
            "description_width": "",
            "_view_module": "@jupyter-widgets/base",
            "_model_module_version": "1.5.0",
            "_view_count": null,
            "_view_module_version": "1.2.0",
            "_model_module": "@jupyter-widgets/controls"
          }
        },
        "9239be8d51464ab085d5ecaf1d68e29b": {
          "model_module": "@jupyter-widgets/base",
          "model_name": "LayoutModel",
          "state": {
            "_view_name": "LayoutView",
            "grid_template_rows": null,
            "right": null,
            "justify_content": null,
            "_view_module": "@jupyter-widgets/base",
            "overflow": null,
            "_model_module_version": "1.2.0",
            "_view_count": null,
            "flex_flow": null,
            "width": null,
            "min_width": null,
            "border": null,
            "align_items": null,
            "bottom": null,
            "_model_module": "@jupyter-widgets/base",
            "top": null,
            "grid_column": null,
            "overflow_y": null,
            "overflow_x": null,
            "grid_auto_flow": null,
            "grid_area": null,
            "grid_template_columns": null,
            "flex": null,
            "_model_name": "LayoutModel",
            "justify_items": null,
            "grid_row": null,
            "max_height": null,
            "align_content": null,
            "visibility": null,
            "align_self": null,
            "height": null,
            "min_height": null,
            "padding": null,
            "grid_auto_rows": null,
            "grid_gap": null,
            "max_width": null,
            "order": null,
            "_view_module_version": "1.2.0",
            "grid_template_areas": null,
            "object_position": null,
            "object_fit": null,
            "grid_auto_columns": null,
            "margin": null,
            "display": null,
            "left": null
          }
        },
        "d782da4f8272496bbce644580029b32f": {
          "model_module": "@jupyter-widgets/controls",
          "model_name": "HBoxModel",
          "state": {
            "_view_name": "HBoxView",
            "_dom_classes": [],
            "_model_name": "HBoxModel",
            "_view_module": "@jupyter-widgets/controls",
            "_model_module_version": "1.5.0",
            "_view_count": null,
            "_view_module_version": "1.5.0",
            "box_style": "",
            "layout": "IPY_MODEL_2d0d8321e0f84954889c879901397951",
            "_model_module": "@jupyter-widgets/controls",
            "children": [
              "IPY_MODEL_e00883e645e64cbf8f3b27c4d9b3cc10",
              "IPY_MODEL_fa298ca4362649868179651cefb5e0dd"
            ]
          }
        },
        "2d0d8321e0f84954889c879901397951": {
          "model_module": "@jupyter-widgets/base",
          "model_name": "LayoutModel",
          "state": {
            "_view_name": "LayoutView",
            "grid_template_rows": null,
            "right": null,
            "justify_content": null,
            "_view_module": "@jupyter-widgets/base",
            "overflow": null,
            "_model_module_version": "1.2.0",
            "_view_count": null,
            "flex_flow": null,
            "width": null,
            "min_width": null,
            "border": null,
            "align_items": null,
            "bottom": null,
            "_model_module": "@jupyter-widgets/base",
            "top": null,
            "grid_column": null,
            "overflow_y": null,
            "overflow_x": null,
            "grid_auto_flow": null,
            "grid_area": null,
            "grid_template_columns": null,
            "flex": null,
            "_model_name": "LayoutModel",
            "justify_items": null,
            "grid_row": null,
            "max_height": null,
            "align_content": null,
            "visibility": null,
            "align_self": null,
            "height": null,
            "min_height": null,
            "padding": null,
            "grid_auto_rows": null,
            "grid_gap": null,
            "max_width": null,
            "order": null,
            "_view_module_version": "1.2.0",
            "grid_template_areas": null,
            "object_position": null,
            "object_fit": null,
            "grid_auto_columns": null,
            "margin": null,
            "display": null,
            "left": null
          }
        },
        "e00883e645e64cbf8f3b27c4d9b3cc10": {
          "model_module": "@jupyter-widgets/controls",
          "model_name": "FloatProgressModel",
          "state": {
            "_view_name": "ProgressView",
            "style": "IPY_MODEL_620afe9efa644d1781638d8991fb5db4",
            "_dom_classes": [],
            "description": "100%",
            "_model_name": "FloatProgressModel",
            "bar_style": "success",
            "max": 153429,
            "_view_module": "@jupyter-widgets/controls",
            "_model_module_version": "1.5.0",
            "value": 153429,
            "_view_count": null,
            "_view_module_version": "1.5.0",
            "orientation": "horizontal",
            "min": 0,
            "description_tooltip": null,
            "_model_module": "@jupyter-widgets/controls",
            "layout": "IPY_MODEL_1853e5979d344dc79be99093f7096599"
          }
        },
        "fa298ca4362649868179651cefb5e0dd": {
          "model_module": "@jupyter-widgets/controls",
          "model_name": "HTMLModel",
          "state": {
            "_view_name": "HTMLView",
            "style": "IPY_MODEL_0af175ddec0248758cdb2c653a421246",
            "_dom_classes": [],
            "description": "",
            "_model_name": "HTMLModel",
            "placeholder": "​",
            "_view_module": "@jupyter-widgets/controls",
            "_model_module_version": "1.5.0",
            "value": " 153429/153429 [02:24&lt;00:00, 1059.15it/s]",
            "_view_count": null,
            "_view_module_version": "1.5.0",
            "description_tooltip": null,
            "_model_module": "@jupyter-widgets/controls",
            "layout": "IPY_MODEL_75d2ceee38ae4e95824135aebf57c5fc"
          }
        },
        "620afe9efa644d1781638d8991fb5db4": {
          "model_module": "@jupyter-widgets/controls",
          "model_name": "ProgressStyleModel",
          "state": {
            "_view_name": "StyleView",
            "_model_name": "ProgressStyleModel",
            "description_width": "initial",
            "_view_module": "@jupyter-widgets/base",
            "_model_module_version": "1.5.0",
            "_view_count": null,
            "_view_module_version": "1.2.0",
            "bar_color": null,
            "_model_module": "@jupyter-widgets/controls"
          }
        },
        "1853e5979d344dc79be99093f7096599": {
          "model_module": "@jupyter-widgets/base",
          "model_name": "LayoutModel",
          "state": {
            "_view_name": "LayoutView",
            "grid_template_rows": null,
            "right": null,
            "justify_content": null,
            "_view_module": "@jupyter-widgets/base",
            "overflow": null,
            "_model_module_version": "1.2.0",
            "_view_count": null,
            "flex_flow": null,
            "width": null,
            "min_width": null,
            "border": null,
            "align_items": null,
            "bottom": null,
            "_model_module": "@jupyter-widgets/base",
            "top": null,
            "grid_column": null,
            "overflow_y": null,
            "overflow_x": null,
            "grid_auto_flow": null,
            "grid_area": null,
            "grid_template_columns": null,
            "flex": null,
            "_model_name": "LayoutModel",
            "justify_items": null,
            "grid_row": null,
            "max_height": null,
            "align_content": null,
            "visibility": null,
            "align_self": null,
            "height": null,
            "min_height": null,
            "padding": null,
            "grid_auto_rows": null,
            "grid_gap": null,
            "max_width": null,
            "order": null,
            "_view_module_version": "1.2.0",
            "grid_template_areas": null,
            "object_position": null,
            "object_fit": null,
            "grid_auto_columns": null,
            "margin": null,
            "display": null,
            "left": null
          }
        },
        "0af175ddec0248758cdb2c653a421246": {
          "model_module": "@jupyter-widgets/controls",
          "model_name": "DescriptionStyleModel",
          "state": {
            "_view_name": "StyleView",
            "_model_name": "DescriptionStyleModel",
            "description_width": "",
            "_view_module": "@jupyter-widgets/base",
            "_model_module_version": "1.5.0",
            "_view_count": null,
            "_view_module_version": "1.2.0",
            "_model_module": "@jupyter-widgets/controls"
          }
        },
        "75d2ceee38ae4e95824135aebf57c5fc": {
          "model_module": "@jupyter-widgets/base",
          "model_name": "LayoutModel",
          "state": {
            "_view_name": "LayoutView",
            "grid_template_rows": null,
            "right": null,
            "justify_content": null,
            "_view_module": "@jupyter-widgets/base",
            "overflow": null,
            "_model_module_version": "1.2.0",
            "_view_count": null,
            "flex_flow": null,
            "width": null,
            "min_width": null,
            "border": null,
            "align_items": null,
            "bottom": null,
            "_model_module": "@jupyter-widgets/base",
            "top": null,
            "grid_column": null,
            "overflow_y": null,
            "overflow_x": null,
            "grid_auto_flow": null,
            "grid_area": null,
            "grid_template_columns": null,
            "flex": null,
            "_model_name": "LayoutModel",
            "justify_items": null,
            "grid_row": null,
            "max_height": null,
            "align_content": null,
            "visibility": null,
            "align_self": null,
            "height": null,
            "min_height": null,
            "padding": null,
            "grid_auto_rows": null,
            "grid_gap": null,
            "max_width": null,
            "order": null,
            "_view_module_version": "1.2.0",
            "grid_template_areas": null,
            "object_position": null,
            "object_fit": null,
            "grid_auto_columns": null,
            "margin": null,
            "display": null,
            "left": null
          }
        },
        "8834b9b712464f8aa70dba5bf6e63687": {
          "model_module": "@jupyter-widgets/controls",
          "model_name": "HBoxModel",
          "state": {
            "_view_name": "HBoxView",
            "_dom_classes": [],
            "_model_name": "HBoxModel",
            "_view_module": "@jupyter-widgets/controls",
            "_model_module_version": "1.5.0",
            "_view_count": null,
            "_view_module_version": "1.5.0",
            "box_style": "",
            "layout": "IPY_MODEL_10c9146d653349ef895d297d06316265",
            "_model_module": "@jupyter-widgets/controls",
            "children": [
              "IPY_MODEL_38543dc21f5b4e6da9db458ce571ab6b",
              "IPY_MODEL_fa144d44722840ac8b6a1a1023aa1fa2"
            ]
          }
        },
        "10c9146d653349ef895d297d06316265": {
          "model_module": "@jupyter-widgets/base",
          "model_name": "LayoutModel",
          "state": {
            "_view_name": "LayoutView",
            "grid_template_rows": null,
            "right": null,
            "justify_content": null,
            "_view_module": "@jupyter-widgets/base",
            "overflow": null,
            "_model_module_version": "1.2.0",
            "_view_count": null,
            "flex_flow": null,
            "width": null,
            "min_width": null,
            "border": null,
            "align_items": null,
            "bottom": null,
            "_model_module": "@jupyter-widgets/base",
            "top": null,
            "grid_column": null,
            "overflow_y": null,
            "overflow_x": null,
            "grid_auto_flow": null,
            "grid_area": null,
            "grid_template_columns": null,
            "flex": null,
            "_model_name": "LayoutModel",
            "justify_items": null,
            "grid_row": null,
            "max_height": null,
            "align_content": null,
            "visibility": null,
            "align_self": null,
            "height": null,
            "min_height": null,
            "padding": null,
            "grid_auto_rows": null,
            "grid_gap": null,
            "max_width": null,
            "order": null,
            "_view_module_version": "1.2.0",
            "grid_template_areas": null,
            "object_position": null,
            "object_fit": null,
            "grid_auto_columns": null,
            "margin": null,
            "display": null,
            "left": null
          }
        },
        "38543dc21f5b4e6da9db458ce571ab6b": {
          "model_module": "@jupyter-widgets/controls",
          "model_name": "FloatProgressModel",
          "state": {
            "_view_name": "ProgressView",
            "style": "IPY_MODEL_962bab4c65c94d339035fadc00545ab0",
            "_dom_classes": [],
            "description": "100%",
            "_model_name": "FloatProgressModel",
            "bar_style": "success",
            "max": 153429,
            "_view_module": "@jupyter-widgets/controls",
            "_model_module_version": "1.5.0",
            "value": 153429,
            "_view_count": null,
            "_view_module_version": "1.5.0",
            "orientation": "horizontal",
            "min": 0,
            "description_tooltip": null,
            "_model_module": "@jupyter-widgets/controls",
            "layout": "IPY_MODEL_b4bc5673cb4e45eaae50593c59b74c81"
          }
        },
        "fa144d44722840ac8b6a1a1023aa1fa2": {
          "model_module": "@jupyter-widgets/controls",
          "model_name": "HTMLModel",
          "state": {
            "_view_name": "HTMLView",
            "style": "IPY_MODEL_3a15d3f4be23400d8991a5fd4a029cb3",
            "_dom_classes": [],
            "description": "",
            "_model_name": "HTMLModel",
            "placeholder": "​",
            "_view_module": "@jupyter-widgets/controls",
            "_model_module_version": "1.5.0",
            "value": " 153429/153429 [01:11&lt;00:00, 2145.23it/s]",
            "_view_count": null,
            "_view_module_version": "1.5.0",
            "description_tooltip": null,
            "_model_module": "@jupyter-widgets/controls",
            "layout": "IPY_MODEL_3d3b664e5a4a4ac3b3935429bbc81038"
          }
        },
        "962bab4c65c94d339035fadc00545ab0": {
          "model_module": "@jupyter-widgets/controls",
          "model_name": "ProgressStyleModel",
          "state": {
            "_view_name": "StyleView",
            "_model_name": "ProgressStyleModel",
            "description_width": "initial",
            "_view_module": "@jupyter-widgets/base",
            "_model_module_version": "1.5.0",
            "_view_count": null,
            "_view_module_version": "1.2.0",
            "bar_color": null,
            "_model_module": "@jupyter-widgets/controls"
          }
        },
        "b4bc5673cb4e45eaae50593c59b74c81": {
          "model_module": "@jupyter-widgets/base",
          "model_name": "LayoutModel",
          "state": {
            "_view_name": "LayoutView",
            "grid_template_rows": null,
            "right": null,
            "justify_content": null,
            "_view_module": "@jupyter-widgets/base",
            "overflow": null,
            "_model_module_version": "1.2.0",
            "_view_count": null,
            "flex_flow": null,
            "width": null,
            "min_width": null,
            "border": null,
            "align_items": null,
            "bottom": null,
            "_model_module": "@jupyter-widgets/base",
            "top": null,
            "grid_column": null,
            "overflow_y": null,
            "overflow_x": null,
            "grid_auto_flow": null,
            "grid_area": null,
            "grid_template_columns": null,
            "flex": null,
            "_model_name": "LayoutModel",
            "justify_items": null,
            "grid_row": null,
            "max_height": null,
            "align_content": null,
            "visibility": null,
            "align_self": null,
            "height": null,
            "min_height": null,
            "padding": null,
            "grid_auto_rows": null,
            "grid_gap": null,
            "max_width": null,
            "order": null,
            "_view_module_version": "1.2.0",
            "grid_template_areas": null,
            "object_position": null,
            "object_fit": null,
            "grid_auto_columns": null,
            "margin": null,
            "display": null,
            "left": null
          }
        },
        "3a15d3f4be23400d8991a5fd4a029cb3": {
          "model_module": "@jupyter-widgets/controls",
          "model_name": "DescriptionStyleModel",
          "state": {
            "_view_name": "StyleView",
            "_model_name": "DescriptionStyleModel",
            "description_width": "",
            "_view_module": "@jupyter-widgets/base",
            "_model_module_version": "1.5.0",
            "_view_count": null,
            "_view_module_version": "1.2.0",
            "_model_module": "@jupyter-widgets/controls"
          }
        },
        "3d3b664e5a4a4ac3b3935429bbc81038": {
          "model_module": "@jupyter-widgets/base",
          "model_name": "LayoutModel",
          "state": {
            "_view_name": "LayoutView",
            "grid_template_rows": null,
            "right": null,
            "justify_content": null,
            "_view_module": "@jupyter-widgets/base",
            "overflow": null,
            "_model_module_version": "1.2.0",
            "_view_count": null,
            "flex_flow": null,
            "width": null,
            "min_width": null,
            "border": null,
            "align_items": null,
            "bottom": null,
            "_model_module": "@jupyter-widgets/base",
            "top": null,
            "grid_column": null,
            "overflow_y": null,
            "overflow_x": null,
            "grid_auto_flow": null,
            "grid_area": null,
            "grid_template_columns": null,
            "flex": null,
            "_model_name": "LayoutModel",
            "justify_items": null,
            "grid_row": null,
            "max_height": null,
            "align_content": null,
            "visibility": null,
            "align_self": null,
            "height": null,
            "min_height": null,
            "padding": null,
            "grid_auto_rows": null,
            "grid_gap": null,
            "max_width": null,
            "order": null,
            "_view_module_version": "1.2.0",
            "grid_template_areas": null,
            "object_position": null,
            "object_fit": null,
            "grid_auto_columns": null,
            "margin": null,
            "display": null,
            "left": null
          }
        }
      }
    }
  },
  "cells": [
    {
      "cell_type": "code",
      "metadata": {
        "id": "kcQTrd4XIdap",
        "colab_type": "code",
        "colab": {
          "base_uri": "https://localhost:8080/",
          "height": 292
        },
        "outputId": "72bfb5a5-a006-4373-e53c-7acfd8c70273"
      },
      "source": [
        "!python train.py"
      ],
      "execution_count": 190,
      "outputs": [
        {
          "output_type": "stream",
          "text": [
            "arena_data\t       movielens.py\t     tagstext.txt\n",
            "arena_util.py\t       myals.py\t\t     tags.vocab\n",
            "bm25K2.pkl\t       ndcg.txt\t\t     tmp1000.pkl\n",
            "bm25K6.pkl\t       omg2.json\t     tmp1000_real.pkl\n",
            "coo_real.txt\t       omg2_real.json\t     tmp1.pkl\n",
            "coo_train_only.txt     only_train.json\t     tmp2000.pkl\n",
            "coo_train_val.txt      __pycache__\t     tmp2000_real.pkl\n",
            "coo.txt\t\t       res\t\t     tmp2.pkl\n",
            "evaluate.py\t       run.py\t\t     train.py\n",
            "genre_most_popular.py  similar-playlist.txt  utils.py\n",
            "mask.pkl\t       song_id_map.pkl\t     with_val_train.json\n",
            "model.py\t       tag_id_map.pkl\n",
            "most_popular.py        tags.model\n",
            "Drive already mounted at /content/gdrive/; to attempt to forcibly remount, call drive.mount(\"/content/gdrive/\", force_remount=True).\n",
            "/content/gdrive/My Drive/melon-playlist-continuation\n"
          ],
          "name": "stdout"
        }
      ]
    },
    {
      "cell_type": "code",
      "metadata": {
        "id": "lYu5MMKt4qTj",
        "colab_type": "code",
        "colab": {}
      },
      "source": [
        "# myals.py line 23\n",
        "# movielens.py line 53"
      ],
      "execution_count": null,
      "outputs": []
    },
    {
      "cell_type": "code",
      "metadata": {
        "id": "OZ1M7CkNqbg6",
        "colab_type": "code",
        "colab": {
          "base_uri": "https://localhost:8080/",
          "height": 136
        },
        "outputId": "7d4efa38-e649-4d0b-a3c8-0e6619456d6a"
      },
      "source": [
        "%pip install fire\n",
        "%pip install implicit"
      ],
      "execution_count": 1,
      "outputs": [
        {
          "output_type": "stream",
          "text": [
            "Requirement already satisfied: fire in /usr/local/lib/python3.6/dist-packages (0.3.1)\n",
            "Requirement already satisfied: six in /usr/local/lib/python3.6/dist-packages (from fire) (1.12.0)\n",
            "Requirement already satisfied: termcolor in /usr/local/lib/python3.6/dist-packages (from fire) (1.1.0)\n",
            "Requirement already satisfied: implicit in /usr/local/lib/python3.6/dist-packages (0.4.2)\n",
            "Requirement already satisfied: numpy in /usr/local/lib/python3.6/dist-packages (from implicit) (1.18.5)\n",
            "Requirement already satisfied: scipy>=0.16 in /usr/local/lib/python3.6/dist-packages (from implicit) (1.4.1)\n",
            "Requirement already satisfied: tqdm>=4.27 in /usr/local/lib/python3.6/dist-packages (from implicit) (4.41.1)\n"
          ],
          "name": "stdout"
        }
      ]
    },
    {
      "cell_type": "code",
      "metadata": {
        "id": "JU9VHuXKrDok",
        "colab_type": "code",
        "colab": {
          "base_uri": "https://localhost:8080/",
          "height": 54
        },
        "outputId": "2cbde3b4-298f-4a50-d865-282a22739ba5"
      },
      "source": [
        "from google.colab import drive\n",
        "drive.mount('/content/gdrive/')"
      ],
      "execution_count": 1,
      "outputs": [
        {
          "output_type": "stream",
          "text": [
            "Drive already mounted at /content/gdrive/; to attempt to forcibly remount, call drive.mount(\"/content/gdrive/\", force_remount=True).\n"
          ],
          "name": "stdout"
        }
      ]
    },
    {
      "cell_type": "code",
      "metadata": {
        "id": "OOfwVSRTqeT1",
        "colab_type": "code",
        "colab": {
          "base_uri": "https://localhost:8080/",
          "height": 51
        },
        "outputId": "95e56db6-c432-4ba1-ceab-8f39acc1f6ad"
      },
      "source": [
        "%cd /content/gdrive/My\\ Drive/melon-playlist-continuation\n",
        "!pwd"
      ],
      "execution_count": 2,
      "outputs": [
        {
          "output_type": "stream",
          "text": [
            "/content/gdrive/My Drive/melon-playlist-continuation\n",
            "/content/gdrive/My Drive/melon-playlist-continuation\n"
          ],
          "name": "stdout"
        }
      ]
    },
    {
      "cell_type": "code",
      "metadata": {
        "id": "Y-ebd9kqsXJa",
        "colab_type": "code",
        "colab": {
          "base_uri": "https://localhost:8080/",
          "height": 285,
          "referenced_widgets": [
            "2d4193d043764a74aa733961827ec305",
            "a00dc3005d7e4eeab214ed72c2f0bec7",
            "ced8d69eab4a4db19dd7df9902f0b600",
            "eb3d2544c0734efc8033a5eb7cf76e83",
            "8faad67479dc4f75bd18e433010092b4",
            "612bd2efe2454a77a88e7933433c061e",
            "9db1c850235146ee863d9e198cafac84",
            "db14b169adb646e6beec7fa7f1d6ae9a",
            "e72df02b3ed04867a90e97d982b8244e",
            "751f93b1a04f489d882675d6ebc4e72d",
            "d02e9f483b6a4379a340f6468067350f",
            "5228393f32eb4d3ab29106d7a546858e",
            "10dfb9ce2a4b44909f5c5909e96be1e5",
            "2e94a71d6dc74a31add85ceeaab59538",
            "44d9a6677a3a4a85a64daf6f591e9e56",
            "9239be8d51464ab085d5ecaf1d68e29b"
          ]
        },
        "outputId": "ec322a30-39ac-44c3-ec54-0c8c7efe4556"
      },
      "source": [
        "run movielens.py --model myals --K 900"
      ],
      "execution_count": 110,
      "outputs": [
        {
          "output_type": "stream",
          "text": [
            "INFO:implicit:read data file in 6.9613378047943115\n",
            "WARNING:implicit:GPU training requires factor size to be a multiple of 32. Increasing factors from 900 to 928.\n",
            "DEBUG:implicit:weighting matrix by bm25_weight\n",
            "DEBUG:implicit:training model myals\n",
            "DEBUG:implicit:Calculated transpose in 0.456s\n",
            "DEBUG:implicit:Initialized factors in 7.480015277862549\n",
            "DEBUG:implicit:Running 15 ALS iterations\n"
          ],
          "name": "stderr"
        },
        {
          "output_type": "display_data",
          "data": {
            "application/vnd.jupyter.widget-view+json": {
              "model_id": "2d4193d043764a74aa733961827ec305",
              "version_minor": 0,
              "version_major": 2
            },
            "text/plain": [
              "HBox(children=(FloatProgress(value=0.0, max=15.0), HTML(value='')))"
            ]
          },
          "metadata": {
            "tags": []
          }
        },
        {
          "output_type": "stream",
          "text": [
            "\n"
          ],
          "name": "stdout"
        },
        {
          "output_type": "display_data",
          "data": {
            "application/vnd.jupyter.widget-view+json": {
              "model_id": "e72df02b3ed04867a90e97d982b8244e",
              "version_minor": 0,
              "version_major": 2
            },
            "text/plain": [
              "HBox(children=(FloatProgress(value=0.0, max=21027.0), HTML(value='')))"
            ]
          },
          "metadata": {
            "tags": []
          }
        },
        {
          "output_type": "stream",
          "text": [
            "tensor([[0.8795, 0.8200, 0.7786, 0.7757, 0.7624]], device='cuda:0')\n",
            "\n"
          ],
          "name": "stdout"
        },
        {
          "output_type": "stream",
          "text": [
            "DEBUG:implicit:trained model 'myals' in 284.1659598350525\n",
            "DEBUG:implicit:calculating top movies\n"
          ],
          "name": "stderr"
        }
      ]
    },
    {
      "cell_type": "code",
      "metadata": {
        "id": "LnXfqLkyA0H4",
        "colab_type": "code",
        "colab": {}
      },
      "source": [
        "import pickle\n",
        "with open('tag_id_map.pkl', 'rb') as f:\n",
        "    my_dict = pickle.load(f)\n",
        "    my_dict_inv = {} \n",
        "    for k, v in my_dict.items():\n",
        "        my_dict_inv[v] = k    \n",
        "f.close()\n"
      ],
      "execution_count": 7,
      "outputs": []
    },
    {
      "cell_type": "code",
      "metadata": {
        "id": "uL9OdPocAF0l",
        "colab_type": "code",
        "colab": {}
      },
      "source": [
        "import time\n",
        "import pandas as pd\n",
        "from arena_util import load_json\n",
        "from arena_util import write_json\n",
        "from arena_util import remove_seen\n",
        "from tqdm import tqdm\n",
        "\n",
        "train = pd.read_json('./arena_data/orig/train.json', encoding='UTF-8')\n",
        "val = pd.read_json('./arena_data/questions/val.json', encoding='UTF-8')\n",
        "song_meta = pd.read_json('./res/song_meta.json', encoding='UTF-8')\n",
        "most_results = pd.read_json('./arena_data/results/results.json', encoding='UTF-8')\n",
        "w2v_results = pd.read_json('./omg2.json', encoding='UTF-8')\n",
        "\n",
        "'''\n",
        "#train = pd.read_json('./arena_data/orig/train.json', encoding='UTF-8')\n",
        "train = pd.read_json('./res/train.json', encoding='UTF-8')\n",
        "#train = pd.read_json('./arena_data/tv.json', encoding='UTF-8')\n",
        "val = pd.read_json('./res/val.json', encoding='UTF-8')\n",
        "song_meta = pd.read_json('./res/song_meta.json', encoding='UTF-8')\n",
        "most_results = pd.read_json('./omg2_real.json', encoding='UTF-8')\n",
        "w2v_results = pd.read_json('./omg2_real.json', encoding='UTF-8')\n",
        "'''\n",
        "\n",
        "song_dict = {} # plylst id - song id\n",
        "tag_dic = {} # plylst id - tag\n",
        "data = pd.concat([train, val])\n",
        "data = data.set_index('id')\n",
        "\n",
        "song_dict = data['songs'].to_dict()\n",
        "tag_dict = data['tags'].to_dict()\n"
      ],
      "execution_count": 197,
      "outputs": []
    },
    {
      "cell_type": "code",
      "metadata": {
        "id": "sRIxyN1Jk6gV",
        "colab_type": "code",
        "colab": {
          "base_uri": "https://localhost:8080/",
          "height": 34
        },
        "outputId": "1ffebba0-af11-4e76-e655-b6b61f356734"
      },
      "source": [
        "from tqdm import tqdm\n",
        "import pickle\n",
        "with open(\"./tmp1.pkl\", 'rb') as f:\n",
        "#f = open(\"./tmp1000.pkl\", 'rb')\n",
        "#f = open(\"./tmp1000_real.pkl\", 'rb')\n",
        "    x = pickle.load(f)\n",
        "\n",
        "with open(\"./tmp2.pkl\", 'rb') as f:\n",
        "#f = open(\"./tmp2000.pkl\", 'rb')\n",
        "#f = open(\"./tmp2000_real.pkl\", 'rb')\n",
        "    y = pickle.load(f)\n",
        "\n",
        "cnt = 0\n",
        "answers1 = []\n",
        "for index, q in tqdm(val.iterrows()):\n",
        "    if q['songs'] != [] or q['tags'] != []:\n",
        "        answers1.append({\n",
        "            \"id\": q[\"id\"],\n",
        "            \"songs\": remove_seen(q[\"songs\"], x[cnt])[:200],\n",
        "            \"tags\": remove_seen(q[\"tags\"], [my_dict_inv[_] for _ in y[cnt]])[:20],\n",
        "        })\n",
        "        cnt += 1\n",
        "    \n",
        "    else:\n",
        "        answers1.append({\n",
        "          \"id\": w2v_results.loc[index][\"id\"],\n",
        "          \"songs\": w2v_results.loc[index]['songs'],\n",
        "          \"tags\": w2v_results.loc[index][\"tags\"],\n",
        "        })"
      ],
      "execution_count": 198,
      "outputs": [
        {
          "output_type": "stream",
          "text": [
            "23015it [00:05, 3977.45it/s]\n"
          ],
          "name": "stderr"
        }
      ]
    },
    {
      "cell_type": "code",
      "metadata": {
        "id": "v0K_rKsi7Et9",
        "colab_type": "code",
        "colab": {
          "base_uri": "https://localhost:8080/",
          "height": 185,
          "referenced_widgets": [
            "d782da4f8272496bbce644580029b32f",
            "2d0d8321e0f84954889c879901397951",
            "e00883e645e64cbf8f3b27c4d9b3cc10",
            "fa298ca4362649868179651cefb5e0dd",
            "620afe9efa644d1781638d8991fb5db4",
            "1853e5979d344dc79be99093f7096599",
            "0af175ddec0248758cdb2c653a421246",
            "75d2ceee38ae4e95824135aebf57c5fc"
          ]
        },
        "outputId": "15df6f67-4956-41ae-bbcb-61036ceaf81d"
      },
      "source": [
        "#run movielens.py --model bm25 --K 2"
      ],
      "execution_count": 95,
      "outputs": [
        {
          "output_type": "stream",
          "text": [
            "INFO:implicit:read data file in 8.404771327972412\n",
            "DEBUG:implicit:training model bm25\n"
          ],
          "name": "stderr"
        },
        {
          "output_type": "stream",
          "text": [
            "2\n"
          ],
          "name": "stdout"
        },
        {
          "output_type": "display_data",
          "data": {
            "application/vnd.jupyter.widget-view+json": {
              "model_id": "d782da4f8272496bbce644580029b32f",
              "version_minor": 0,
              "version_major": 2
            },
            "text/plain": [
              "HBox(children=(FloatProgress(value=0.0, max=153429.0), HTML(value='')))"
            ]
          },
          "metadata": {
            "tags": []
          }
        },
        {
          "output_type": "stream",
          "text": [
            "DEBUG:implicit:trained model 'bm25' in 19.449828624725342\n",
            "DEBUG:implicit:calculating top movies\n",
            "DEBUG:implicit:calculating similar playlists\n",
            "  0%|          | 0/153429 [00:00<?, ?it/s]"
          ],
          "name": "stderr"
        },
        {
          "output_type": "stream",
          "text": [
            "\n"
          ],
          "name": "stdout"
        },
        {
          "output_type": "stream",
          "text": [
            "100%|██████████| 153429/153429 [00:00<00:00, 342628.10it/s]\n"
          ],
          "name": "stderr"
        }
      ]
    },
    {
      "cell_type": "code",
      "metadata": {
        "id": "kY9qnqmaTbRR",
        "colab_type": "code",
        "colab": {
          "base_uri": "https://localhost:8080/",
          "height": 51
        },
        "outputId": "6320a436-fbca-4b4b-f9c4-b0ea037133e4"
      },
      "source": [
        "'''\n",
        "from tqdm import tqdm\n",
        "similar_playlist = {}\n",
        "f = open(\"./similar-playlist.txt\", 'r')\n",
        "try:\n",
        "  while True:\n",
        "    a, b, _ = f.readline().split()\n",
        "    a = int(a)\n",
        "    b = int(b)\n",
        "    if a==b:\n",
        "      continue\n",
        "    try:\n",
        "      similar_playlist[a].append(b)\n",
        "    except:\n",
        "      similar_playlist[a] = [b]\n",
        "except:\n",
        "  print(\"end\")\n",
        "f.close()\n",
        "\n",
        "answers2 = []\n",
        "for index, q in tqdm(val.iterrows()):\n",
        "    try:\n",
        "        most_id = similar_playlist[q['id']]\n",
        "        get_song = []\n",
        "        get_tag = []\n",
        "        for ID in most_id:\n",
        "            get_song += song_dict[int(ID)]\n",
        "            get_tag += tag_dict[int(ID)]\n",
        "        get_song = list(pd.value_counts(get_song)[:200].index)\n",
        "        get_tag = list(pd.value_counts(get_tag)[:20].index)\n",
        "        \n",
        "        answers2.append({\n",
        "            \"id\": q[\"id\"],\n",
        "            \"songs\": remove_seen(q[\"songs\"], get_song)[:200],\n",
        "            \"tags\": remove_seen(q[\"tags\"], get_tag)[:20],\n",
        "        })\n",
        "    \n",
        "    except KeyError:\n",
        "        answers2.append({\n",
        "          \"id\": w2v_results.loc[index][\"id\"],\n",
        "          \"songs\": w2v_results.loc[index]['songs'],\n",
        "          \"tags\": w2v_results.loc[index][\"tags\"],\n",
        "        }) \n",
        "'''"
      ],
      "execution_count": 96,
      "outputs": [
        {
          "output_type": "stream",
          "text": [
            "104it [00:00, 516.80it/s]"
          ],
          "name": "stderr"
        },
        {
          "output_type": "stream",
          "text": [
            "end\n"
          ],
          "name": "stdout"
        },
        {
          "output_type": "stream",
          "text": [
            "23015it [00:43, 534.60it/s]\n"
          ],
          "name": "stderr"
        }
      ]
    },
    {
      "cell_type": "code",
      "metadata": {
        "id": "ucG9R3_LKmN9",
        "colab_type": "code",
        "colab": {
          "base_uri": "https://localhost:8080/",
          "height": 185,
          "referenced_widgets": [
            "8834b9b712464f8aa70dba5bf6e63687",
            "10c9146d653349ef895d297d06316265",
            "38543dc21f5b4e6da9db458ce571ab6b",
            "fa144d44722840ac8b6a1a1023aa1fa2",
            "962bab4c65c94d339035fadc00545ab0",
            "b4bc5673cb4e45eaae50593c59b74c81",
            "3a15d3f4be23400d8991a5fd4a029cb3",
            "3d3b664e5a4a4ac3b3935429bbc81038"
          ]
        },
        "outputId": "02ff6c06-b15b-4f3e-cef3-3704e49e997c"
      },
      "source": [
        "#run movielens.py --model bm25 --K 6"
      ],
      "execution_count": 97,
      "outputs": [
        {
          "output_type": "stream",
          "text": [
            "INFO:implicit:read data file in 7.703733444213867\n",
            "DEBUG:implicit:training model bm25\n"
          ],
          "name": "stderr"
        },
        {
          "output_type": "stream",
          "text": [
            "6\n"
          ],
          "name": "stdout"
        },
        {
          "output_type": "display_data",
          "data": {
            "application/vnd.jupyter.widget-view+json": {
              "model_id": "8834b9b712464f8aa70dba5bf6e63687",
              "version_minor": 0,
              "version_major": 2
            },
            "text/plain": [
              "HBox(children=(FloatProgress(value=0.0, max=153429.0), HTML(value='')))"
            ]
          },
          "metadata": {
            "tags": []
          }
        },
        {
          "output_type": "stream",
          "text": [
            "DEBUG:implicit:trained model 'bm25' in 19.651859760284424\n",
            "DEBUG:implicit:calculating top movies\n",
            "DEBUG:implicit:calculating similar playlists\n",
            "  0%|          | 0/153429 [00:00<?, ?it/s]"
          ],
          "name": "stderr"
        },
        {
          "output_type": "stream",
          "text": [
            "\n"
          ],
          "name": "stdout"
        },
        {
          "output_type": "stream",
          "text": [
            "100%|██████████| 153429/153429 [00:00<00:00, 230391.48it/s]\n"
          ],
          "name": "stderr"
        }
      ]
    },
    {
      "cell_type": "code",
      "metadata": {
        "id": "eoAW7NVZ_Ze6",
        "colab_type": "code",
        "colab": {
          "base_uri": "https://localhost:8080/",
          "height": 51
        },
        "outputId": "5748418c-ccd8-440d-cad7-8f561ffda7f4"
      },
      "source": [
        "'''\n",
        "from tqdm import tqdm\n",
        "similar_playlist = {}\n",
        "f = open(\"./similar-playlist.txt\", 'r')\n",
        "try:\n",
        "  while True:\n",
        "    a, b, _ = f.readline().split()\n",
        "    a = int(a)\n",
        "    b = int(b)\n",
        "    if a==b:\n",
        "      continue\n",
        "    try:\n",
        "      similar_playlist[a].append(b)\n",
        "    except:\n",
        "      similar_playlist[a] = [b]\n",
        "except:\n",
        "  print(\"end\")\n",
        "f.close()\n",
        "\n",
        "answers3 = []\n",
        "for index, q in tqdm(val.iterrows()):\n",
        "    try:\n",
        "        most_id = similar_playlist[q['id']]\n",
        "        get_song = []\n",
        "        get_tag = []\n",
        "        for ID in most_id:\n",
        "            get_song += song_dict[int(ID)]\n",
        "            get_tag += tag_dict[int(ID)]\n",
        "        get_song = list(pd.value_counts(get_song)[:200].index)\n",
        "        get_tag = list(pd.value_counts(get_tag)[:20].index)\n",
        "        \n",
        "        answers3.append({\n",
        "            \"id\": q[\"id\"],\n",
        "            \"songs\": remove_seen(q[\"songs\"], get_song)[:200],\n",
        "            \"tags\": remove_seen(q[\"tags\"], get_tag)[:20],\n",
        "        })\n",
        "    \n",
        "    except KeyError:\n",
        "        answers3.append({\n",
        "          \"id\": w2v_results.loc[index][\"id\"],\n",
        "          \"songs\": w2v_results.loc[index]['songs'],\n",
        "          \"tags\": w2v_results.loc[index][\"tags\"],\n",
        "        }) \n",
        "'''"
      ],
      "execution_count": 98,
      "outputs": [
        {
          "output_type": "stream",
          "text": [
            "52it [00:00, 519.59it/s]"
          ],
          "name": "stderr"
        },
        {
          "output_type": "stream",
          "text": [
            "end\n"
          ],
          "name": "stdout"
        },
        {
          "output_type": "stream",
          "text": [
            "23015it [00:44, 513.72it/s]\n"
          ],
          "name": "stderr"
        }
      ]
    },
    {
      "cell_type": "code",
      "metadata": {
        "id": "kHrOQV4xS93Z",
        "colab_type": "code",
        "colab": {}
      },
      "source": [
        "import pickle\n",
        "f = open(\"./bm25K2.pkl\", 'rb')\n",
        "answers2 = pickle.load(f)\n",
        "f.close()\n",
        "f = open(\"./bm25K6.pkl\", 'rb')\n",
        "answers3 = pickle.load(f)\n",
        "f.close()\n"
      ],
      "execution_count": 113,
      "outputs": []
    },
    {
      "cell_type": "code",
      "metadata": {
        "id": "FFnNz1BITixP",
        "colab_type": "code",
        "colab": {}
      },
      "source": [
        "'''answers1 = answers1_\n",
        "answers2 = answers2_\n",
        "answers3 = answers3_'''"
      ],
      "execution_count": null,
      "outputs": []
    },
    {
      "cell_type": "code",
      "metadata": {
        "id": "LQcvjqNTaJ6V",
        "colab_type": "code",
        "colab": {}
      },
      "source": [
        "def date2int(st):\n",
        "    return int(st[:4]) * 10000 + int(st[5:7]) * 100 + int(st[8:10])\n",
        "song = load_json(\"./res/song_meta.json\")\n",
        "for i, a in enumerate(answers1):\n",
        "    tmp = []\n",
        "    date = date2int(val.iloc[i]['updt_date'])\n",
        "    for s in a['songs']:\n",
        "        d = int(song[s]['issue_date'])\n",
        "        if d <= date:\n",
        "            tmp.append(s)\n",
        "    a['songs'] = tmp\n",
        "'''\n",
        "for i, a in enumerate(answers2):\n",
        "    tmp = []\n",
        "    date = date2int(val.iloc[i]['updt_date'])\n",
        "    for s in a['songs']:\n",
        "        d = int(song[s]['issue_date'])\n",
        "        if d <= date:\n",
        "            tmp.append(s)\n",
        "    a['songs'] = tmp\n",
        "for i, a in enumerate(answers3):\n",
        "    tmp = []\n",
        "    date = date2int(val.iloc[i]['updt_date'])\n",
        "    for s in a['songs']:\n",
        "        d = int(song[s]['issue_date'])\n",
        "        if d <= date:\n",
        "            tmp.append(s)\n",
        "    a['songs'] = tmp\n",
        "'''"
      ],
      "execution_count": 114,
      "outputs": []
    },
    {
      "cell_type": "code",
      "metadata": {
        "id": "9agVfiKw86bt",
        "colab_type": "code",
        "colab": {}
      },
      "source": [
        "# 15 30 50\n",
        "\n",
        "answers = []\n",
        "for i in range(len(answers1)):\n",
        "  tmp = {}\n",
        "  tmp_song = {}\n",
        "  tmp_tag = {}\n",
        "  for n, j in enumerate(answers1[i]['songs']):\n",
        "      try:\n",
        "        tmp_song[j] += 1 / (n+15)\n",
        "      except:\n",
        "        tmp_song[j] = 1 / (n+15)\n",
        "  for n, j in enumerate(answers2[i]['songs']):\n",
        "      try:\n",
        "        tmp_song[j] += 1 / (n+30)\n",
        "      except:\n",
        "        tmp_song[j] = 1/ (n+30)\n",
        "  for n, j in enumerate(answers3[i]['songs']):\n",
        "      try:\n",
        "        tmp_song[j] += 1 / (n+50)\n",
        "      except:\n",
        "        tmp_song[j] = 1 / (n+50)\n",
        "  '''\n",
        "  for n, j in enumerate(answers4[i]['songs']):\n",
        "      try:\n",
        "        tmp_song[j] += 1 / (n+200)\n",
        "      except:\n",
        "        tmp_song[j] = 1 / (n+30) / 2\n",
        "  '''\n",
        "  \n",
        "          \n",
        "  sorted_keys = sorted(tmp_song.items(), reverse=True, key=lambda item: item[1])\n",
        "  sorted_keys = [k for (k, v) in sorted_keys]\n",
        "\n",
        "  tmp['id'] = answers1[i]['id']\n",
        "  tmp['songs'] = sorted_keys[:100]\n",
        "\n",
        "\n",
        "  for n, j in enumerate(answers1[i]['tags']):\n",
        "      try:\n",
        "        tmp_tag[j] += 1 / (n+15)\n",
        "      except:\n",
        "        tmp_tag[j] = 1 / (n+15)\n",
        "  for n, j in enumerate(answers2[i]['tags']):\n",
        "      try:\n",
        "        tmp_tag[j] += 1 / (n+30)\n",
        "      except:\n",
        "        tmp_tag[j] = 1 / (n+30)\n",
        "  for n, j in enumerate(answers3[i]['tags']):\n",
        "      try:\n",
        "        tmp_tag[j] += 1 / (n+50)\n",
        "      except:\n",
        "        tmp_tag[j] = 1/ (n+50)\n",
        "\n",
        "  sorted_keys = sorted(tmp_tag.items(), reverse=True, key=lambda item: item[1])\n",
        "  sorted_keys = [k for (k, v) in sorted_keys]\n",
        "\n",
        "\n",
        "\n",
        "\n",
        "  tmp['tags'] = sorted_keys[:10]\n",
        "  answers.append(tmp)\n",
        "\n",
        "for i, q in val.iterrows():\n",
        "    answers[i] = {\n",
        "        \"id\": q[\"id\"],\n",
        "        \"songs\": remove_seen(q[\"songs\"], answers[i]['songs'])[:100],\n",
        "        \"tags\": remove_seen(q[\"tags\"], answers[i]['tags'])[:10],\n",
        "    }\n",
        "\n",
        "cnt = 0\n",
        "for n, q in enumerate(answers):\n",
        "    if len(q['songs'])>100:\n",
        "        q['songs'] = q['songs'][:100]\n",
        "    if len(q['tags'])>10:\n",
        "        q['tags'] = q['tags'][:10]\n",
        "    if len(q['songs'])!=100:\n",
        "        cnt += 1\n",
        "        answers[n]['songs'] += remove_seen(q['songs'], most_results.loc[n]['songs'])[:100-len(q['songs'])]\n",
        "    if len(q['tags'])!=10:\n",
        "        answers[n]['tags'] += remove_seen(q['tags'], most_results.loc[n]['tags'])[:10-len(q['tags'])]\n",
        "for i, q in val.iterrows():\n",
        "    if(len(q['songs'])==0):\n",
        "        answers[i]['songs'] = w2v_results.loc[i]['songs'][:100]\n"
      ],
      "execution_count": 115,
      "outputs": []
    },
    {
      "cell_type": "code",
      "metadata": {
        "id": "Ez168xqhhr6J",
        "colab_type": "code",
        "colab": {}
      },
      "source": [
        "write_json(answers, \"./results/myans.json\")"
      ],
      "execution_count": 116,
      "outputs": []
    },
    {
      "cell_type": "code",
      "metadata": {
        "id": "F5KVy0qmVSa6",
        "colab_type": "code",
        "colab": {
          "base_uri": "https://localhost:8080/",
          "height": 68
        },
        "outputId": "57d32dcd-256b-4748-87b3-72aa9aba3469"
      },
      "source": [
        "run evaluate.py evaluate --gt_fname=arena_data/answers/val.json --rec_fname=arena_data/results/myans.json\n",
        "#0.2928"
      ],
      "execution_count": 118,
      "outputs": [
        {
          "output_type": "stream",
          "text": [
            "Music nDCG: 0.292374\n",
            "Tag nDCG: 0.410661\n",
            "Score: 0.310117\n"
          ],
          "name": "stdout"
        }
      ]
    },
    {
      "cell_type": "code",
      "metadata": {
        "id": "A3L3NSKIhaAu",
        "colab_type": "code",
        "colab": {
          "base_uri": "https://localhost:8080/",
          "height": 1000
        },
        "outputId": "c9f27fa6-b618-48a7-a89b-f8ae91ec0bc4"
      },
      "source": [
        "import arena_util as au\n",
        "v= au.load_json('./arena_data/questions/val.json')\n",
        "st = {}\n",
        "f = open(\"./ndcg.txt\", 'r')\n",
        "for i in range(len(v)):\n",
        "    nd = float(f.readline())\n",
        "    try:\n",
        "        st[(len(v[i]['songs']), len(v[i]['tags']))].append(nd)\n",
        "    except:\n",
        "        st[(len(v[i]['songs']), len(v[i]['tags']))] = [nd]\n",
        "\n",
        "for i in range(101):\n",
        "  print(\"노래%3d개\"%(i), end = \" \" )\n",
        "  for j in range(11):\n",
        "    try:\n",
        "      #print(\"%.2lf\"%(np.mean(st[(i, j)])), end=\" \")\n",
        "      print(len(st[(i,j)]), end=\" \")\n",
        "    except:\n",
        "      print(\" x  \", end=\" \")\n",
        "  print()\n"
      ],
      "execution_count": 140,
      "outputs": [
        {
          "output_type": "stream",
          "text": [
            "노래  0개 811 535 250 145 131 171  x    x    x    x    x   \n",
            "노래  1개 7 2  x    x    x    x    x    x    x    x    x   \n",
            "노래  2개 37 10 5  x    x    x    x    x    x    x    x   \n",
            "노래  3개 51 14 5 3  x    x    x    x    x    x    x   \n",
            "노래  4개 87 34 13 6 2 1  x    x    x    x    x   \n",
            "노래  5개 207 96 36 13 8 1  x    x    x    x    x   \n",
            "노래  6개 193 78 26 16 4 8  x    x    x    x    x   \n",
            "노래  7개 229 82 36 11 13 11  x    x    x    x    x   \n",
            "노래  8개 192 74 35 24 20 12  x    x    x    x    x   \n",
            "노래  9개 327 99 64 32 32 24  x    x    x    x    x   \n",
            "노래 10개 376 150 66 61 67 46  x    x    x    x    x   \n",
            "노래 11개 160 63 40 25 23 15  x    x    x    x    x   \n",
            "노래 12개 151 54 33 19 22 23  x    x    x    x    x   \n",
            "노래 13개 153 78 33 19 20 16  x    x    x    x    x   \n",
            "노래 14개 165 59 36 19 30 26  x    x    x    x    x   \n",
            "노래 15개 208 62 41 27 41 36  x    x    x    x    x   \n",
            "노래 16개 97 50 29 16 18 15  x    x    x    x    x   \n",
            "노래 17개 103 39 18 15 14 15  x    x    x    x    x   \n",
            "노래 18개 92 40 17 10 10 18  x    x    x    x    x   \n",
            "노래 19개 85 34 17 8 11 16  x    x    x    x    x   \n",
            "노래 20개 84 40 15 6 4 11  x    x    x    x    x   \n",
            "노래 21개 72 24 13 8 9 6  x    x    x    x    x   \n",
            "노래 22개 74 31 15 13 7 15  x    x    x    x    x   \n",
            "노래 23개 77 21 10 7 6 8  x    x    x    x    x   \n",
            "노래 24개 64 28 13 9 5 12  x    x    x    x    x   \n",
            "노래 25개 93 30 15 8 10 18  x    x    x    x    x   \n",
            "노래 26개 35 12 10 3 6 7  x    x    x    x    x   \n",
            "노래 27개 35 16 8 6 4 15  x    x    x    x    x   \n",
            "노래 28개 43 21 7 7 3 7  x    x    x    x    x   \n",
            "노래 29개 42 20 7 3 1 7  x    x    x    x    x   \n",
            "노래 30개 31 19 6 3 3 11  x    x    x    x    x   \n",
            "노래 31개 37 18 11 4 2 4  x    x    x    x    x   \n",
            "노래 32개 29 15 4 2 7 8  x    x    x    x    x   \n",
            "노래 33개 20 10 5 2 7 4  x    x    x    x    x   \n",
            "노래 34개 21 15 4 4  x   3  x    x    x    x    x   \n",
            "노래 35개 32 14 5 5 6 10  x    x    x    x    x   \n",
            "노래 36개 39 13 5 5 4 21  x    x    x    x    x   \n",
            "노래 37개 27 11 4 3 4 8  x    x    x    x    x   \n",
            "노래 38개 29 11 4 4 10 6  x    x    x    x    x   \n",
            "노래 39개 37 6 6 3 4 2  x    x    x    x    x   \n",
            "노래 40개 27 8 6 3 4 5  x    x    x    x    x   \n",
            "노래 41개 21 9 5 2 2 1  x    x    x    x    x   \n",
            "노래 42개 16 10 5 1 6 3  x    x    x    x    x   \n",
            "노래 43개 25 4 2 3 5 1  x    x    x    x    x   \n",
            "노래 44개 21 9 1 2 3 4  x    x    x    x    x   \n",
            "노래 45개 17 5 2  x   4 3  x    x    x    x    x   \n",
            "노래 46개 19 6 5 2 2 2  x    x    x    x    x   \n",
            "노래 47개 24 7  x   5 1 4  x    x    x    x    x   \n",
            "노래 48개 14 10 5 1 2 6  x    x    x    x    x   \n",
            "노래 49개 26 9 2 1 4 6  x    x    x    x    x   \n",
            "노래 50개 31 13 4 4 4 6  x    x    x    x    x   \n",
            "노래 51개 17 5 5 1 3 3  x    x    x    x    x   \n",
            "노래 52개 15 5 5 2 3 1  x    x    x    x    x   \n",
            "노래 53개 11 4  x   2 3 2  x    x    x    x    x   \n",
            "노래 54개 8 2 2 1 3  x    x    x    x    x    x   \n",
            "노래 55개 15 4  x   1 2 2  x    x    x    x    x   \n",
            "노래 56개 9 2 1 1 1 1  x    x    x    x    x   \n",
            "노래 57개 12 3 1 1 1 3  x    x    x    x    x   \n",
            "노래 58개 9 4 4  x    x    x    x    x    x    x    x   \n",
            "노래 59개 9 3 5  x   1  x    x    x    x    x    x   \n",
            "노래 60개 12 4 4  x    x   2  x    x    x    x    x   \n",
            "노래 61개 6 4 1  x   2 4  x    x    x    x    x   \n",
            "노래 62개 7 2  x   1 2  x    x    x    x    x    x   \n",
            "노래 63개 7 2 3 2 1 2  x    x    x    x    x   \n",
            "노래 64개 5 6 1  x   1 1  x    x    x    x    x   \n",
            "노래 65개 9 3  x   1  x    x    x    x    x    x    x   \n",
            "노래 66개 6 1 1  x    x    x    x    x    x    x    x   \n",
            "노래 67개 5 3  x    x   2 2  x    x    x    x    x   \n",
            "노래 68개 11 5 4  x    x    x    x    x    x    x    x   \n",
            "노래 69개 2 2  x   1  x   1  x    x    x    x    x   \n",
            "노래 70개 5 2 3 1 1  x    x    x    x    x    x   \n",
            "노래 71개 3 3  x   2 1 2  x    x    x    x    x   \n",
            "노래 72개 6  x    x    x   2 1  x    x    x    x    x   \n",
            "노래 73개 8 2 1 3 1 1  x    x    x    x    x   \n",
            "노래 74개 7 2  x   1  x   1  x    x    x    x    x   \n",
            "노래 75개 5 2 2  x    x   2  x    x    x    x    x   \n",
            "노래 76개 4  x    x    x    x   1  x    x    x    x    x   \n",
            "노래 77개 1 1 2 1  x    x    x    x    x    x    x   \n",
            "노래 78개 1 3 1 1  x    x    x    x    x    x    x   \n",
            "노래 79개 2 4  x    x   1  x    x    x    x    x    x   \n",
            "노래 80개 5  x   2  x    x    x    x    x    x    x    x   \n",
            "노래 81개 6 2  x   3 1  x    x    x    x    x    x   \n",
            "노래 82개 2  x   2  x    x    x    x    x    x    x    x   \n",
            "노래 83개 2  x   4  x    x   1  x    x    x    x    x   \n",
            "노래 84개 8  x   1  x   1  x    x    x    x    x    x   \n",
            "노래 85개 4 1 1 1  x    x    x    x    x    x    x   \n",
            "노래 86개 5  x    x    x   1  x    x    x    x    x    x   \n",
            "노래 87개 3 1  x    x    x   2  x    x    x    x    x   \n",
            "노래 88개 4 3 1 1  x    x    x    x    x    x    x   \n",
            "노래 89개 3 1  x    x    x    x    x    x    x    x    x   \n",
            "노래 90개 4  x   2 1  x   1  x    x    x    x    x   \n",
            "노래 91개 1 1  x    x    x    x    x    x    x    x    x   \n",
            "노래 92개 3 1  x    x    x   1  x    x    x    x    x   \n",
            "노래 93개 3 3  x    x    x   2  x    x    x    x    x   \n",
            "노래 94개 3  x   2  x    x   1  x    x    x    x    x   \n",
            "노래 95개 3 1 2  x    x    x    x    x    x    x    x   \n",
            "노래 96개 5 2  x    x   1  x    x    x    x    x    x   \n",
            "노래 97개 8 2 1  x    x    x    x    x    x    x    x   \n",
            "노래 98개 6 2  x    x    x    x    x    x    x    x    x   \n",
            "노래 99개 8 4 1  x    x    x    x    x    x    x    x   \n",
            "노래100개 122 64 24 13 18 24  x    x    x    x    x   \n"
          ],
          "name": "stdout"
        }
      ]
    },
    {
      "cell_type": "code",
      "metadata": {
        "id": "NgJDFK0dEWC7",
        "colab_type": "code",
        "colab": {}
      },
      "source": [
        "answers1 : myALS\n",
        "answers2 : \n",
        "answers3 : bm25-K=2\n",
        "answers4 : bm25-K=6"
      ],
      "execution_count": null,
      "outputs": []
    },
    {
      "cell_type": "code",
      "metadata": {
        "id": "sef5CfSbP8h4",
        "colab_type": "code",
        "colab": {
          "base_uri": "https://localhost:8080/",
          "height": 34
        },
        "outputId": "5613cfc8-8024-46f2-bbee-64d93104cd84"
      },
      "source": [
        "import myals\n",
        "import imp\n",
        "imp.reload(myals)\n"
      ],
      "execution_count": 109,
      "outputs": [
        {
          "output_type": "execute_result",
          "data": {
            "text/plain": [
              "<module 'myals' from '/content/gdrive/My Drive/melon-playlist-continuation/myals.py'>"
            ]
          },
          "metadata": {
            "tags": []
          },
          "execution_count": 109
        }
      ]
    },
    {
      "cell_type": "code",
      "metadata": {
        "id": "01hclCk8Ghhq",
        "colab_type": "code",
        "colab": {
          "base_uri": "https://localhost:8080/",
          "height": 122
        },
        "outputId": "1a4392e0-cf69-4ee0-b2f8-2395456d807b"
      },
      "source": [
        "%pip install sentencepiece"
      ],
      "execution_count": 144,
      "outputs": [
        {
          "output_type": "stream",
          "text": [
            "Collecting sentencepiece\n",
            "\u001b[?25l  Downloading https://files.pythonhosted.org/packages/d4/a4/d0a884c4300004a78cca907a6ff9a5e9fe4f090f5d95ab341c53d28cbc58/sentencepiece-0.1.91-cp36-cp36m-manylinux1_x86_64.whl (1.1MB)\n",
            "\r\u001b[K     |▎                               | 10kB 7.4MB/s eta 0:00:01\r\u001b[K     |▋                               | 20kB 2.2MB/s eta 0:00:01\r\u001b[K     |█                               | 30kB 3.1MB/s eta 0:00:01\r\u001b[K     |█▏                              | 40kB 2.4MB/s eta 0:00:01\r\u001b[K     |█▌                              | 51kB 3.0MB/s eta 0:00:01\r\u001b[K     |█▉                              | 61kB 3.3MB/s eta 0:00:01\r\u001b[K     |██▏                             | 71kB 3.7MB/s eta 0:00:01\r\u001b[K     |██▍                             | 81kB 3.9MB/s eta 0:00:01\r\u001b[K     |██▊                             | 92kB 4.2MB/s eta 0:00:01\r\u001b[K     |███                             | 102kB 4.2MB/s eta 0:00:01\r\u001b[K     |███▍                            | 112kB 4.2MB/s eta 0:00:01\r\u001b[K     |███▋                            | 122kB 4.2MB/s eta 0:00:01\r\u001b[K     |████                            | 133kB 4.2MB/s eta 0:00:01\r\u001b[K     |████▎                           | 143kB 4.2MB/s eta 0:00:01\r\u001b[K     |████▋                           | 153kB 4.2MB/s eta 0:00:01\r\u001b[K     |████▉                           | 163kB 4.2MB/s eta 0:00:01\r\u001b[K     |█████▏                          | 174kB 4.2MB/s eta 0:00:01\r\u001b[K     |█████▌                          | 184kB 4.2MB/s eta 0:00:01\r\u001b[K     |█████▉                          | 194kB 4.2MB/s eta 0:00:01\r\u001b[K     |██████                          | 204kB 4.2MB/s eta 0:00:01\r\u001b[K     |██████▍                         | 215kB 4.2MB/s eta 0:00:01\r\u001b[K     |██████▊                         | 225kB 4.2MB/s eta 0:00:01\r\u001b[K     |███████                         | 235kB 4.2MB/s eta 0:00:01\r\u001b[K     |███████▎                        | 245kB 4.2MB/s eta 0:00:01\r\u001b[K     |███████▋                        | 256kB 4.2MB/s eta 0:00:01\r\u001b[K     |████████                        | 266kB 4.2MB/s eta 0:00:01\r\u001b[K     |████████▎                       | 276kB 4.2MB/s eta 0:00:01\r\u001b[K     |████████▌                       | 286kB 4.2MB/s eta 0:00:01\r\u001b[K     |████████▉                       | 296kB 4.2MB/s eta 0:00:01\r\u001b[K     |█████████▏                      | 307kB 4.2MB/s eta 0:00:01\r\u001b[K     |█████████▌                      | 317kB 4.2MB/s eta 0:00:01\r\u001b[K     |█████████▊                      | 327kB 4.2MB/s eta 0:00:01\r\u001b[K     |██████████                      | 337kB 4.2MB/s eta 0:00:01\r\u001b[K     |██████████▍                     | 348kB 4.2MB/s eta 0:00:01\r\u001b[K     |██████████▊                     | 358kB 4.2MB/s eta 0:00:01\r\u001b[K     |███████████                     | 368kB 4.2MB/s eta 0:00:01\r\u001b[K     |███████████▎                    | 378kB 4.2MB/s eta 0:00:01\r\u001b[K     |███████████▋                    | 389kB 4.2MB/s eta 0:00:01\r\u001b[K     |████████████                    | 399kB 4.2MB/s eta 0:00:01\r\u001b[K     |████████████▏                   | 409kB 4.2MB/s eta 0:00:01\r\u001b[K     |████████████▌                   | 419kB 4.2MB/s eta 0:00:01\r\u001b[K     |████████████▉                   | 430kB 4.2MB/s eta 0:00:01\r\u001b[K     |█████████████▏                  | 440kB 4.2MB/s eta 0:00:01\r\u001b[K     |█████████████▍                  | 450kB 4.2MB/s eta 0:00:01\r\u001b[K     |█████████████▊                  | 460kB 4.2MB/s eta 0:00:01\r\u001b[K     |██████████████                  | 471kB 4.2MB/s eta 0:00:01\r\u001b[K     |██████████████▍                 | 481kB 4.2MB/s eta 0:00:01\r\u001b[K     |██████████████▋                 | 491kB 4.2MB/s eta 0:00:01\r\u001b[K     |███████████████                 | 501kB 4.2MB/s eta 0:00:01\r\u001b[K     |███████████████▎                | 512kB 4.2MB/s eta 0:00:01\r\u001b[K     |███████████████▋                | 522kB 4.2MB/s eta 0:00:01\r\u001b[K     |███████████████▉                | 532kB 4.2MB/s eta 0:00:01\r\u001b[K     |████████████████▏               | 542kB 4.2MB/s eta 0:00:01\r\u001b[K     |████████████████▌               | 552kB 4.2MB/s eta 0:00:01\r\u001b[K     |████████████████▉               | 563kB 4.2MB/s eta 0:00:01\r\u001b[K     |█████████████████               | 573kB 4.2MB/s eta 0:00:01\r\u001b[K     |█████████████████▍              | 583kB 4.2MB/s eta 0:00:01\r\u001b[K     |█████████████████▊              | 593kB 4.2MB/s eta 0:00:01\r\u001b[K     |██████████████████              | 604kB 4.2MB/s eta 0:00:01\r\u001b[K     |██████████████████▎             | 614kB 4.2MB/s eta 0:00:01\r\u001b[K     |██████████████████▋             | 624kB 4.2MB/s eta 0:00:01\r\u001b[K     |███████████████████             | 634kB 4.2MB/s eta 0:00:01\r\u001b[K     |███████████████████▎            | 645kB 4.2MB/s eta 0:00:01\r\u001b[K     |███████████████████▌            | 655kB 4.2MB/s eta 0:00:01\r\u001b[K     |███████████████████▉            | 665kB 4.2MB/s eta 0:00:01\r\u001b[K     |████████████████████▏           | 675kB 4.2MB/s eta 0:00:01\r\u001b[K     |████████████████████▌           | 686kB 4.2MB/s eta 0:00:01\r\u001b[K     |████████████████████▊           | 696kB 4.2MB/s eta 0:00:01\r\u001b[K     |█████████████████████           | 706kB 4.2MB/s eta 0:00:01\r\u001b[K     |█████████████████████▍          | 716kB 4.2MB/s eta 0:00:01\r\u001b[K     |█████████████████████▋          | 727kB 4.2MB/s eta 0:00:01\r\u001b[K     |██████████████████████          | 737kB 4.2MB/s eta 0:00:01\r\u001b[K     |██████████████████████▎         | 747kB 4.2MB/s eta 0:00:01\r\u001b[K     |██████████████████████▋         | 757kB 4.2MB/s eta 0:00:01\r\u001b[K     |██████████████████████▉         | 768kB 4.2MB/s eta 0:00:01\r\u001b[K     |███████████████████████▏        | 778kB 4.2MB/s eta 0:00:01\r\u001b[K     |███████████████████████▌        | 788kB 4.2MB/s eta 0:00:01\r\u001b[K     |███████████████████████▉        | 798kB 4.2MB/s eta 0:00:01\r\u001b[K     |████████████████████████        | 808kB 4.2MB/s eta 0:00:01\r\u001b[K     |████████████████████████▍       | 819kB 4.2MB/s eta 0:00:01\r\u001b[K     |████████████████████████▊       | 829kB 4.2MB/s eta 0:00:01\r\u001b[K     |█████████████████████████       | 839kB 4.2MB/s eta 0:00:01\r\u001b[K     |█████████████████████████▎      | 849kB 4.2MB/s eta 0:00:01\r\u001b[K     |█████████████████████████▋      | 860kB 4.2MB/s eta 0:00:01\r\u001b[K     |██████████████████████████      | 870kB 4.2MB/s eta 0:00:01\r\u001b[K     |██████████████████████████▎     | 880kB 4.2MB/s eta 0:00:01\r\u001b[K     |██████████████████████████▌     | 890kB 4.2MB/s eta 0:00:01\r\u001b[K     |██████████████████████████▉     | 901kB 4.2MB/s eta 0:00:01\r\u001b[K     |███████████████████████████▏    | 911kB 4.2MB/s eta 0:00:01\r\u001b[K     |███████████████████████████▌    | 921kB 4.2MB/s eta 0:00:01\r\u001b[K     |███████████████████████████▊    | 931kB 4.2MB/s eta 0:00:01\r\u001b[K     |████████████████████████████    | 942kB 4.2MB/s eta 0:00:01\r\u001b[K     |████████████████████████████▍   | 952kB 4.2MB/s eta 0:00:01\r\u001b[K     |████████████████████████████▊   | 962kB 4.2MB/s eta 0:00:01\r\u001b[K     |█████████████████████████████   | 972kB 4.2MB/s eta 0:00:01\r\u001b[K     |█████████████████████████████▎  | 983kB 4.2MB/s eta 0:00:01\r\u001b[K     |█████████████████████████████▋  | 993kB 4.2MB/s eta 0:00:01\r\u001b[K     |██████████████████████████████  | 1.0MB 4.2MB/s eta 0:00:01\r\u001b[K     |██████████████████████████████▏ | 1.0MB 4.2MB/s eta 0:00:01\r\u001b[K     |██████████████████████████████▌ | 1.0MB 4.2MB/s eta 0:00:01\r\u001b[K     |██████████████████████████████▉ | 1.0MB 4.2MB/s eta 0:00:01\r\u001b[K     |███████████████████████████████▏| 1.0MB 4.2MB/s eta 0:00:01\r\u001b[K     |███████████████████████████████▍| 1.1MB 4.2MB/s eta 0:00:01\r\u001b[K     |███████████████████████████████▊| 1.1MB 4.2MB/s eta 0:00:01\r\u001b[K     |████████████████████████████████| 1.1MB 4.2MB/s \n",
            "\u001b[?25hInstalling collected packages: sentencepiece\n",
            "Successfully installed sentencepiece-0.1.91\n"
          ],
          "name": "stdout"
        }
      ]
    },
    {
      "cell_type": "code",
      "metadata": {
        "id": "AhQ5pnGk9Exe",
        "colab_type": "code",
        "colab": {}
      },
      "source": [
        "import sentencepiece as spm"
      ],
      "execution_count": 145,
      "outputs": []
    },
    {
      "cell_type": "code",
      "metadata": {
        "id": "jhE6blyT9IW8",
        "colab_type": "code",
        "colab": {}
      },
      "source": [
        "import arena_util as au\n",
        "\n",
        "train = au.load_json('./res/train.json')\n",
        "val = au.load_json('./res/val.json')\n",
        "test = au.load_json('./res/test.json')\n"
      ],
      "execution_count": 146,
      "outputs": []
    },
    {
      "cell_type": "code",
      "metadata": {
        "id": "hf_7k3HS9eCM",
        "colab_type": "code",
        "colab": {}
      },
      "source": [
        "f = open('tagstext.txt', 'w', encoding='utf8')\n",
        "for i in train:\n",
        "  if(i['plylst_title']!=''):\n",
        "    f.write(i['plylst_title']+\"\\n\")\n",
        "for i in val:\n",
        "  if(i['plylst_title']!=''):\n",
        "    f.write(i['plylst_title']+\"\\n\")\n",
        "for i in test:\n",
        "  if(i['plylst_title']!=''):\n",
        "    f.write(i['plylst_title']+\"\\n\")\n",
        "f.close()"
      ],
      "execution_count": 156,
      "outputs": []
    },
    {
      "cell_type": "code",
      "metadata": {
        "id": "bL_H1KOI-iaN",
        "colab_type": "code",
        "colab": {}
      },
      "source": [
        "spm.SentencePieceTrainer.Train('--input=tagstext.txt --model_prefix=tags --vocab_size=5000 --model_type=bpe --max_sentence_length=9999')"
      ],
      "execution_count": 158,
      "outputs": []
    },
    {
      "cell_type": "code",
      "metadata": {
        "id": "kYB688PT-vYi",
        "colab_type": "code",
        "colab": {
          "base_uri": "https://localhost:8080/",
          "height": 359
        },
        "outputId": "a345b5fa-9912-4723-a0d0-379651e76ed4"
      },
      "source": [
        "import csv\n",
        "vocab_list = pd.read_csv('tags.vocab', sep='\\t', header=None, quoting=csv.QUOTE_NONE)\n",
        "vocab_list.sample(10)"
      ],
      "execution_count": 161,
      "outputs": [
        {
          "output_type": "execute_result",
          "data": {
            "text/html": [
              "<div>\n",
              "<style scoped>\n",
              "    .dataframe tbody tr th:only-of-type {\n",
              "        vertical-align: middle;\n",
              "    }\n",
              "\n",
              "    .dataframe tbody tr th {\n",
              "        vertical-align: top;\n",
              "    }\n",
              "\n",
              "    .dataframe thead th {\n",
              "        text-align: right;\n",
              "    }\n",
              "</style>\n",
              "<table border=\"1\" class=\"dataframe\">\n",
              "  <thead>\n",
              "    <tr style=\"text-align: right;\">\n",
              "      <th></th>\n",
              "      <th>0</th>\n",
              "      <th>1</th>\n",
              "    </tr>\n",
              "  </thead>\n",
              "  <tbody>\n",
              "    <tr>\n",
              "      <th>1431</th>\n",
              "      <td>▁유명</td>\n",
              "      <td>-1428</td>\n",
              "    </tr>\n",
              "    <tr>\n",
              "      <th>3530</th>\n",
              "      <td>렉</td>\n",
              "      <td>-3527</td>\n",
              "    </tr>\n",
              "    <tr>\n",
              "      <th>4769</th>\n",
              "      <td>˃</td>\n",
              "      <td>-4766</td>\n",
              "    </tr>\n",
              "    <tr>\n",
              "      <th>4034</th>\n",
              "      <td>항</td>\n",
              "      <td>-4031</td>\n",
              "    </tr>\n",
              "    <tr>\n",
              "      <th>2532</th>\n",
              "      <td>았던</td>\n",
              "      <td>-2529</td>\n",
              "    </tr>\n",
              "    <tr>\n",
              "      <th>2921</th>\n",
              "      <td>▁느낌적인</td>\n",
              "      <td>-2918</td>\n",
              "    </tr>\n",
              "    <tr>\n",
              "      <th>973</th>\n",
              "      <td>▁뜨</td>\n",
              "      <td>-970</td>\n",
              "    </tr>\n",
              "    <tr>\n",
              "      <th>807</th>\n",
              "      <td>▁자장가</td>\n",
              "      <td>-804</td>\n",
              "    </tr>\n",
              "    <tr>\n",
              "      <th>4105</th>\n",
              "      <td>덥</td>\n",
              "      <td>-4102</td>\n",
              "    </tr>\n",
              "    <tr>\n",
              "      <th>4073</th>\n",
              "      <td>빨</td>\n",
              "      <td>-4070</td>\n",
              "    </tr>\n",
              "  </tbody>\n",
              "</table>\n",
              "</div>"
            ],
            "text/plain": [
              "          0     1\n",
              "1431    ▁유명 -1428\n",
              "3530      렉 -3527\n",
              "4769      ˃ -4766\n",
              "4034      항 -4031\n",
              "2532     았던 -2529\n",
              "2921  ▁느낌적인 -2918\n",
              "973      ▁뜨  -970\n",
              "807    ▁자장가  -804\n",
              "4105      덥 -4102\n",
              "4073      빨 -4070"
            ]
          },
          "metadata": {
            "tags": []
          },
          "execution_count": 161
        }
      ]
    },
    {
      "cell_type": "code",
      "metadata": {
        "id": "HbZojzPZ-73H",
        "colab_type": "code",
        "colab": {
          "base_uri": "https://localhost:8080/",
          "height": 34
        },
        "outputId": "e87501d7-d905-4c9f-974f-55842a2b5c92"
      },
      "source": [
        "sp = spm.SentencePieceProcessor()\n",
        "vocab_file = \"tags.model\"\n",
        "sp.load(vocab_file)"
      ],
      "execution_count": 162,
      "outputs": [
        {
          "output_type": "execute_result",
          "data": {
            "text/plain": [
              "True"
            ]
          },
          "metadata": {
            "tags": []
          },
          "execution_count": 162
        }
      ]
    },
    {
      "cell_type": "code",
      "metadata": {
        "id": "bX_Npm5S_Ebi",
        "colab_type": "code",
        "colab": {
          "base_uri": "https://localhost:8080/",
          "height": 85
        },
        "outputId": "f51c2f7f-5798-40fa-c762-078419bcb396"
      },
      "source": [
        "line = train[8]['plylst_title']\n",
        "print(line)\n",
        "print(sp.encode_as_pieces(line))\n",
        "print(sp.encode_as_ids(line))\n",
        "print()"
      ],
      "execution_count": 185,
      "outputs": [
        {
          "output_type": "stream",
          "text": [
            "DANCING IN THE MOON-LIGHT .01\n",
            "['▁D', 'AN', 'C', 'ING', '▁IN', '▁THE', '▁M', 'O', 'ON', '-', 'L', 'I', 'G', 'H', 'T', '▁.01']\n",
            "[207, 1313, 3399, 3248, 3212, 1372, 110, 3348, 881, 3395, 3463, 3449, 3486, 3443, 3365, 1789]\n",
            "\n"
          ],
          "name": "stdout"
        }
      ]
    },
    {
      "cell_type": "code",
      "metadata": {
        "id": "qM7KlAc0BzpI",
        "colab_type": "code",
        "colab": {}
      },
      "source": [
        "def process_to_IDs_in_sparse_format(sp, sentences):\n",
        "  # An utility method that processes sentences with the sentence piece processor\n",
        "  # 'sp' and returns the results in tf.SparseTensor-similar format:\n",
        "  # (values, indices, dense_shape)\n",
        "  ids = [sp.EncodeAsIds(x) for x in sentences]\n",
        "  max_len = max(len(x) for x in ids)\n",
        "  dense_shape=(len(ids), max_len)\n",
        "  values=[item for sublist in ids for item in sublist]\n",
        "  indices=[[row,col] for row in range(len(ids)) for col in range(len(ids[row]))]\n",
        "  return (values, indices, dense_shape)"
      ],
      "execution_count": 166,
      "outputs": []
    }
  ]
}